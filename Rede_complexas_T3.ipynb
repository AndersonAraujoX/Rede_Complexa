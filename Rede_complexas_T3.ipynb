{
  "cells": [
    {
      "cell_type": "markdown",
      "metadata": {
        "id": "view-in-github",
        "colab_type": "text"
      },
      "source": [
        "<a href=\"https://colab.research.google.com/github/AndersonAraujoX/Rede_Complexa/blob/main/Rede_complexas_T3.ipynb\" target=\"_parent\"><img src=\"https://colab.research.google.com/assets/colab-badge.svg\" alt=\"Open In Colab\"/></a>"
      ]
    },
    {
      "cell_type": "markdown",
      "source": [
        "### Relatório do Artigo do Luciano \n",
        "\n",
        "Nome: Anderson Araujo de Oliveira\n",
        "\n",
        "N USP° 11371311\n",
        "\n",
        "# Bibliotecas Utilizadas"
      ],
      "metadata": {
        "id": "KDBGgwPMeVsi"
      }
    },
    {
      "cell_type": "code",
      "execution_count": null,
      "metadata": {
        "colab": {
          "base_uri": "https://localhost:8080/"
        },
        "id": "mx-TJN4xsiCc",
        "outputId": "a5f9322f-1c51-44c2-89ea-3509e47a64ba"
      },
      "outputs": [
        {
          "output_type": "stream",
          "name": "stdout",
          "text": [
            "Looking in indexes: https://pypi.org/simple, https://us-python.pkg.dev/colab-wheels/public/simple/\n",
            "Collecting algorithmx\n",
            "  Downloading algorithmx-2.0.3-py3-none-any.whl (1.6 MB)\n",
            "\u001b[2K     \u001b[90m━━━━━━━━━━━━━━━━━━━━━━━━━━━━━━━━━━━━━━━━\u001b[0m \u001b[32m1.6/1.6 MB\u001b[0m \u001b[31m25.7 MB/s\u001b[0m eta \u001b[36m0:00:00\u001b[0m\n",
            "\u001b[?25hInstalling collected packages: algorithmx\n",
            "Successfully installed algorithmx-2.0.3\n"
          ]
        }
      ],
      "source": [
        "!pip install algorithmx"
      ]
    },
    {
      "cell_type": "code",
      "execution_count": null,
      "metadata": {
        "id": "L-JOWCM-cKZu"
      },
      "outputs": [],
      "source": [
        "import matplotlib.pyplot as plt\n",
        "import networkx as nx\n",
        "import numpy as np\n",
        "import math as math\n",
        "import matplotlib.pyplot as plt\n",
        "import random as random\n",
        "from algorithmx import jupyter_canvas\n",
        "from google.colab import output\n",
        "from networkx.algorithms.community.centrality import girvan_newman\n",
        "from sklearn.decomposition import PCA\n",
        "from scipy.linalg import eigh\n",
        "\n",
        "output.enable_custom_widget_manager()"
      ]
    },
    {
      "cell_type": "markdown",
      "source": [
        "# Grafos utilizados\n",
        "\n",
        "- Strogatz-Watt\n",
        "\n",
        "O modelo de Watts-Strogatz é um modelo aleatório de geração de grafos que produz grafos com propriedades de pequeno mundo, incluindo comprimentos de trajeto médios curtos e alta clustering.\n",
        "\n",
        "- Erdos-Renyis\n",
        "\n",
        "O modelo Erdõs-Rényi é um dos dois modelos estritamente relacionados para gerar grafos aleatórios, que inclui o limite entre cada par de nós com igual probabilidade, independentemente das extremidades.\n",
        "\n",
        "- Barabasi-Albert\n",
        "\n",
        "O modelo de Barabási–Albert (BA) é um algoritmo para gerar redes sem escala de forma aleatória: a rede cresce através da inclusão de novos nós no decorrer do tempo, e esses novos nós se ligam aos nós já existentes na rede com probabilidade proporcional ao grau.\n",
        "\n",
        "- Karate Club\n",
        "\n",
        "O Karate Club é uma biblioteca de extensão de aprendizado de máquina não supervisionada para NetworkX."
      ],
      "metadata": {
        "id": "6xoZ1O66_klU"
      }
    },
    {
      "cell_type": "code",
      "source": [
        "Sw=nx.watts_strogatz_graph(50,5,0)\n",
        "Er=nx.erdos_renyi_graph(50,0.1)\n",
        "Ba=nx.barabasi_albert_graph(50,3)\n",
        "Kc=nx.karate_club_graph()"
      ],
      "metadata": {
        "id": "6qEax1hvAh1o"
      },
      "execution_count": null,
      "outputs": []
    },
    {
      "cell_type": "code",
      "source": [
        "canvas = jupyter_canvas()\n",
        "\n",
        "canvas.nodes(Sw.nodes).add(color=\"orange\")\n",
        "canvas.edges(Sw.edges).add()\n",
        "\n",
        "canvas"
      ],
      "metadata": {
        "colab": {
          "base_uri": "https://localhost:8080/",
          "height": 271,
          "referenced_widgets": [
            "83cdeb120e51448da9057463821248be",
            "85c1620301ab4444be570817cfd42d9f"
          ]
        },
        "id": "hd3BhFfDnWlO",
        "outputId": "e1c2e94a-1806-4ed0-eb99-465dfdb09877"
      },
      "execution_count": null,
      "outputs": [
        {
          "output_type": "display_data",
          "data": {
            "text/plain": [
              "JupyterWidget(events=['{\"attrs\": {\"nodes\": {\"0\": {\"color\": \"orange\"}, \"1\": {\"color\": \"orange\"}, \"2\": {\"color\":…"
            ],
            "application/vnd.jupyter.widget-view+json": {
              "version_major": 2,
              "version_minor": 0,
              "model_id": "83cdeb120e51448da9057463821248be"
            }
          },
          "metadata": {
            "application/vnd.jupyter.widget-view+json": {
              "colab": {
                "custom_widget_manager": {
                  "url": "https://ssl.gstatic.com/colaboratory-static/widgets/colab-cdn-widget-manager/b3e629b1971e1542/manager.min.js"
                }
              }
            }
          }
        }
      ]
    },
    {
      "cell_type": "code",
      "source": [
        "canvas = jupyter_canvas()\n",
        "\n",
        "canvas.nodes(Er.nodes).add(color=\"red\")\n",
        "canvas.edges(Er.edges).add()\n",
        "\n",
        "canvas"
      ],
      "metadata": {
        "colab": {
          "base_uri": "https://localhost:8080/",
          "height": 271,
          "referenced_widgets": [
            "2085a09f4f534ddeb3432910c997ba24",
            "d4b2e26940284ea09d3b3f17a9d504ef"
          ]
        },
        "id": "QjZvXAJ6nsTA",
        "outputId": "fbbb8d2f-dcdc-42fc-9a6e-c1fda6afb094"
      },
      "execution_count": null,
      "outputs": [
        {
          "output_type": "display_data",
          "data": {
            "text/plain": [
              "JupyterWidget(events=['{\"attrs\": {\"nodes\": {\"0\": {\"color\": \"red\"}, \"1\": {\"color\": \"red\"}, \"2\": {\"color\": \"red\"…"
            ],
            "application/vnd.jupyter.widget-view+json": {
              "version_major": 2,
              "version_minor": 0,
              "model_id": "2085a09f4f534ddeb3432910c997ba24"
            }
          },
          "metadata": {
            "application/vnd.jupyter.widget-view+json": {
              "colab": {
                "custom_widget_manager": {
                  "url": "https://ssl.gstatic.com/colaboratory-static/widgets/colab-cdn-widget-manager/b3e629b1971e1542/manager.min.js"
                }
              }
            }
          }
        }
      ]
    },
    {
      "cell_type": "code",
      "source": [
        "canvas = jupyter_canvas()\n",
        "\n",
        "canvas.nodes(Ba.nodes).add(color=\"blue\")\n",
        "canvas.edges(Ba.edges).add()\n",
        "\n",
        "canvas"
      ],
      "metadata": {
        "colab": {
          "base_uri": "https://localhost:8080/",
          "height": 271,
          "referenced_widgets": [
            "8eee74f46c604c37ad6378151cde3ac9",
            "2e4b071862354eb09b93d9cc819b1459"
          ]
        },
        "id": "ItIB0hCanzS9",
        "outputId": "cf626113-27c2-4258-a462-5ae5282ff45a"
      },
      "execution_count": null,
      "outputs": [
        {
          "output_type": "display_data",
          "data": {
            "text/plain": [
              "JupyterWidget(events=['{\"attrs\": {\"nodes\": {\"0\": {\"color\": \"blue\"}, \"1\": {\"color\": \"blue\"}, \"2\": {\"color\": \"bl…"
            ],
            "application/vnd.jupyter.widget-view+json": {
              "version_major": 2,
              "version_minor": 0,
              "model_id": "8eee74f46c604c37ad6378151cde3ac9"
            }
          },
          "metadata": {
            "application/vnd.jupyter.widget-view+json": {
              "colab": {
                "custom_widget_manager": {
                  "url": "https://ssl.gstatic.com/colaboratory-static/widgets/colab-cdn-widget-manager/b3e629b1971e1542/manager.min.js"
                }
              }
            }
          }
        }
      ]
    },
    {
      "cell_type": "code",
      "source": [
        "canvas = jupyter_canvas()\n",
        "\n",
        "canvas.nodes(Kc.nodes).add(color=\"black\")\n",
        "canvas.edges(Kc.edges).add()\n",
        "\n",
        "canvas"
      ],
      "metadata": {
        "colab": {
          "base_uri": "https://localhost:8080/",
          "height": 271,
          "referenced_widgets": [
            "0fd05b931bf7429db6e184ab4afbdcd9",
            "129b330f38b04f66b99887b00d6247ca"
          ]
        },
        "id": "z-Wt43nIn5vK",
        "outputId": "e1027620-be57-41b1-d0f5-35e070541657"
      },
      "execution_count": null,
      "outputs": [
        {
          "output_type": "display_data",
          "data": {
            "text/plain": [
              "JupyterWidget(events=['{\"attrs\": {\"nodes\": {\"0\": {\"color\": \"black\"}, \"1\": {\"color\": \"black\"}, \"2\": {\"color\": \"…"
            ],
            "application/vnd.jupyter.widget-view+json": {
              "version_major": 2,
              "version_minor": 0,
              "model_id": "0fd05b931bf7429db6e184ab4afbdcd9"
            }
          },
          "metadata": {
            "application/vnd.jupyter.widget-view+json": {
              "colab": {
                "custom_widget_manager": {
                  "url": "https://ssl.gstatic.com/colaboratory-static/widgets/colab-cdn-widget-manager/b3e629b1971e1542/manager.min.js"
                }
              }
            }
          }
        }
      ]
    },
    {
      "cell_type": "markdown",
      "source": [
        "Vulnerabilidade!\n",
        "\n",
        "Em redes de infra-estrutura (como WWW, Internet, fornecimento de energia, etc), é importante saber quais componentes são cruciais para o funcionamento ideal. Intuitivamente, os vértices críticos de uma rede são os seus hubs, porém há situações em que eles não são necessariamente os mais vitais para o desempenho do sistema ao qual a rede está subjacente. Por exemplo, todos os vértices de uma rede na forma de uma árvore binária têm o mesmo grau, portanto não há hub, mas a desconexão dos vértices mais próximos da raiz e da própria raiz tem um impacto maior do que aqueles próximos às folhas. Isso sugere que as redes têm uma propriedade hierárquica, o que significa que os componentes mais cruciais são aqueles em posições mais altas na hierarquia.\n",
        "\n",
        "onde $E$ é a eficiência global da rede original e $E_{i}$ é a eficiência global\n",
        "após a remoção do vértice i e todas as suas arestas.\n",
        "\n",
        "$V_{i}=\\frac{E-E_i}{E}$"
      ],
      "metadata": {
        "id": "Cl1rTCmOguOr"
      }
    },
    {
      "cell_type": "code",
      "source": [
        "def vulnerability(vec):\n",
        "  result=[]\n",
        "  #norm=nx.global_efficiency(vec[0])\n",
        "  for i in vec:\n",
        "      vet=[]\n",
        "\n",
        "      for u, v in i.edges():\n",
        "          a=nx.efficiency(i,u,v)\n",
        "          #print(a)\n",
        "          vet.append(a)\n",
        "      result.append(max(vet))\n",
        "  return result"
      ],
      "metadata": {
        "id": "i8TE-lD-gtfl"
      },
      "execution_count": null,
      "outputs": []
    },
    {
      "cell_type": "code",
      "source": [
        "def vulnerability(G):\n",
        "  vet=[]\n",
        "  norm=nx.global_efficiency(G)\n",
        "  for u in G.nodes():\n",
        "      Aux = nx.Graph() # or whatever type of graph `G` is\n",
        "      Aux.add_edges_from(G.edges())\n",
        "      Aux.remove_node(u)\n",
        "      a=(norm-nx.global_efficiency(Aux))/norm\n",
        "      vet.append(a)\n",
        "  #print(vet)\n",
        "  return max(vet)\n"
      ],
      "metadata": {
        "id": "nxmSQQQJCq_c"
      },
      "execution_count": null,
      "outputs": []
    },
    {
      "cell_type": "code",
      "source": [
        "G = nx.karate_club_graph()\n",
        "Sw=nx.watts_strogatz_graph(50,5,0.1)\n",
        "Er=nx.erdos_renyi_graph(50,0.2)\n",
        "Ba=nx.barabasi_albert_graph(50,3)\n",
        "#Vulnetrebildidade de cada grafo\n",
        "print('Vulnerabilidade Karate Club:',vulnerability(G))\n",
        "print('Vulnerabilidade Watts Strogatz:',vulnerability(Sw))\n",
        "print('Vulnerabilidade Erdos Renyi:',vulnerability(Er))\n",
        "print('Vulnerabilidade Barabasi Albert:',vulnerability(Ba))"
      ],
      "metadata": {
        "colab": {
          "base_uri": "https://localhost:8080/"
        },
        "id": "8gWz303fOyGJ",
        "outputId": "9f9794d8-2ab9-418c-a2fc-e02415bedd7a"
      },
      "execution_count": null,
      "outputs": [
        {
          "output_type": "stream",
          "name": "stdout",
          "text": [
            "Vulnerabilidade Karate Club: 0.27143590362900766\n",
            "Vulnerabilidade Watts Strogatz: 0.028106369222675082\n",
            "Vulnerabilidade Erdos Renyi: 0.008823529411768085\n",
            "Vulnerabilidade Barabasi Albert: 0.050489168413689764\n"
          ]
        }
      ]
    },
    {
      "cell_type": "markdown",
      "source": [
        "Coeficiente Cíclico\n",
        "\n",
        "Um coeficiente para medir o quão cíclica é uma rede. O coeficiente cíclico local de um vértice i é definido como a média do inverso dos tamanhos dos menores ciclos formados pelo vértice i e seus vizinhos,\n",
        "\n",
        "$a_{ij}$= elemento da matriz adjacente.\n",
        "\n",
        "$S_{ijk}$= igual ao menor circulo que passa por i,j e k\n",
        "\n",
        "O coeficiente dado por cada vertice é:\n",
        "\n",
        "$\\theta_{i}=\\frac{2}{k_{i}(k_{i}-1)}\\sum_{k>j}\\frac{a_{ij}a_{ik}}{S_{ijk}}$\n",
        "\n",
        "Mas estamos calculando a média.\n",
        "\n",
        "$<\\theta>=\\frac{1}{N}\\sum_i\\theta_{i}$\n"
      ],
      "metadata": {
        "id": "nOP8V3857Lia"
      }
    },
    {
      "cell_type": "code",
      "source": [
        "def cyclic_coefficient(G):\n",
        "    cyclic_coeffs = []\n",
        "    for i in G.nodes():\n",
        "        if G.degree(i) >= 2:\n",
        "            neighbors = list(G.neighbors(i))\n",
        "            n = len(neighbors)\n",
        "            s = 0\n",
        "            for j in range(n):\n",
        "                for k in range(j+1, n):\n",
        "                    if G.has_edge(neighbors[j], neighbors[k]):\n",
        "                        Sijk = 3\n",
        "                    else:\n",
        "                        try:\n",
        "                            Sijk = nx.shortest_path_length(G, source=neighbors[j], target=neighbors[k])\n",
        "                        except:\n",
        "                            Sijk = float('inf')\n",
        "                    s += 1/Sijk\n",
        "            cyclic_coeffs.append(s/(n*(n-1)))\n",
        "    return sum(cyclic_coeffs)/len(cyclic_coeffs)\n",
        "\n"
      ],
      "metadata": {
        "id": "_PSul8xa95ec"
      },
      "execution_count": null,
      "outputs": []
    },
    {
      "cell_type": "code",
      "source": [
        "# Cria um grafo de exemplo\n",
        "G = nx.karate_club_graph()\n",
        "Sw=nx.watts_strogatz_graph(50,10,0)\n",
        "Er=nx.erdos_renyi_graph(50,1)\n",
        "Ba=nx.barabasi_albert_graph(50,3)\n",
        "\n",
        "print('Coeficiente Ciclico do Karate Club:',cyclic_coefficient(G))\n",
        "print('Coeficiente Ciclico Watts Strogatz:',cyclic_coefficient(Sw))\n",
        "print('Coeficiente Ciclico Erdos Renyi:',cyclic_coefficient(Er))\n",
        "print('Coeficiente Ciclico Barabasi Albert:',cyclic_coefficient(Ba))"
      ],
      "metadata": {
        "colab": {
          "base_uri": "https://localhost:8080/"
        },
        "id": "TCyi2bKl8QpC",
        "outputId": "514d16d1-4501-4051-d0cc-8a2ceb6049a4"
      },
      "execution_count": null,
      "outputs": [
        {
          "output_type": "stream",
          "name": "stdout",
          "text": [
            "Coeficiente Ciclico do Karate Club: 0.20100578722459292\n",
            "Coeficiente Ciclico Watts Strogatz: 0.19444444444444456\n",
            "Coeficiente Ciclico Erdos Renyi: 0.16666666666666446\n",
            "Coeficiente Ciclico Barabasi Albert: 0.22777880744986\n"
          ]
        }
      ]
    },
    {
      "cell_type": "markdown",
      "source": [
        "Coeficiente de rich-club\n",
        "\n",
        "Esse coeficiente é relacionado ciência, influência de pesquisa de cada area coloborativo e paper publicados.\n",
        "\n",
        "ℜ(k) são os conjutos dos vertices com maiores quantidades de k de graus. \n",
        "\n",
        "$\\phi(k)=\\frac{1}{|ℜ(k)|(|ℜ(k)|-1)}\\sum_{i,j \\in ℜ(k)}a_{ij}$"
      ],
      "metadata": {
        "id": "gR-f6hV388lU"
      }
    },
    {
      "cell_type": "code",
      "source": [
        "def rich_club(G,threshold = 5):\n",
        "  rc = nx.rich_club_coefficient(G, normalized=False)\n",
        "  return {k: v for k, v in rc.items() if G.degree(k) > threshold}\n"
      ],
      "metadata": {
        "id": "gp1K7MWNAgEC"
      },
      "execution_count": null,
      "outputs": []
    },
    {
      "cell_type": "code",
      "source": [
        "G = nx.karate_club_graph()\n",
        "# Define o limiar de riqueza\n",
        "rc_filtered = rich_club(G,threshold = 5)\n",
        "print(\"Rich Club:\")\n",
        "Sw=nx.watts_strogatz_graph(50,5,0.6)\n",
        "for k, v in rc_filtered.items():\n",
        "    print(f\"  Nodo {k}: {v}\")\n",
        "\n",
        "Sw=nx.watts_strogatz_graph(100,4,0.7)\n",
        "\n",
        "print(\"Small World:\")\n",
        "\n",
        "rc_filtered = rich_club(Sw,threshold = 5)\n",
        "for k, v in rc_filtered.items():\n",
        "    print(f\"  Nodo {k}: {v}\")\n",
        "\n",
        "canvas = jupyter_canvas()\n",
        "\n",
        "canvas.nodes(G.nodes).add(color=\"orange\")\n",
        "canvas.edges(G.edges).add()\n",
        "\n",
        "canvas"
      ],
      "metadata": {
        "colab": {
          "base_uri": "https://localhost:8080/",
          "height": 410,
          "referenced_widgets": [
            "2aa812874ab845ae83e41c45a30c1ee6",
            "29d716aa951e4a9aaa86b359581c4429"
          ]
        },
        "id": "NC6kKc74XX01",
        "outputId": "4ab9ea24-1933-4050-d8b1-b82642c2109a"
      },
      "execution_count": null,
      "outputs": [
        {
          "output_type": "stream",
          "name": "stdout",
          "text": [
            "Rich Club:\n",
            "  Nodo 0: 0.13903743315508021\n",
            "  Nodo 1: 0.14583333333333334\n",
            "  Nodo 2: 0.23809523809523808\n",
            "  Nodo 3: 0.325\n",
            "Small World:\n",
            "  Nodo 0: 0.04040404040404041\n",
            "  Nodo 4: 0.06666666666666667\n"
          ]
        },
        {
          "output_type": "display_data",
          "data": {
            "text/plain": [
              "JupyterWidget(events=['{\"attrs\": {\"nodes\": {\"0\": {\"color\": \"orange\"}, \"1\": {\"color\": \"orange\"}, \"2\": {\"color\":…"
            ],
            "application/vnd.jupyter.widget-view+json": {
              "version_major": 2,
              "version_minor": 0,
              "model_id": "2aa812874ab845ae83e41c45a30c1ee6"
            }
          },
          "metadata": {
            "application/vnd.jupyter.widget-view+json": {
              "colab": {
                "custom_widget_manager": {
                  "url": "https://ssl.gstatic.com/colaboratory-static/widgets/colab-cdn-widget-manager/b3e629b1971e1542/manager.min.js"
                }
              }
            }
          }
        }
      ]
    },
    {
      "cell_type": "markdown",
      "source": [
        "# Distribuição de graus e correlações\n",
        "\n",
        "\n",
        "Assortatividade é uma métrica utilizada para quantificar a tendência de nós individuais se conectarem a outros nós semelhantes um grafo\n",
        "\n",
        "\n"
      ],
      "metadata": {
        "id": "h08n9j9oQesU"
      }
    },
    {
      "cell_type": "code",
      "source": [
        "\n",
        "G = nx.karate_club_graph()\n",
        "\n",
        "print(f\"Correlação: {nx.degree_pearson_correlation_coefficient(G)}\")\n",
        "\n",
        "G = nx.watts_strogatz_graph(8,4,0.1)\n",
        "\n",
        "print(f\"Correlação: {nx.degree_pearson_correlation_coefficient(G)}\")\n",
        "\n",
        "G = nx.Graph()\n",
        "\n",
        "G.add_nodes_from([1, 2, 3, 4, 5])\n",
        "\n",
        "for i in range(1, 6):\n",
        "    for j in range(i+1, 6):\n",
        "        G.add_edge(i, j)\n",
        "\n",
        "G = nx.karate_club_graph()\n",
        "\n",
        "#average degree\n",
        "#print()\n",
        "u=np.array(list(nx.average_neighbor_degree(G).items())).T\n",
        "plt.plot(u[:][0],u[:][1])\n",
        "plt.ylabel('Média $<k>$')\n",
        "plt.xlabel('Nó')\n",
        "plt.show()\n",
        "#for u, v in nx.average_neighbor_degree(G).items():\n",
        "  #u"
      ],
      "metadata": {
        "colab": {
          "base_uri": "https://localhost:8080/",
          "height": 742
        },
        "id": "AX-cjMEEQduL",
        "outputId": "d1b88689-9839-417c-b5b2-36bad040107e"
      },
      "execution_count": null,
      "outputs": [
        {
          "output_type": "stream",
          "name": "stdout",
          "text": [
            "Correlação: -0.4756130976846144\n",
            "Correlação: -0.015873015873015872\n"
          ]
        },
        {
          "output_type": "display_data",
          "data": {
            "text/plain": [
              "<Figure size 700x700 with 1 Axes>"
            ],
            "image/png": "[encoded data removed]"
          },
          "metadata": {}
        }
      ]
    },
    {
      "cell_type": "markdown",
      "source": [
        "## Graus de bipartividade\n",
        "\n",
        "Os graus de bipartividade medem a \"bipartitividade\" de um nó em um grafo bipartido. Em outras palavras, eles medem o quão bem conectado um nó de uma partição está com os nós da outra partição.\n",
        "\n",
        "O cálculo dos graus de bipartividade pode ser útil para entender como os nós de diferentes partições estão conectados em um grafo bipartido e para identificar quais nós podem ser importantes para manter a conectividade entre as duas partições.\n",
        "\n",
        "### Novo Grafo, Bipartido"
      ],
      "metadata": {
        "id": "x9EFChm9Xu0B"
      }
    },
    {
      "cell_type": "code",
      "source": [
        "G = nx.Graph()\n",
        "G.add_nodes_from(['A', 'B', 'C', 'D', 'E'], bipartite=0)\n",
        "G.add_nodes_from([1, 2, 3, 4], bipartite=1)\n",
        "G.add_edges_from([('A', 1), ('A', 2), ('B', 2), ('C', 2), ('C', 3), ('D', 3), ('D', 4), ('E', 4)])\n",
        "canvas = jupyter_canvas()\n",
        "\n",
        "canvas.nodes(G.nodes).add(color=\"orange\")\n",
        "canvas.edges(G.edges).add()\n",
        "\n",
        "canvas"
      ],
      "metadata": {
        "colab": {
          "base_uri": "https://localhost:8080/",
          "height": 271,
          "referenced_widgets": [
            "53e34bbdde874cbf8af3bbb50102785d",
            "3f395c0f5ff74abd834b0e801af9c88e"
          ]
        },
        "id": "qO4542jMGGcq",
        "outputId": "be35597c-4436-4e92-dfac-d84a53a4ac8d"
      },
      "execution_count": null,
      "outputs": [
        {
          "output_type": "display_data",
          "data": {
            "text/plain": [
              "JupyterWidget(events=['{\"attrs\": {\"nodes\": {\"A\": {\"color\": \"orange\"}, \"B\": {\"color\": \"orange\"}, \"C\": {\"color\":…"
            ],
            "application/vnd.jupyter.widget-view+json": {
              "version_major": 2,
              "version_minor": 0,
              "model_id": "53e34bbdde874cbf8af3bbb50102785d"
            }
          },
          "metadata": {
            "application/vnd.jupyter.widget-view+json": {
              "colab": {
                "custom_widget_manager": {
                  "url": "https://ssl.gstatic.com/colaboratory-static/widgets/colab-cdn-widget-manager/b3e629b1971e1542/manager.min.js"
                }
              }
            }
          }
        }
      ]
    },
    {
      "cell_type": "code",
      "source": [
        "# Criando um grafo bipartido\n",
        "G = nx.Graph()\n",
        "G.add_nodes_from(['A', 'B', 'C', 'D', 'E'], bipartite=0)\n",
        "G.add_nodes_from([1, 2, 3, 4], bipartite=1)\n",
        "G.add_edges_from([('A', 1), ('A', 2), ('B', 2), ('C', 2), ('C', 3), ('D', 3), ('D', 4), ('E', 4)])\n",
        "\n",
        "bipartivity = nx.algorithms.bipartite.spectral_bipartivity(G)\n",
        "\n",
        "print(\"Grau de bipartividade grafo bipartido\")\n",
        "\n",
        "\n",
        "#for node in G.nodes:\n",
        "print(f\"{bipartivity}\")\n",
        "\n",
        "G = nx.karate_club_graph()\n",
        "\n",
        "bipartivity = nx.algorithms.bipartite.spectral_bipartivity(G)\n",
        "\n",
        "print(\"Grau de bipartividade Karater club\")\n",
        "#for node in G.nodes:\n",
        "print(f\"{bipartivity}\")\n"
      ],
      "metadata": {
        "colab": {
          "base_uri": "https://localhost:8080/"
        },
        "id": "RaOMbkJpXoN0",
        "outputId": "c4c2aff8-7a9b-4d34-b4fd-3d12bab50742"
      },
      "execution_count": null,
      "outputs": [
        {
          "output_type": "stream",
          "name": "stdout",
          "text": [
            "Grau de bipartividade grafo bipartido\n",
            "1.0\n",
            "Grau de bipartividade Karater club\n",
            "0.5001316717352706\n"
          ]
        }
      ]
    },
    {
      "cell_type": "markdown",
      "source": [
        " ## informações de pesquisa, entropia de estrada e entropia de saida\n",
        "\n",
        " A estrutura de uma rede complexa está relacionada à sua confiabilidade e velocidade de propagação da informação. A dificuldade na busca de informações na rede pode ser quantificada através da entropia de informação da rede."
      ],
      "metadata": {
        "id": "eCOVKZkGZ4nq"
      }
    },
    {
      "cell_type": "code",
      "source": [
        "def shortest_path_probability(G, i, b):\n",
        "    #print(list(nx.all_shortest_paths(G, source=i, target=b)))\n",
        "    paths = list(nx.all_shortest_paths(G, source=i, target=b))\n",
        "    neighbors = list(G.neighbors(i))\n",
        "    ki = len(neighbors)\n",
        "    soma_prob=0\n",
        "    for path in paths:\n",
        "      probability = 1.0 / ki\n",
        "      for j in path:\n",
        "          neighbors = list(G.neighbors(j))\n",
        "          k = len(neighbors)\n",
        "          if j != b:\n",
        "            probability *= 1.0 / (k - 1)\n",
        "      soma_prob+=probability\n",
        "    return soma_prob\n"
      ],
      "metadata": {
        "id": "I5bTTY6FVVh2"
      },
      "execution_count": null,
      "outputs": []
    },
    {
      "cell_type": "code",
      "source": [
        "def entropy_A(G,i):\n",
        "  S=0\n",
        "  u=G.nodes()\n",
        "  for j in u:\n",
        "      S+=entropy(G,i,j)\n",
        "  return  S/len(u)"
      ],
      "metadata": {
        "id": "mjzrlMig12-G"
      },
      "execution_count": null,
      "outputs": []
    },
    {
      "cell_type": "code",
      "source": [
        "def entropy_H(G,i):\n",
        "  S=0\n",
        "  u=G.nodes()\n",
        "  for j in u:\n",
        "      S+=entropy(G,j,i)\n",
        "  return  S/len(u)"
      ],
      "metadata": {
        "id": "Hi7Rj4fF2QtG"
      },
      "execution_count": null,
      "outputs": []
    },
    {
      "cell_type": "code",
      "source": [
        "def entropy(G, i, b):\n",
        "    return -math.log2(shortest_path_probability(G,i,b))\n"
      ],
      "metadata": {
        "id": "20dt5GSncbrk"
      },
      "execution_count": null,
      "outputs": []
    },
    {
      "cell_type": "code",
      "source": [
        "def entropy_total(G):\n",
        "  S=0\n",
        "  u=G.nodes()\n",
        "  for i in u:\n",
        "    for j in u:\n",
        "      S+=entropy(G,i,j)\n",
        "  return S/len(u)**2\n"
      ],
      "metadata": {
        "id": "jgVedfT4fAD5"
      },
      "execution_count": null,
      "outputs": []
    },
    {
      "cell_type": "code",
      "source": [
        "G = nx.watts_strogatz_graph(7,4,0.4)\n",
        "#G.add_edges_from([(1, 2), (1, 3), (2, 3), (3, 4), (3, 5)])\n",
        "matriz_entropy=np.empty((len(G.nodes()),len(G.nodes())))\n",
        "print(f'entropia total do sistema {entropy_total(G)}\\n')\n",
        "E_A=[]\n",
        "E_H=[]\n",
        "#calculando a entropia da entrada e saida\n",
        "for u in G.nodes():\n",
        "  E_A.append(entropy_A(G,u))\n",
        "  E_H.append(entropy_H(G,u))\n",
        "u=G.nodes()\n",
        "#plot do grafico\n",
        "plt.plot(u,E_A,label='Entropia de entrada')\n",
        "plt.plot(u,E_H,label='Entropia de saida')\n",
        "plt.legend()\n",
        "plt.ylabel('Entropias')\n",
        "plt.xlabel('Nó')\n",
        "plt.show()"
      ],
      "metadata": {
        "colab": {
          "base_uri": "https://localhost:8080/",
          "height": 484
        },
        "id": "B3nSATbFd9tV",
        "outputId": "d5013c42-3602-4a4e-d535-bea2434917c2"
      },
      "execution_count": null,
      "outputs": [
        {
          "output_type": "stream",
          "name": "stdout",
          "text": [
            "entropia total do sistema 3.4305477577778407\n",
            "\n"
          ]
        },
        {
          "output_type": "display_data",
          "data": {
            "text/plain": [
              "<Figure size 640x480 with 1 Axes>"
            ],
            "image/png": "[encoded data removed]"
          },
          "metadata": {}
        }
      ]
    },
    {
      "cell_type": "markdown",
      "source": [
        "# Espectro da matriz de adjacência\n",
        "\n",
        "O espectro de uma rede corresponde ao conjunto de autovalores i de sua matriz de adjacência A.\n",
        "\n",
        "Os autovalores e autovetores associados de uma rede estão relacionados ao diâmetro, ao número de ciclos e às propriedades de conectividade da rede."
      ],
      "metadata": {
        "id": "UB6AdK52eq_X"
      }
    },
    {
      "cell_type": "code",
      "source": [
        "G = nx.erdos_renyi_graph(20, 0.3)\n",
        "\n",
        "adj_matrix = nx.to_numpy_array(G)\n",
        "\n",
        "# Calcula os autovalores da matriz de adjacência\n",
        "eigenvalues = np.linalg.eigvals(adj_matrix)\n",
        "\n",
        "print(\"Autovalores da matriz de adjacência:\")\n",
        "plt.plot(range(len(eigenvalues)),sorted(eigenvalues))\n",
        "plt.ylabel('Autovalores')\n",
        "plt.xlabel('Posição °')\n",
        "\n",
        "print(f'1° momento {np.sum(eigenvalues)/len(eigenvalues)}')\n",
        "print(f'2° momento {np.sum(eigenvalues**2)/len(eigenvalues)}')\n",
        "print(f'3° momento {np.sum(eigenvalues**3)/len(eigenvalues)}')\n",
        "print(f'4° momento {np.sum(eigenvalues**4)/len(eigenvalues)}')\n",
        "plt.show()\n"
      ],
      "metadata": {
        "colab": {
          "base_uri": "https://localhost:8080/",
          "height": 536
        },
        "id": "LodP932qez6w",
        "outputId": "4fe54574-5fda-4ab0-ea99-38085eb5404c"
      },
      "execution_count": null,
      "outputs": [
        {
          "output_type": "stream",
          "name": "stdout",
          "text": [
            "Autovalores da matriz de adjacência:\n",
            "1° momento -1.301736496372996e-15\n",
            "2° momento 7.099999999999996\n",
            "3° momento 22.199999999999925\n",
            "4° momento 254.09999999999945\n"
          ]
        },
        {
          "output_type": "display_data",
          "data": {
            "text/plain": [
              "<Figure size 640x480 with 1 Axes>"
            ],
            "image/png": "[encoded data removed]"
          },
          "metadata": {}
        }
      ]
    },
    {
      "cell_type": "markdown",
      "source": [
        "\n",
        "# Metodo de divisivos \n",
        "\n",
        "## 1° primeiro metodo Centralidade de intermediação\n",
        "\n",
        "O método divisivo mais popular é o algoritmo de GirvanNewman. Como diferentes comunidades estão conectadas por um pequeno número de arestas, este método considera que os gargalos são formados nas arestas que conectam comunidades, por onde devem passar todos os caminhos mais curtos. Em ordem para medir essa propriedade relacionada ao tráfego nas redes, o algoritmo usa o conceito de limite intermediário."
      ],
      "metadata": {
        "id": "FXhhqCjUrQiw"
      }
    },
    {
      "cell_type": "code",
      "source": [
        "G = nx.karate_club_graph()\n",
        "\n",
        "# Executa o algoritmo de Girvan-Newman\n",
        "comp = girvan_newman(G)\n",
        "\n",
        "communities = tuple(sorted(c) for c in next(comp))\n",
        "print(\"Comunidades encontradas:\")\n",
        "print(communities)\n",
        "\n",
        "#grafo bipartido\n",
        "G = nx.Graph()\n",
        "G.add_nodes_from([5, 6, 7, 8, 9], bipartite=0)\n",
        "G.add_nodes_from([1, 2, 3, 4], bipartite=1)\n",
        "G.add_edges_from([(5, 1), (5, 2), (6, 2), (7, 2), (7, 3), (8, 3), (8, 4), (9, 4)])\n",
        "\n",
        "comp = girvan_newman(G)\n",
        "\n",
        "communities = tuple(sorted(c) for c in next(comp))\n",
        "\n",
        "print(\"Comunidades encontradas:\")\n",
        "print(communities)"
      ],
      "metadata": {
        "colab": {
          "base_uri": "https://localhost:8080/"
        },
        "id": "_laTYFhmrPyA",
        "outputId": "31386dcc-dec9-4fa5-8a0c-95f1836106b6"
      },
      "execution_count": null,
      "outputs": [
        {
          "output_type": "stream",
          "name": "stdout",
          "text": [
            "Comunidades encontradas:\n",
            "([0, 1, 3, 4, 5, 6, 7, 10, 11, 12, 13, 16, 17, 19, 21], [2, 8, 9, 14, 15, 18, 20, 22, 23, 24, 25, 26, 27, 28, 29, 30, 31, 32, 33])\n",
            "Comunidades encontradas:\n",
            "([1, 2, 5, 6], [3, 4, 7, 8, 9])\n"
          ]
        }
      ]
    },
    {
      "cell_type": "markdown",
      "source": [
        "# Coeficiente de agrupamento de borda\n",
        "\n",
        " O algoritmo é semelhante ao método de Girvan e Newman, mas em vez da centralidade de intermediação, ele calcula o coeficiente de agrupamento de arestas.\n",
        "\n",
        "Essa medida se baseia no fato de que as arestas que conectam as comunidades tendem a apresentar um valor pequeno para esse coeficiente."
      ],
      "metadata": {
        "id": "GclCRlMmZ_60"
      }
    },
    {
      "cell_type": "code",
      "source": [
        "def triangulos(graph, node1, node2):\n",
        "    nodes = [node1, node2]\n",
        "    subgraph = graph.subgraph(nodes)\n",
        "    triangles = nx.triangles(subgraph)\n",
        "    shared_triangles = sum(triangles.values()) - 2*triangles[node1] - 2*triangles[node2] + 4*len(subgraph.edges())\n",
        "    return shared_triangles"
      ],
      "metadata": {
        "id": "iJpqrtc17eDa"
      },
      "execution_count": null,
      "outputs": []
    },
    {
      "cell_type": "code",
      "source": [
        "def edge_clustering(G,i,j):\n",
        "  b=G.degree(j)\n",
        "  a=G.degree(i)\n",
        "  if a>b:\n",
        "    return (triangulos(G,i,j)+1)/b\n",
        "  return (triangulos(G,i,j)+1)/a"
      ],
      "metadata": {
        "id": "Bg7Ezp5H3a1p"
      },
      "execution_count": null,
      "outputs": []
    },
    {
      "cell_type": "code",
      "source": [
        "G = nx.karate_club_graph()\n",
        "for i in G.nodes():\n",
        "  for j in G.nodes():\n",
        "    print(f'Para os nós {i} e {j} o Coeficiente de agrupamento de borda: {edge_clustering(G,i,j)}')"
      ],
      "metadata": {
        "colab": {
          "base_uri": "https://localhost:8080/"
        },
        "id": "GkRftO8g4qGY",
        "outputId": "9562a6e0-db33-4ff8-9908-af37f7b6f5aa"
      },
      "execution_count": null,
      "outputs": [
        {
          "output_type": "stream",
          "name": "stdout",
          "text": [
            "Para os nós 0 e 0 o Coeficiente de agrupamento de borda: 0.0625\n",
            "Para os nós 0 e 1 o Coeficiente de agrupamento de borda: 0.5555555555555556\n",
            "Para os nós 0 e 2 o Coeficiente de agrupamento de borda: 0.5\n",
            "Para os nós 0 e 3 o Coeficiente de agrupamento de borda: 0.8333333333333334\n",
            "Para os nós 0 e 4 o Coeficiente de agrupamento de borda: 1.6666666666666667\n",
            "Para os nós 0 e 5 o Coeficiente de agrupamento de borda: 1.25\n",
            "Para os nós 0 e 6 o Coeficiente de agrupamento de borda: 1.25\n",
            "Para os nós 0 e 7 o Coeficiente de agrupamento de borda: 1.25\n",
            "Para os nós 0 e 8 o Coeficiente de agrupamento de borda: 1.0\n",
            "Para os nós 0 e 9 o Coeficiente de agrupamento de borda: 0.5\n",
            "Para os nós 0 e 10 o Coeficiente de agrupamento de borda: 1.6666666666666667\n",
            "Para os nós 0 e 11 o Coeficiente de agrupamento de borda: 5.0\n",
            "Para os nós 0 e 12 o Coeficiente de agrupamento de borda: 2.5\n",
            "Para os nós 0 e 13 o Coeficiente de agrupamento de borda: 1.0\n",
            "Para os nós 0 e 14 o Coeficiente de agrupamento de borda: 0.5\n",
            "Para os nós 0 e 15 o Coeficiente de agrupamento de borda: 0.5\n",
            "Para os nós 0 e 16 o Coeficiente de agrupamento de borda: 0.5\n",
            "Para os nós 0 e 17 o Coeficiente de agrupamento de borda: 2.5\n",
            "Para os nós 0 e 18 o Coeficiente de agrupamento de borda: 0.5\n",
            "Para os nós 0 e 19 o Coeficiente de agrupamento de borda: 1.6666666666666667\n",
            "Para os nós 0 e 20 o Coeficiente de agrupamento de borda: 0.5\n",
            "Para os nós 0 e 21 o Coeficiente de agrupamento de borda: 2.5\n",
            "Para os nós 0 e 22 o Coeficiente de agrupamento de borda: 0.5\n",
            "Para os nós 0 e 23 o Coeficiente de agrupamento de borda: 0.2\n",
            "Para os nós 0 e 24 o Coeficiente de agrupamento de borda: 0.3333333333333333\n",
            "Para os nós 0 e 25 o Coeficiente de agrupamento de borda: 0.3333333333333333\n",
            "Para os nós 0 e 26 o Coeficiente de agrupamento de borda: 0.5\n",
            "Para os nós 0 e 27 o Coeficiente de agrupamento de borda: 0.25\n",
            "Para os nós 0 e 28 o Coeficiente de agrupamento de borda: 0.3333333333333333\n",
            "Para os nós 0 e 29 o Coeficiente de agrupamento de borda: 0.25\n",
            "Para os nós 0 e 30 o Coeficiente de agrupamento de borda: 0.25\n",
            "Para os nós 0 e 31 o Coeficiente de agrupamento de borda: 0.8333333333333334\n",
            "Para os nós 0 e 32 o Coeficiente de agrupamento de borda: 0.08333333333333333\n",
            "Para os nós 0 e 33 o Coeficiente de agrupamento de borda: 0.0625\n",
            "Para os nós 1 e 0 o Coeficiente de agrupamento de borda: 0.5555555555555556\n",
            "Para os nós 1 e 1 o Coeficiente de agrupamento de borda: 0.1111111111111111\n",
            "Para os nós 1 e 2 o Coeficiente de agrupamento de borda: 0.5555555555555556\n",
            "Para os nós 1 e 3 o Coeficiente de agrupamento de borda: 0.8333333333333334\n",
            "Para os nós 1 e 4 o Coeficiente de agrupamento de borda: 0.3333333333333333\n",
            "Para os nós 1 e 5 o Coeficiente de agrupamento de borda: 0.25\n",
            "Para os nós 1 e 6 o Coeficiente de agrupamento de borda: 0.25\n",
            "Para os nós 1 e 7 o Coeficiente de agrupamento de borda: 1.25\n",
            "Para os nós 1 e 8 o Coeficiente de agrupamento de borda: 0.2\n",
            "Para os nós 1 e 9 o Coeficiente de agrupamento de borda: 0.5\n",
            "Para os nós 1 e 10 o Coeficiente de agrupamento de borda: 0.3333333333333333\n",
            "Para os nós 1 e 11 o Coeficiente de agrupamento de borda: 1.0\n",
            "Para os nós 1 e 12 o Coeficiente de agrupamento de borda: 0.5\n",
            "Para os nós 1 e 13 o Coeficiente de agrupamento de borda: 1.0\n",
            "Para os nós 1 e 14 o Coeficiente de agrupamento de borda: 0.5\n",
            "Para os nós 1 e 15 o Coeficiente de agrupamento de borda: 0.5\n",
            "Para os nós 1 e 16 o Coeficiente de agrupamento de borda: 0.5\n",
            "Para os nós 1 e 17 o Coeficiente de agrupamento de borda: 2.5\n",
            "Para os nós 1 e 18 o Coeficiente de agrupamento de borda: 0.5\n",
            "Para os nós 1 e 19 o Coeficiente de agrupamento de borda: 1.6666666666666667\n",
            "Para os nós 1 e 20 o Coeficiente de agrupamento de borda: 0.5\n",
            "Para os nós 1 e 21 o Coeficiente de agrupamento de borda: 2.5\n",
            "Para os nós 1 e 22 o Coeficiente de agrupamento de borda: 0.5\n",
            "Para os nós 1 e 23 o Coeficiente de agrupamento de borda: 0.2\n",
            "Para os nós 1 e 24 o Coeficiente de agrupamento de borda: 0.3333333333333333\n",
            "Para os nós 1 e 25 o Coeficiente de agrupamento de borda: 0.3333333333333333\n",
            "Para os nós 1 e 26 o Coeficiente de agrupamento de borda: 0.5\n",
            "Para os nós 1 e 27 o Coeficiente de agrupamento de borda: 0.25\n",
            "Para os nós 1 e 28 o Coeficiente de agrupamento de borda: 0.3333333333333333\n",
            "Para os nós 1 e 29 o Coeficiente de agrupamento de borda: 0.25\n",
            "Para os nós 1 e 30 o Coeficiente de agrupamento de borda: 1.25\n",
            "Para os nós 1 e 31 o Coeficiente de agrupamento de borda: 0.16666666666666666\n",
            "Para os nós 1 e 32 o Coeficiente de agrupamento de borda: 0.1111111111111111\n",
            "Para os nós 1 e 33 o Coeficiente de agrupamento de borda: 0.1111111111111111\n",
            "Para os nós 2 e 0 o Coeficiente de agrupamento de borda: 0.5\n",
            "Para os nós 2 e 1 o Coeficiente de agrupamento de borda: 0.5555555555555556\n",
            "Para os nós 2 e 2 o Coeficiente de agrupamento de borda: 0.1\n",
            "Para os nós 2 e 3 o Coeficiente de agrupamento de borda: 0.8333333333333334\n",
            "Para os nós 2 e 4 o Coeficiente de agrupamento de borda: 0.3333333333333333\n",
            "Para os nós 2 e 5 o Coeficiente de agrupamento de borda: 0.25\n",
            "Para os nós 2 e 6 o Coeficiente de agrupamento de borda: 0.25\n",
            "Para os nós 2 e 7 o Coeficiente de agrupamento de borda: 1.25\n",
            "Para os nós 2 e 8 o Coeficiente de agrupamento de borda: 1.0\n",
            "Para os nós 2 e 9 o Coeficiente de agrupamento de borda: 2.5\n",
            "Para os nós 2 e 10 o Coeficiente de agrupamento de borda: 0.3333333333333333\n",
            "Para os nós 2 e 11 o Coeficiente de agrupamento de borda: 1.0\n",
            "Para os nós 2 e 12 o Coeficiente de agrupamento de borda: 0.5\n",
            "Para os nós 2 e 13 o Coeficiente de agrupamento de borda: 1.0\n",
            "Para os nós 2 e 14 o Coeficiente de agrupamento de borda: 0.5\n",
            "Para os nós 2 e 15 o Coeficiente de agrupamento de borda: 0.5\n",
            "Para os nós 2 e 16 o Coeficiente de agrupamento de borda: 0.5\n",
            "Para os nós 2 e 17 o Coeficiente de agrupamento de borda: 0.5\n",
            "Para os nós 2 e 18 o Coeficiente de agrupamento de borda: 0.5\n",
            "Para os nós 2 e 19 o Coeficiente de agrupamento de borda: 0.3333333333333333\n",
            "Para os nós 2 e 20 o Coeficiente de agrupamento de borda: 0.5\n",
            "Para os nós 2 e 21 o Coeficiente de agrupamento de borda: 0.5\n",
            "Para os nós 2 e 22 o Coeficiente de agrupamento de borda: 0.5\n",
            "Para os nós 2 e 23 o Coeficiente de agrupamento de borda: 0.2\n",
            "Para os nós 2 e 24 o Coeficiente de agrupamento de borda: 0.3333333333333333\n",
            "Para os nós 2 e 25 o Coeficiente de agrupamento de borda: 0.3333333333333333\n",
            "Para os nós 2 e 26 o Coeficiente de agrupamento de borda: 0.5\n",
            "Para os nós 2 e 27 o Coeficiente de agrupamento de borda: 1.25\n",
            "Para os nós 2 e 28 o Coeficiente de agrupamento de borda: 1.6666666666666667\n",
            "Para os nós 2 e 29 o Coeficiente de agrupamento de borda: 0.25\n",
            "Para os nós 2 e 30 o Coeficiente de agrupamento de borda: 0.25\n",
            "Para os nós 2 e 31 o Coeficiente de agrupamento de borda: 0.16666666666666666\n",
            "Para os nós 2 e 32 o Coeficiente de agrupamento de borda: 0.5\n",
            "Para os nós 2 e 33 o Coeficiente de agrupamento de borda: 0.1\n",
            "Para os nós 3 e 0 o Coeficiente de agrupamento de borda: 0.8333333333333334\n",
            "Para os nós 3 e 1 o Coeficiente de agrupamento de borda: 0.8333333333333334\n",
            "Para os nós 3 e 2 o Coeficiente de agrupamento de borda: 0.8333333333333334\n",
            "Para os nós 3 e 3 o Coeficiente de agrupamento de borda: 0.16666666666666666\n",
            "Para os nós 3 e 4 o Coeficiente de agrupamento de borda: 0.3333333333333333\n",
            "Para os nós 3 e 5 o Coeficiente de agrupamento de borda: 0.25\n",
            "Para os nós 3 e 6 o Coeficiente de agrupamento de borda: 0.25\n",
            "Para os nós 3 e 7 o Coeficiente de agrupamento de borda: 1.25\n",
            "Para os nós 3 e 8 o Coeficiente de agrupamento de borda: 0.2\n",
            "Para os nós 3 e 9 o Coeficiente de agrupamento de borda: 0.5\n",
            "Para os nós 3 e 10 o Coeficiente de agrupamento de borda: 0.3333333333333333\n",
            "Para os nós 3 e 11 o Coeficiente de agrupamento de borda: 1.0\n",
            "Para os nós 3 e 12 o Coeficiente de agrupamento de borda: 2.5\n",
            "Para os nós 3 e 13 o Coeficiente de agrupamento de borda: 1.0\n",
            "Para os nós 3 e 14 o Coeficiente de agrupamento de borda: 0.5\n",
            "Para os nós 3 e 15 o Coeficiente de agrupamento de borda: 0.5\n",
            "Para os nós 3 e 16 o Coeficiente de agrupamento de borda: 0.5\n",
            "Para os nós 3 e 17 o Coeficiente de agrupamento de borda: 0.5\n",
            "Para os nós 3 e 18 o Coeficiente de agrupamento de borda: 0.5\n",
            "Para os nós 3 e 19 o Coeficiente de agrupamento de borda: 0.3333333333333333\n",
            "Para os nós 3 e 20 o Coeficiente de agrupamento de borda: 0.5\n",
            "Para os nós 3 e 21 o Coeficiente de agrupamento de borda: 0.5\n",
            "Para os nós 3 e 22 o Coeficiente de agrupamento de borda: 0.5\n",
            "Para os nós 3 e 23 o Coeficiente de agrupamento de borda: 0.2\n",
            "Para os nós 3 e 24 o Coeficiente de agrupamento de borda: 0.3333333333333333\n",
            "Para os nós 3 e 25 o Coeficiente de agrupamento de borda: 0.3333333333333333\n",
            "Para os nós 3 e 26 o Coeficiente de agrupamento de borda: 0.5\n",
            "Para os nós 3 e 27 o Coeficiente de agrupamento de borda: 0.25\n",
            "Para os nós 3 e 28 o Coeficiente de agrupamento de borda: 0.3333333333333333\n",
            "Para os nós 3 e 29 o Coeficiente de agrupamento de borda: 0.25\n",
            "Para os nós 3 e 30 o Coeficiente de agrupamento de borda: 0.25\n",
            "Para os nós 3 e 31 o Coeficiente de agrupamento de borda: 0.16666666666666666\n",
            "Para os nós 3 e 32 o Coeficiente de agrupamento de borda: 0.16666666666666666\n",
            "Para os nós 3 e 33 o Coeficiente de agrupamento de borda: 0.16666666666666666\n",
            "Para os nós 4 e 0 o Coeficiente de agrupamento de borda: 1.6666666666666667\n",
            "Para os nós 4 e 1 o Coeficiente de agrupamento de borda: 0.3333333333333333\n",
            "Para os nós 4 e 2 o Coeficiente de agrupamento de borda: 0.3333333333333333\n",
            "Para os nós 4 e 3 o Coeficiente de agrupamento de borda: 0.3333333333333333\n",
            "Para os nós 4 e 4 o Coeficiente de agrupamento de borda: 0.3333333333333333\n",
            "Para os nós 4 e 5 o Coeficiente de agrupamento de borda: 0.3333333333333333\n",
            "Para os nós 4 e 6 o Coeficiente de agrupamento de borda: 1.6666666666666667\n",
            "Para os nós 4 e 7 o Coeficiente de agrupamento de borda: 0.3333333333333333\n",
            "Para os nós 4 e 8 o Coeficiente de agrupamento de borda: 0.3333333333333333\n",
            "Para os nós 4 e 9 o Coeficiente de agrupamento de borda: 0.5\n",
            "Para os nós 4 e 10 o Coeficiente de agrupamento de borda: 1.6666666666666667\n",
            "Para os nós 4 e 11 o Coeficiente de agrupamento de borda: 1.0\n",
            "Para os nós 4 e 12 o Coeficiente de agrupamento de borda: 0.5\n",
            "Para os nós 4 e 13 o Coeficiente de agrupamento de borda: 0.3333333333333333\n",
            "Para os nós 4 e 14 o Coeficiente de agrupamento de borda: 0.5\n",
            "Para os nós 4 e 15 o Coeficiente de agrupamento de borda: 0.5\n",
            "Para os nós 4 e 16 o Coeficiente de agrupamento de borda: 0.5\n",
            "Para os nós 4 e 17 o Coeficiente de agrupamento de borda: 0.5\n",
            "Para os nós 4 e 18 o Coeficiente de agrupamento de borda: 0.5\n",
            "Para os nós 4 e 19 o Coeficiente de agrupamento de borda: 0.3333333333333333\n",
            "Para os nós 4 e 20 o Coeficiente de agrupamento de borda: 0.5\n",
            "Para os nós 4 e 21 o Coeficiente de agrupamento de borda: 0.5\n",
            "Para os nós 4 e 22 o Coeficiente de agrupamento de borda: 0.5\n",
            "Para os nós 4 e 23 o Coeficiente de agrupamento de borda: 0.3333333333333333\n",
            "Para os nós 4 e 24 o Coeficiente de agrupamento de borda: 0.3333333333333333\n",
            "Para os nós 4 e 25 o Coeficiente de agrupamento de borda: 0.3333333333333333\n",
            "Para os nós 4 e 26 o Coeficiente de agrupamento de borda: 0.5\n",
            "Para os nós 4 e 27 o Coeficiente de agrupamento de borda: 0.3333333333333333\n",
            "Para os nós 4 e 28 o Coeficiente de agrupamento de borda: 0.3333333333333333\n",
            "Para os nós 4 e 29 o Coeficiente de agrupamento de borda: 0.3333333333333333\n",
            "Para os nós 4 e 30 o Coeficiente de agrupamento de borda: 0.3333333333333333\n",
            "Para os nós 4 e 31 o Coeficiente de agrupamento de borda: 0.3333333333333333\n",
            "Para os nós 4 e 32 o Coeficiente de agrupamento de borda: 0.3333333333333333\n",
            "Para os nós 4 e 33 o Coeficiente de agrupamento de borda: 0.3333333333333333\n",
            "Para os nós 5 e 0 o Coeficiente de agrupamento de borda: 1.25\n",
            "Para os nós 5 e 1 o Coeficiente de agrupamento de borda: 0.25\n",
            "Para os nós 5 e 2 o Coeficiente de agrupamento de borda: 0.25\n",
            "Para os nós 5 e 3 o Coeficiente de agrupamento de borda: 0.25\n",
            "Para os nós 5 e 4 o Coeficiente de agrupamento de borda: 0.3333333333333333\n",
            "Para os nós 5 e 5 o Coeficiente de agrupamento de borda: 0.25\n",
            "Para os nós 5 e 6 o Coeficiente de agrupamento de borda: 1.25\n",
            "Para os nós 5 e 7 o Coeficiente de agrupamento de borda: 0.25\n",
            "Para os nós 5 e 8 o Coeficiente de agrupamento de borda: 0.25\n",
            "Para os nós 5 e 9 o Coeficiente de agrupamento de borda: 0.5\n",
            "Para os nós 5 e 10 o Coeficiente de agrupamento de borda: 1.6666666666666667\n",
            "Para os nós 5 e 11 o Coeficiente de agrupamento de borda: 1.0\n",
            "Para os nós 5 e 12 o Coeficiente de agrupamento de borda: 0.5\n",
            "Para os nós 5 e 13 o Coeficiente de agrupamento de borda: 0.25\n",
            "Para os nós 5 e 14 o Coeficiente de agrupamento de borda: 0.5\n",
            "Para os nós 5 e 15 o Coeficiente de agrupamento de borda: 0.5\n",
            "Para os nós 5 e 16 o Coeficiente de agrupamento de borda: 2.5\n",
            "Para os nós 5 e 17 o Coeficiente de agrupamento de borda: 0.5\n",
            "Para os nós 5 e 18 o Coeficiente de agrupamento de borda: 0.5\n",
            "Para os nós 5 e 19 o Coeficiente de agrupamento de borda: 0.3333333333333333\n",
            "Para os nós 5 e 20 o Coeficiente de agrupamento de borda: 0.5\n",
            "Para os nós 5 e 21 o Coeficiente de agrupamento de borda: 0.5\n",
            "Para os nós 5 e 22 o Coeficiente de agrupamento de borda: 0.5\n",
            "Para os nós 5 e 23 o Coeficiente de agrupamento de borda: 0.25\n",
            "Para os nós 5 e 24 o Coeficiente de agrupamento de borda: 0.3333333333333333\n",
            "Para os nós 5 e 25 o Coeficiente de agrupamento de borda: 0.3333333333333333\n",
            "Para os nós 5 e 26 o Coeficiente de agrupamento de borda: 0.5\n",
            "Para os nós 5 e 27 o Coeficiente de agrupamento de borda: 0.25\n",
            "Para os nós 5 e 28 o Coeficiente de agrupamento de borda: 0.3333333333333333\n",
            "Para os nós 5 e 29 o Coeficiente de agrupamento de borda: 0.25\n",
            "Para os nós 5 e 30 o Coeficiente de agrupamento de borda: 0.25\n",
            "Para os nós 5 e 31 o Coeficiente de agrupamento de borda: 0.25\n",
            "Para os nós 5 e 32 o Coeficiente de agrupamento de borda: 0.25\n",
            "Para os nós 5 e 33 o Coeficiente de agrupamento de borda: 0.25\n",
            "Para os nós 6 e 0 o Coeficiente de agrupamento de borda: 1.25\n",
            "Para os nós 6 e 1 o Coeficiente de agrupamento de borda: 0.25\n",
            "Para os nós 6 e 2 o Coeficiente de agrupamento de borda: 0.25\n",
            "Para os nós 6 e 3 o Coeficiente de agrupamento de borda: 0.25\n",
            "Para os nós 6 e 4 o Coeficiente de agrupamento de borda: 1.6666666666666667\n",
            "Para os nós 6 e 5 o Coeficiente de agrupamento de borda: 1.25\n",
            "Para os nós 6 e 6 o Coeficiente de agrupamento de borda: 0.25\n",
            "Para os nós 6 e 7 o Coeficiente de agrupamento de borda: 0.25\n",
            "Para os nós 6 e 8 o Coeficiente de agrupamento de borda: 0.25\n",
            "Para os nós 6 e 9 o Coeficiente de agrupamento de borda: 0.5\n",
            "Para os nós 6 e 10 o Coeficiente de agrupamento de borda: 0.3333333333333333\n",
            "Para os nós 6 e 11 o Coeficiente de agrupamento de borda: 1.0\n",
            "Para os nós 6 e 12 o Coeficiente de agrupamento de borda: 0.5\n",
            "Para os nós 6 e 13 o Coeficiente de agrupamento de borda: 0.25\n",
            "Para os nós 6 e 14 o Coeficiente de agrupamento de borda: 0.5\n",
            "Para os nós 6 e 15 o Coeficiente de agrupamento de borda: 0.5\n",
            "Para os nós 6 e 16 o Coeficiente de agrupamento de borda: 2.5\n",
            "Para os nós 6 e 17 o Coeficiente de agrupamento de borda: 0.5\n",
            "Para os nós 6 e 18 o Coeficiente de agrupamento de borda: 0.5\n",
            "Para os nós 6 e 19 o Coeficiente de agrupamento de borda: 0.3333333333333333\n",
            "Para os nós 6 e 20 o Coeficiente de agrupamento de borda: 0.5\n",
            "Para os nós 6 e 21 o Coeficiente de agrupamento de borda: 0.5\n",
            "Para os nós 6 e 22 o Coeficiente de agrupamento de borda: 0.5\n",
            "Para os nós 6 e 23 o Coeficiente de agrupamento de borda: 0.25\n",
            "Para os nós 6 e 24 o Coeficiente de agrupamento de borda: 0.3333333333333333\n",
            "Para os nós 6 e 25 o Coeficiente de agrupamento de borda: 0.3333333333333333\n",
            "Para os nós 6 e 26 o Coeficiente de agrupamento de borda: 0.5\n",
            "Para os nós 6 e 27 o Coeficiente de agrupamento de borda: 0.25\n",
            "Para os nós 6 e 28 o Coeficiente de agrupamento de borda: 0.3333333333333333\n",
            "Para os nós 6 e 29 o Coeficiente de agrupamento de borda: 0.25\n",
            "Para os nós 6 e 30 o Coeficiente de agrupamento de borda: 0.25\n",
            "Para os nós 6 e 31 o Coeficiente de agrupamento de borda: 0.25\n",
            "Para os nós 6 e 32 o Coeficiente de agrupamento de borda: 0.25\n",
            "Para os nós 6 e 33 o Coeficiente de agrupamento de borda: 0.25\n",
            "Para os nós 7 e 0 o Coeficiente de agrupamento de borda: 1.25\n",
            "Para os nós 7 e 1 o Coeficiente de agrupamento de borda: 1.25\n",
            "Para os nós 7 e 2 o Coeficiente de agrupamento de borda: 1.25\n",
            "Para os nós 7 e 3 o Coeficiente de agrupamento de borda: 1.25\n",
            "Para os nós 7 e 4 o Coeficiente de agrupamento de borda: 0.3333333333333333\n",
            "Para os nós 7 e 5 o Coeficiente de agrupamento de borda: 0.25\n",
            "Para os nós 7 e 6 o Coeficiente de agrupamento de borda: 0.25\n",
            "Para os nós 7 e 7 o Coeficiente de agrupamento de borda: 0.25\n",
            "Para os nós 7 e 8 o Coeficiente de agrupamento de borda: 0.25\n",
            "Para os nós 7 e 9 o Coeficiente de agrupamento de borda: 0.5\n",
            "Para os nós 7 e 10 o Coeficiente de agrupamento de borda: 0.3333333333333333\n",
            "Para os nós 7 e 11 o Coeficiente de agrupamento de borda: 1.0\n",
            "Para os nós 7 e 12 o Coeficiente de agrupamento de borda: 0.5\n",
            "Para os nós 7 e 13 o Coeficiente de agrupamento de borda: 0.25\n",
            "Para os nós 7 e 14 o Coeficiente de agrupamento de borda: 0.5\n",
            "Para os nós 7 e 15 o Coeficiente de agrupamento de borda: 0.5\n",
            "Para os nós 7 e 16 o Coeficiente de agrupamento de borda: 0.5\n",
            "Para os nós 7 e 17 o Coeficiente de agrupamento de borda: 0.5\n",
            "Para os nós 7 e 18 o Coeficiente de agrupamento de borda: 0.5\n",
            "Para os nós 7 e 19 o Coeficiente de agrupamento de borda: 0.3333333333333333\n",
            "Para os nós 7 e 20 o Coeficiente de agrupamento de borda: 0.5\n",
            "Para os nós 7 e 21 o Coeficiente de agrupamento de borda: 0.5\n",
            "Para os nós 7 e 22 o Coeficiente de agrupamento de borda: 0.5\n",
            "Para os nós 7 e 23 o Coeficiente de agrupamento de borda: 0.25\n",
            "Para os nós 7 e 24 o Coeficiente de agrupamento de borda: 0.3333333333333333\n",
            "Para os nós 7 e 25 o Coeficiente de agrupamento de borda: 0.3333333333333333\n",
            "Para os nós 7 e 26 o Coeficiente de agrupamento de borda: 0.5\n",
            "Para os nós 7 e 27 o Coeficiente de agrupamento de borda: 0.25\n",
            "Para os nós 7 e 28 o Coeficiente de agrupamento de borda: 0.3333333333333333\n",
            "Para os nós 7 e 29 o Coeficiente de agrupamento de borda: 0.25\n",
            "Para os nós 7 e 30 o Coeficiente de agrupamento de borda: 0.25\n",
            "Para os nós 7 e 31 o Coeficiente de agrupamento de borda: 0.25\n",
            "Para os nós 7 e 32 o Coeficiente de agrupamento de borda: 0.25\n",
            "Para os nós 7 e 33 o Coeficiente de agrupamento de borda: 0.25\n",
            "Para os nós 8 e 0 o Coeficiente de agrupamento de borda: 1.0\n",
            "Para os nós 8 e 1 o Coeficiente de agrupamento de borda: 0.2\n",
            "Para os nós 8 e 2 o Coeficiente de agrupamento de borda: 1.0\n",
            "Para os nós 8 e 3 o Coeficiente de agrupamento de borda: 0.2\n",
            "Para os nós 8 e 4 o Coeficiente de agrupamento de borda: 0.3333333333333333\n",
            "Para os nós 8 e 5 o Coeficiente de agrupamento de borda: 0.25\n",
            "Para os nós 8 e 6 o Coeficiente de agrupamento de borda: 0.25\n",
            "Para os nós 8 e 7 o Coeficiente de agrupamento de borda: 0.25\n",
            "Para os nós 8 e 8 o Coeficiente de agrupamento de borda: 0.2\n",
            "Para os nós 8 e 9 o Coeficiente de agrupamento de borda: 0.5\n",
            "Para os nós 8 e 10 o Coeficiente de agrupamento de borda: 0.3333333333333333\n",
            "Para os nós 8 e 11 o Coeficiente de agrupamento de borda: 1.0\n",
            "Para os nós 8 e 12 o Coeficiente de agrupamento de borda: 0.5\n",
            "Para os nós 8 e 13 o Coeficiente de agrupamento de borda: 0.2\n",
            "Para os nós 8 e 14 o Coeficiente de agrupamento de borda: 0.5\n",
            "Para os nós 8 e 15 o Coeficiente de agrupamento de borda: 0.5\n",
            "Para os nós 8 e 16 o Coeficiente de agrupamento de borda: 0.5\n",
            "Para os nós 8 e 17 o Coeficiente de agrupamento de borda: 0.5\n",
            "Para os nós 8 e 18 o Coeficiente de agrupamento de borda: 0.5\n",
            "Para os nós 8 e 19 o Coeficiente de agrupamento de borda: 0.3333333333333333\n",
            "Para os nós 8 e 20 o Coeficiente de agrupamento de borda: 0.5\n",
            "Para os nós 8 e 21 o Coeficiente de agrupamento de borda: 0.5\n",
            "Para os nós 8 e 22 o Coeficiente de agrupamento de borda: 0.5\n",
            "Para os nós 8 e 23 o Coeficiente de agrupamento de borda: 0.2\n",
            "Para os nós 8 e 24 o Coeficiente de agrupamento de borda: 0.3333333333333333\n",
            "Para os nós 8 e 25 o Coeficiente de agrupamento de borda: 0.3333333333333333\n",
            "Para os nós 8 e 26 o Coeficiente de agrupamento de borda: 0.5\n",
            "Para os nós 8 e 27 o Coeficiente de agrupamento de borda: 0.25\n",
            "Para os nós 8 e 28 o Coeficiente de agrupamento de borda: 0.3333333333333333\n",
            "Para os nós 8 e 29 o Coeficiente de agrupamento de borda: 0.25\n",
            "Para os nós 8 e 30 o Coeficiente de agrupamento de borda: 1.25\n",
            "Para os nós 8 e 31 o Coeficiente de agrupamento de borda: 0.2\n",
            "Para os nós 8 e 32 o Coeficiente de agrupamento de borda: 1.0\n",
            "Para os nós 8 e 33 o Coeficiente de agrupamento de borda: 1.0\n",
            "Para os nós 9 e 0 o Coeficiente de agrupamento de borda: 0.5\n",
            "Para os nós 9 e 1 o Coeficiente de agrupamento de borda: 0.5\n",
            "Para os nós 9 e 2 o Coeficiente de agrupamento de borda: 2.5\n",
            "Para os nós 9 e 3 o Coeficiente de agrupamento de borda: 0.5\n",
            "Para os nós 9 e 4 o Coeficiente de agrupamento de borda: 0.5\n",
            "Para os nós 9 e 5 o Coeficiente de agrupamento de borda: 0.5\n",
            "Para os nós 9 e 6 o Coeficiente de agrupamento de borda: 0.5\n",
            "Para os nós 9 e 7 o Coeficiente de agrupamento de borda: 0.5\n",
            "Para os nós 9 e 8 o Coeficiente de agrupamento de borda: 0.5\n",
            "Para os nós 9 e 9 o Coeficiente de agrupamento de borda: 0.5\n",
            "Para os nós 9 e 10 o Coeficiente de agrupamento de borda: 0.5\n",
            "Para os nós 9 e 11 o Coeficiente de agrupamento de borda: 1.0\n",
            "Para os nós 9 e 12 o Coeficiente de agrupamento de borda: 0.5\n",
            "Para os nós 9 e 13 o Coeficiente de agrupamento de borda: 0.5\n",
            "Para os nós 9 e 14 o Coeficiente de agrupamento de borda: 0.5\n",
            "Para os nós 9 e 15 o Coeficiente de agrupamento de borda: 0.5\n",
            "Para os nós 9 e 16 o Coeficiente de agrupamento de borda: 0.5\n",
            "Para os nós 9 e 17 o Coeficiente de agrupamento de borda: 0.5\n",
            "Para os nós 9 e 18 o Coeficiente de agrupamento de borda: 0.5\n",
            "Para os nós 9 e 19 o Coeficiente de agrupamento de borda: 0.5\n",
            "Para os nós 9 e 20 o Coeficiente de agrupamento de borda: 0.5\n",
            "Para os nós 9 e 21 o Coeficiente de agrupamento de borda: 0.5\n",
            "Para os nós 9 e 22 o Coeficiente de agrupamento de borda: 0.5\n",
            "Para os nós 9 e 23 o Coeficiente de agrupamento de borda: 0.5\n",
            "Para os nós 9 e 24 o Coeficiente de agrupamento de borda: 0.5\n",
            "Para os nós 9 e 25 o Coeficiente de agrupamento de borda: 0.5\n",
            "Para os nós 9 e 26 o Coeficiente de agrupamento de borda: 0.5\n",
            "Para os nós 9 e 27 o Coeficiente de agrupamento de borda: 0.5\n",
            "Para os nós 9 e 28 o Coeficiente de agrupamento de borda: 0.5\n",
            "Para os nós 9 e 29 o Coeficiente de agrupamento de borda: 0.5\n",
            "Para os nós 9 e 30 o Coeficiente de agrupamento de borda: 0.5\n",
            "Para os nós 9 e 31 o Coeficiente de agrupamento de borda: 0.5\n",
            "Para os nós 9 e 32 o Coeficiente de agrupamento de borda: 0.5\n",
            "Para os nós 9 e 33 o Coeficiente de agrupamento de borda: 2.5\n",
            "Para os nós 10 e 0 o Coeficiente de agrupamento de borda: 1.6666666666666667\n",
            "Para os nós 10 e 1 o Coeficiente de agrupamento de borda: 0.3333333333333333\n",
            "Para os nós 10 e 2 o Coeficiente de agrupamento de borda: 0.3333333333333333\n",
            "Para os nós 10 e 3 o Coeficiente de agrupamento de borda: 0.3333333333333333\n",
            "Para os nós 10 e 4 o Coeficiente de agrupamento de borda: 1.6666666666666667\n",
            "Para os nós 10 e 5 o Coeficiente de agrupamento de borda: 1.6666666666666667\n",
            "Para os nós 10 e 6 o Coeficiente de agrupamento de borda: 0.3333333333333333\n",
            "Para os nós 10 e 7 o Coeficiente de agrupamento de borda: 0.3333333333333333\n",
            "Para os nós 10 e 8 o Coeficiente de agrupamento de borda: 0.3333333333333333\n",
            "Para os nós 10 e 9 o Coeficiente de agrupamento de borda: 0.5\n",
            "Para os nós 10 e 10 o Coeficiente de agrupamento de borda: 0.3333333333333333\n",
            "Para os nós 10 e 11 o Coeficiente de agrupamento de borda: 1.0\n",
            "Para os nós 10 e 12 o Coeficiente de agrupamento de borda: 0.5\n",
            "Para os nós 10 e 13 o Coeficiente de agrupamento de borda: 0.3333333333333333\n",
            "Para os nós 10 e 14 o Coeficiente de agrupamento de borda: 0.5\n",
            "Para os nós 10 e 15 o Coeficiente de agrupamento de borda: 0.5\n",
            "Para os nós 10 e 16 o Coeficiente de agrupamento de borda: 0.5\n",
            "Para os nós 10 e 17 o Coeficiente de agrupamento de borda: 0.5\n",
            "Para os nós 10 e 18 o Coeficiente de agrupamento de borda: 0.5\n",
            "Para os nós 10 e 19 o Coeficiente de agrupamento de borda: 0.3333333333333333\n",
            "Para os nós 10 e 20 o Coeficiente de agrupamento de borda: 0.5\n",
            "Para os nós 10 e 21 o Coeficiente de agrupamento de borda: 0.5\n",
            "Para os nós 10 e 22 o Coeficiente de agrupamento de borda: 0.5\n",
            "Para os nós 10 e 23 o Coeficiente de agrupamento de borda: 0.3333333333333333\n",
            "Para os nós 10 e 24 o Coeficiente de agrupamento de borda: 0.3333333333333333\n",
            "Para os nós 10 e 25 o Coeficiente de agrupamento de borda: 0.3333333333333333\n",
            "Para os nós 10 e 26 o Coeficiente de agrupamento de borda: 0.5\n",
            "Para os nós 10 e 27 o Coeficiente de agrupamento de borda: 0.3333333333333333\n",
            "Para os nós 10 e 28 o Coeficiente de agrupamento de borda: 0.3333333333333333\n",
            "Para os nós 10 e 29 o Coeficiente de agrupamento de borda: 0.3333333333333333\n",
            "Para os nós 10 e 30 o Coeficiente de agrupamento de borda: 0.3333333333333333\n",
            "Para os nós 10 e 31 o Coeficiente de agrupamento de borda: 0.3333333333333333\n",
            "Para os nós 10 e 32 o Coeficiente de agrupamento de borda: 0.3333333333333333\n",
            "Para os nós 10 e 33 o Coeficiente de agrupamento de borda: 0.3333333333333333\n",
            "Para os nós 11 e 0 o Coeficiente de agrupamento de borda: 5.0\n",
            "Para os nós 11 e 1 o Coeficiente de agrupamento de borda: 1.0\n",
            "Para os nós 11 e 2 o Coeficiente de agrupamento de borda: 1.0\n",
            "Para os nós 11 e 3 o Coeficiente de agrupamento de borda: 1.0\n",
            "Para os nós 11 e 4 o Coeficiente de agrupamento de borda: 1.0\n",
            "Para os nós 11 e 5 o Coeficiente de agrupamento de borda: 1.0\n",
            "Para os nós 11 e 6 o Coeficiente de agrupamento de borda: 1.0\n",
            "Para os nós 11 e 7 o Coeficiente de agrupamento de borda: 1.0\n",
            "Para os nós 11 e 8 o Coeficiente de agrupamento de borda: 1.0\n",
            "Para os nós 11 e 9 o Coeficiente de agrupamento de borda: 1.0\n",
            "Para os nós 11 e 10 o Coeficiente de agrupamento de borda: 1.0\n",
            "Para os nós 11 e 11 o Coeficiente de agrupamento de borda: 1.0\n",
            "Para os nós 11 e 12 o Coeficiente de agrupamento de borda: 1.0\n",
            "Para os nós 11 e 13 o Coeficiente de agrupamento de borda: 1.0\n",
            "Para os nós 11 e 14 o Coeficiente de agrupamento de borda: 1.0\n",
            "Para os nós 11 e 15 o Coeficiente de agrupamento de borda: 1.0\n",
            "Para os nós 11 e 16 o Coeficiente de agrupamento de borda: 1.0\n",
            "Para os nós 11 e 17 o Coeficiente de agrupamento de borda: 1.0\n",
            "Para os nós 11 e 18 o Coeficiente de agrupamento de borda: 1.0\n",
            "Para os nós 11 e 19 o Coeficiente de agrupamento de borda: 1.0\n",
            "Para os nós 11 e 20 o Coeficiente de agrupamento de borda: 1.0\n",
            "Para os nós 11 e 21 o Coeficiente de agrupamento de borda: 1.0\n",
            "Para os nós 11 e 22 o Coeficiente de agrupamento de borda: 1.0\n",
            "Para os nós 11 e 23 o Coeficiente de agrupamento de borda: 1.0\n",
            "Para os nós 11 e 24 o Coeficiente de agrupamento de borda: 1.0\n",
            "Para os nós 11 e 25 o Coeficiente de agrupamento de borda: 1.0\n",
            "Para os nós 11 e 26 o Coeficiente de agrupamento de borda: 1.0\n",
            "Para os nós 11 e 27 o Coeficiente de agrupamento de borda: 1.0\n",
            "Para os nós 11 e 28 o Coeficiente de agrupamento de borda: 1.0\n",
            "Para os nós 11 e 29 o Coeficiente de agrupamento de borda: 1.0\n",
            "Para os nós 11 e 30 o Coeficiente de agrupamento de borda: 1.0\n",
            "Para os nós 11 e 31 o Coeficiente de agrupamento de borda: 1.0\n",
            "Para os nós 11 e 32 o Coeficiente de agrupamento de borda: 1.0\n",
            "Para os nós 11 e 33 o Coeficiente de agrupamento de borda: 1.0\n",
            "Para os nós 12 e 0 o Coeficiente de agrupamento de borda: 2.5\n",
            "Para os nós 12 e 1 o Coeficiente de agrupamento de borda: 0.5\n",
            "Para os nós 12 e 2 o Coeficiente de agrupamento de borda: 0.5\n",
            "Para os nós 12 e 3 o Coeficiente de agrupamento de borda: 2.5\n",
            "Para os nós 12 e 4 o Coeficiente de agrupamento de borda: 0.5\n",
            "Para os nós 12 e 5 o Coeficiente de agrupamento de borda: 0.5\n",
            "Para os nós 12 e 6 o Coeficiente de agrupamento de borda: 0.5\n",
            "Para os nós 12 e 7 o Coeficiente de agrupamento de borda: 0.5\n",
            "Para os nós 12 e 8 o Coeficiente de agrupamento de borda: 0.5\n",
            "Para os nós 12 e 9 o Coeficiente de agrupamento de borda: 0.5\n",
            "Para os nós 12 e 10 o Coeficiente de agrupamento de borda: 0.5\n",
            "Para os nós 12 e 11 o Coeficiente de agrupamento de borda: 1.0\n",
            "Para os nós 12 e 12 o Coeficiente de agrupamento de borda: 0.5\n",
            "Para os nós 12 e 13 o Coeficiente de agrupamento de borda: 0.5\n",
            "Para os nós 12 e 14 o Coeficiente de agrupamento de borda: 0.5\n",
            "Para os nós 12 e 15 o Coeficiente de agrupamento de borda: 0.5\n",
            "Para os nós 12 e 16 o Coeficiente de agrupamento de borda: 0.5\n",
            "Para os nós 12 e 17 o Coeficiente de agrupamento de borda: 0.5\n",
            "Para os nós 12 e 18 o Coeficiente de agrupamento de borda: 0.5\n",
            "Para os nós 12 e 19 o Coeficiente de agrupamento de borda: 0.5\n",
            "Para os nós 12 e 20 o Coeficiente de agrupamento de borda: 0.5\n",
            "Para os nós 12 e 21 o Coeficiente de agrupamento de borda: 0.5\n",
            "Para os nós 12 e 22 o Coeficiente de agrupamento de borda: 0.5\n",
            "Para os nós 12 e 23 o Coeficiente de agrupamento de borda: 0.5\n",
            "Para os nós 12 e 24 o Coeficiente de agrupamento de borda: 0.5\n",
            "Para os nós 12 e 25 o Coeficiente de agrupamento de borda: 0.5\n",
            "Para os nós 12 e 26 o Coeficiente de agrupamento de borda: 0.5\n",
            "Para os nós 12 e 27 o Coeficiente de agrupamento de borda: 0.5\n",
            "Para os nós 12 e 28 o Coeficiente de agrupamento de borda: 0.5\n",
            "Para os nós 12 e 29 o Coeficiente de agrupamento de borda: 0.5\n",
            "Para os nós 12 e 30 o Coeficiente de agrupamento de borda: 0.5\n",
            "Para os nós 12 e 31 o Coeficiente de agrupamento de borda: 0.5\n",
            "Para os nós 12 e 32 o Coeficiente de agrupamento de borda: 0.5\n",
            "Para os nós 12 e 33 o Coeficiente de agrupamento de borda: 0.5\n",
            "Para os nós 13 e 0 o Coeficiente de agrupamento de borda: 1.0\n",
            "Para os nós 13 e 1 o Coeficiente de agrupamento de borda: 1.0\n",
            "Para os nós 13 e 2 o Coeficiente de agrupamento de borda: 1.0\n",
            "Para os nós 13 e 3 o Coeficiente de agrupamento de borda: 1.0\n",
            "Para os nós 13 e 4 o Coeficiente de agrupamento de borda: 0.3333333333333333\n",
            "Para os nós 13 e 5 o Coeficiente de agrupamento de borda: 0.25\n",
            "Para os nós 13 e 6 o Coeficiente de agrupamento de borda: 0.25\n",
            "Para os nós 13 e 7 o Coeficiente de agrupamento de borda: 0.25\n",
            "Para os nós 13 e 8 o Coeficiente de agrupamento de borda: 0.2\n",
            "Para os nós 13 e 9 o Coeficiente de agrupamento de borda: 0.5\n",
            "Para os nós 13 e 10 o Coeficiente de agrupamento de borda: 0.3333333333333333\n",
            "Para os nós 13 e 11 o Coeficiente de agrupamento de borda: 1.0\n",
            "Para os nós 13 e 12 o Coeficiente de agrupamento de borda: 0.5\n",
            "Para os nós 13 e 13 o Coeficiente de agrupamento de borda: 0.2\n",
            "Para os nós 13 e 14 o Coeficiente de agrupamento de borda: 0.5\n",
            "Para os nós 13 e 15 o Coeficiente de agrupamento de borda: 0.5\n",
            "Para os nós 13 e 16 o Coeficiente de agrupamento de borda: 0.5\n",
            "Para os nós 13 e 17 o Coeficiente de agrupamento de borda: 0.5\n",
            "Para os nós 13 e 18 o Coeficiente de agrupamento de borda: 0.5\n",
            "Para os nós 13 e 19 o Coeficiente de agrupamento de borda: 0.3333333333333333\n",
            "Para os nós 13 e 20 o Coeficiente de agrupamento de borda: 0.5\n",
            "Para os nós 13 e 21 o Coeficiente de agrupamento de borda: 0.5\n",
            "Para os nós 13 e 22 o Coeficiente de agrupamento de borda: 0.5\n",
            "Para os nós 13 e 23 o Coeficiente de agrupamento de borda: 0.2\n",
            "Para os nós 13 e 24 o Coeficiente de agrupamento de borda: 0.3333333333333333\n",
            "Para os nós 13 e 25 o Coeficiente de agrupamento de borda: 0.3333333333333333\n",
            "Para os nós 13 e 26 o Coeficiente de agrupamento de borda: 0.5\n",
            "Para os nós 13 e 27 o Coeficiente de agrupamento de borda: 0.25\n",
            "Para os nós 13 e 28 o Coeficiente de agrupamento de borda: 0.3333333333333333\n",
            "Para os nós 13 e 29 o Coeficiente de agrupamento de borda: 0.25\n",
            "Para os nós 13 e 30 o Coeficiente de agrupamento de borda: 0.25\n",
            "Para os nós 13 e 31 o Coeficiente de agrupamento de borda: 0.2\n",
            "Para os nós 13 e 32 o Coeficiente de agrupamento de borda: 0.2\n",
            "Para os nós 13 e 33 o Coeficiente de agrupamento de borda: 1.0\n",
            "Para os nós 14 e 0 o Coeficiente de agrupamento de borda: 0.5\n",
            "Para os nós 14 e 1 o Coeficiente de agrupamento de borda: 0.5\n",
            "Para os nós 14 e 2 o Coeficiente de agrupamento de borda: 0.5\n",
            "Para os nós 14 e 3 o Coeficiente de agrupamento de borda: 0.5\n",
            "Para os nós 14 e 4 o Coeficiente de agrupamento de borda: 0.5\n",
            "Para os nós 14 e 5 o Coeficiente de agrupamento de borda: 0.5\n",
            "Para os nós 14 e 6 o Coeficiente de agrupamento de borda: 0.5\n",
            "Para os nós 14 e 7 o Coeficiente de agrupamento de borda: 0.5\n",
            "Para os nós 14 e 8 o Coeficiente de agrupamento de borda: 0.5\n",
            "Para os nós 14 e 9 o Coeficiente de agrupamento de borda: 0.5\n",
            "Para os nós 14 e 10 o Coeficiente de agrupamento de borda: 0.5\n",
            "Para os nós 14 e 11 o Coeficiente de agrupamento de borda: 1.0\n",
            "Para os nós 14 e 12 o Coeficiente de agrupamento de borda: 0.5\n",
            "Para os nós 14 e 13 o Coeficiente de agrupamento de borda: 0.5\n",
            "Para os nós 14 e 14 o Coeficiente de agrupamento de borda: 0.5\n",
            "Para os nós 14 e 15 o Coeficiente de agrupamento de borda: 0.5\n",
            "Para os nós 14 e 16 o Coeficiente de agrupamento de borda: 0.5\n",
            "Para os nós 14 e 17 o Coeficiente de agrupamento de borda: 0.5\n",
            "Para os nós 14 e 18 o Coeficiente de agrupamento de borda: 0.5\n",
            "Para os nós 14 e 19 o Coeficiente de agrupamento de borda: 0.5\n",
            "Para os nós 14 e 20 o Coeficiente de agrupamento de borda: 0.5\n",
            "Para os nós 14 e 21 o Coeficiente de agrupamento de borda: 0.5\n",
            "Para os nós 14 e 22 o Coeficiente de agrupamento de borda: 0.5\n",
            "Para os nós 14 e 23 o Coeficiente de agrupamento de borda: 0.5\n",
            "Para os nós 14 e 24 o Coeficiente de agrupamento de borda: 0.5\n",
            "Para os nós 14 e 25 o Coeficiente de agrupamento de borda: 0.5\n",
            "Para os nós 14 e 26 o Coeficiente de agrupamento de borda: 0.5\n",
            "Para os nós 14 e 27 o Coeficiente de agrupamento de borda: 0.5\n",
            "Para os nós 14 e 28 o Coeficiente de agrupamento de borda: 0.5\n",
            "Para os nós 14 e 29 o Coeficiente de agrupamento de borda: 0.5\n",
            "Para os nós 14 e 30 o Coeficiente de agrupamento de borda: 0.5\n",
            "Para os nós 14 e 31 o Coeficiente de agrupamento de borda: 0.5\n",
            "Para os nós 14 e 32 o Coeficiente de agrupamento de borda: 2.5\n",
            "Para os nós 14 e 33 o Coeficiente de agrupamento de borda: 2.5\n",
            "Para os nós 15 e 0 o Coeficiente de agrupamento de borda: 0.5\n",
            "Para os nós 15 e 1 o Coeficiente de agrupamento de borda: 0.5\n",
            "Para os nós 15 e 2 o Coeficiente de agrupamento de borda: 0.5\n",
            "Para os nós 15 e 3 o Coeficiente de agrupamento de borda: 0.5\n",
            "Para os nós 15 e 4 o Coeficiente de agrupamento de borda: 0.5\n",
            "Para os nós 15 e 5 o Coeficiente de agrupamento de borda: 0.5\n",
            "Para os nós 15 e 6 o Coeficiente de agrupamento de borda: 0.5\n",
            "Para os nós 15 e 7 o Coeficiente de agrupamento de borda: 0.5\n",
            "Para os nós 15 e 8 o Coeficiente de agrupamento de borda: 0.5\n",
            "Para os nós 15 e 9 o Coeficiente de agrupamento de borda: 0.5\n",
            "Para os nós 15 e 10 o Coeficiente de agrupamento de borda: 0.5\n",
            "Para os nós 15 e 11 o Coeficiente de agrupamento de borda: 1.0\n",
            "Para os nós 15 e 12 o Coeficiente de agrupamento de borda: 0.5\n",
            "Para os nós 15 e 13 o Coeficiente de agrupamento de borda: 0.5\n",
            "Para os nós 15 e 14 o Coeficiente de agrupamento de borda: 0.5\n",
            "Para os nós 15 e 15 o Coeficiente de agrupamento de borda: 0.5\n",
            "Para os nós 15 e 16 o Coeficiente de agrupamento de borda: 0.5\n",
            "Para os nós 15 e 17 o Coeficiente de agrupamento de borda: 0.5\n",
            "Para os nós 15 e 18 o Coeficiente de agrupamento de borda: 0.5\n",
            "Para os nós 15 e 19 o Coeficiente de agrupamento de borda: 0.5\n",
            "Para os nós 15 e 20 o Coeficiente de agrupamento de borda: 0.5\n",
            "Para os nós 15 e 21 o Coeficiente de agrupamento de borda: 0.5\n",
            "Para os nós 15 e 22 o Coeficiente de agrupamento de borda: 0.5\n",
            "Para os nós 15 e 23 o Coeficiente de agrupamento de borda: 0.5\n",
            "Para os nós 15 e 24 o Coeficiente de agrupamento de borda: 0.5\n",
            "Para os nós 15 e 25 o Coeficiente de agrupamento de borda: 0.5\n",
            "Para os nós 15 e 26 o Coeficiente de agrupamento de borda: 0.5\n",
            "Para os nós 15 e 27 o Coeficiente de agrupamento de borda: 0.5\n",
            "Para os nós 15 e 28 o Coeficiente de agrupamento de borda: 0.5\n",
            "Para os nós 15 e 29 o Coeficiente de agrupamento de borda: 0.5\n",
            "Para os nós 15 e 30 o Coeficiente de agrupamento de borda: 0.5\n",
            "Para os nós 15 e 31 o Coeficiente de agrupamento de borda: 0.5\n",
            "Para os nós 15 e 32 o Coeficiente de agrupamento de borda: 2.5\n",
            "Para os nós 15 e 33 o Coeficiente de agrupamento de borda: 2.5\n",
            "Para os nós 16 e 0 o Coeficiente de agrupamento de borda: 0.5\n",
            "Para os nós 16 e 1 o Coeficiente de agrupamento de borda: 0.5\n",
            "Para os nós 16 e 2 o Coeficiente de agrupamento de borda: 0.5\n",
            "Para os nós 16 e 3 o Coeficiente de agrupamento de borda: 0.5\n",
            "Para os nós 16 e 4 o Coeficiente de agrupamento de borda: 0.5\n",
            "Para os nós 16 e 5 o Coeficiente de agrupamento de borda: 2.5\n",
            "Para os nós 16 e 6 o Coeficiente de agrupamento de borda: 2.5\n",
            "Para os nós 16 e 7 o Coeficiente de agrupamento de borda: 0.5\n",
            "Para os nós 16 e 8 o Coeficiente de agrupamento de borda: 0.5\n",
            "Para os nós 16 e 9 o Coeficiente de agrupamento de borda: 0.5\n",
            "Para os nós 16 e 10 o Coeficiente de agrupamento de borda: 0.5\n",
            "Para os nós 16 e 11 o Coeficiente de agrupamento de borda: 1.0\n",
            "Para os nós 16 e 12 o Coeficiente de agrupamento de borda: 0.5\n",
            "Para os nós 16 e 13 o Coeficiente de agrupamento de borda: 0.5\n",
            "Para os nós 16 e 14 o Coeficiente de agrupamento de borda: 0.5\n",
            "Para os nós 16 e 15 o Coeficiente de agrupamento de borda: 0.5\n",
            "Para os nós 16 e 16 o Coeficiente de agrupamento de borda: 0.5\n",
            "Para os nós 16 e 17 o Coeficiente de agrupamento de borda: 0.5\n",
            "Para os nós 16 e 18 o Coeficiente de agrupamento de borda: 0.5\n",
            "Para os nós 16 e 19 o Coeficiente de agrupamento de borda: 0.5\n",
            "Para os nós 16 e 20 o Coeficiente de agrupamento de borda: 0.5\n",
            "Para os nós 16 e 21 o Coeficiente de agrupamento de borda: 0.5\n",
            "Para os nós 16 e 22 o Coeficiente de agrupamento de borda: 0.5\n",
            "Para os nós 16 e 23 o Coeficiente de agrupamento de borda: 0.5\n",
            "Para os nós 16 e 24 o Coeficiente de agrupamento de borda: 0.5\n",
            "Para os nós 16 e 25 o Coeficiente de agrupamento de borda: 0.5\n",
            "Para os nós 16 e 26 o Coeficiente de agrupamento de borda: 0.5\n",
            "Para os nós 16 e 27 o Coeficiente de agrupamento de borda: 0.5\n",
            "Para os nós 16 e 28 o Coeficiente de agrupamento de borda: 0.5\n",
            "Para os nós 16 e 29 o Coeficiente de agrupamento de borda: 0.5\n",
            "Para os nós 16 e 30 o Coeficiente de agrupamento de borda: 0.5\n",
            "Para os nós 16 e 31 o Coeficiente de agrupamento de borda: 0.5\n",
            "Para os nós 16 e 32 o Coeficiente de agrupamento de borda: 0.5\n",
            "Para os nós 16 e 33 o Coeficiente de agrupamento de borda: 0.5\n",
            "Para os nós 17 e 0 o Coeficiente de agrupamento de borda: 2.5\n",
            "Para os nós 17 e 1 o Coeficiente de agrupamento de borda: 2.5\n",
            "Para os nós 17 e 2 o Coeficiente de agrupamento de borda: 0.5\n",
            "Para os nós 17 e 3 o Coeficiente de agrupamento de borda: 0.5\n",
            "Para os nós 17 e 4 o Coeficiente de agrupamento de borda: 0.5\n",
            "Para os nós 17 e 5 o Coeficiente de agrupamento de borda: 0.5\n",
            "Para os nós 17 e 6 o Coeficiente de agrupamento de borda: 0.5\n",
            "Para os nós 17 e 7 o Coeficiente de agrupamento de borda: 0.5\n",
            "Para os nós 17 e 8 o Coeficiente de agrupamento de borda: 0.5\n",
            "Para os nós 17 e 9 o Coeficiente de agrupamento de borda: 0.5\n",
            "Para os nós 17 e 10 o Coeficiente de agrupamento de borda: 0.5\n",
            "Para os nós 17 e 11 o Coeficiente de agrupamento de borda: 1.0\n",
            "Para os nós 17 e 12 o Coeficiente de agrupamento de borda: 0.5\n",
            "Para os nós 17 e 13 o Coeficiente de agrupamento de borda: 0.5\n",
            "Para os nós 17 e 14 o Coeficiente de agrupamento de borda: 0.5\n",
            "Para os nós 17 e 15 o Coeficiente de agrupamento de borda: 0.5\n",
            "Para os nós 17 e 16 o Coeficiente de agrupamento de borda: 0.5\n",
            "Para os nós 17 e 17 o Coeficiente de agrupamento de borda: 0.5\n",
            "Para os nós 17 e 18 o Coeficiente de agrupamento de borda: 0.5\n",
            "Para os nós 17 e 19 o Coeficiente de agrupamento de borda: 0.5\n",
            "Para os nós 17 e 20 o Coeficiente de agrupamento de borda: 0.5\n",
            "Para os nós 17 e 21 o Coeficiente de agrupamento de borda: 0.5\n",
            "Para os nós 17 e 22 o Coeficiente de agrupamento de borda: 0.5\n",
            "Para os nós 17 e 23 o Coeficiente de agrupamento de borda: 0.5\n",
            "Para os nós 17 e 24 o Coeficiente de agrupamento de borda: 0.5\n",
            "Para os nós 17 e 25 o Coeficiente de agrupamento de borda: 0.5\n",
            "Para os nós 17 e 26 o Coeficiente de agrupamento de borda: 0.5\n",
            "Para os nós 17 e 27 o Coeficiente de agrupamento de borda: 0.5\n",
            "Para os nós 17 e 28 o Coeficiente de agrupamento de borda: 0.5\n",
            "Para os nós 17 e 29 o Coeficiente de agrupamento de borda: 0.5\n",
            "Para os nós 17 e 30 o Coeficiente de agrupamento de borda: 0.5\n",
            "Para os nós 17 e 31 o Coeficiente de agrupamento de borda: 0.5\n",
            "Para os nós 17 e 32 o Coeficiente de agrupamento de borda: 0.5\n",
            "Para os nós 17 e 33 o Coeficiente de agrupamento de borda: 0.5\n",
            "Para os nós 18 e 0 o Coeficiente de agrupamento de borda: 0.5\n",
            "Para os nós 18 e 1 o Coeficiente de agrupamento de borda: 0.5\n",
            "Para os nós 18 e 2 o Coeficiente de agrupamento de borda: 0.5\n",
            "Para os nós 18 e 3 o Coeficiente de agrupamento de borda: 0.5\n",
            "Para os nós 18 e 4 o Coeficiente de agrupamento de borda: 0.5\n",
            "Para os nós 18 e 5 o Coeficiente de agrupamento de borda: 0.5\n",
            "Para os nós 18 e 6 o Coeficiente de agrupamento de borda: 0.5\n",
            "Para os nós 18 e 7 o Coeficiente de agrupamento de borda: 0.5\n",
            "Para os nós 18 e 8 o Coeficiente de agrupamento de borda: 0.5\n",
            "Para os nós 18 e 9 o Coeficiente de agrupamento de borda: 0.5\n",
            "Para os nós 18 e 10 o Coeficiente de agrupamento de borda: 0.5\n",
            "Para os nós 18 e 11 o Coeficiente de agrupamento de borda: 1.0\n",
            "Para os nós 18 e 12 o Coeficiente de agrupamento de borda: 0.5\n",
            "Para os nós 18 e 13 o Coeficiente de agrupamento de borda: 0.5\n",
            "Para os nós 18 e 14 o Coeficiente de agrupamento de borda: 0.5\n",
            "Para os nós 18 e 15 o Coeficiente de agrupamento de borda: 0.5\n",
            "Para os nós 18 e 16 o Coeficiente de agrupamento de borda: 0.5\n",
            "Para os nós 18 e 17 o Coeficiente de agrupamento de borda: 0.5\n",
            "Para os nós 18 e 18 o Coeficiente de agrupamento de borda: 0.5\n",
            "Para os nós 18 e 19 o Coeficiente de agrupamento de borda: 0.5\n",
            "Para os nós 18 e 20 o Coeficiente de agrupamento de borda: 0.5\n",
            "Para os nós 18 e 21 o Coeficiente de agrupamento de borda: 0.5\n",
            "Para os nós 18 e 22 o Coeficiente de agrupamento de borda: 0.5\n",
            "Para os nós 18 e 23 o Coeficiente de agrupamento de borda: 0.5\n",
            "Para os nós 18 e 24 o Coeficiente de agrupamento de borda: 0.5\n",
            "Para os nós 18 e 25 o Coeficiente de agrupamento de borda: 0.5\n",
            "Para os nós 18 e 26 o Coeficiente de agrupamento de borda: 0.5\n",
            "Para os nós 18 e 27 o Coeficiente de agrupamento de borda: 0.5\n",
            "Para os nós 18 e 28 o Coeficiente de agrupamento de borda: 0.5\n",
            "Para os nós 18 e 29 o Coeficiente de agrupamento de borda: 0.5\n",
            "Para os nós 18 e 30 o Coeficiente de agrupamento de borda: 0.5\n",
            "Para os nós 18 e 31 o Coeficiente de agrupamento de borda: 0.5\n",
            "Para os nós 18 e 32 o Coeficiente de agrupamento de borda: 2.5\n",
            "Para os nós 18 e 33 o Coeficiente de agrupamento de borda: 2.5\n",
            "Para os nós 19 e 0 o Coeficiente de agrupamento de borda: 1.6666666666666667\n",
            "Para os nós 19 e 1 o Coeficiente de agrupamento de borda: 1.6666666666666667\n",
            "Para os nós 19 e 2 o Coeficiente de agrupamento de borda: 0.3333333333333333\n",
            "Para os nós 19 e 3 o Coeficiente de agrupamento de borda: 0.3333333333333333\n",
            "Para os nós 19 e 4 o Coeficiente de agrupamento de borda: 0.3333333333333333\n",
            "Para os nós 19 e 5 o Coeficiente de agrupamento de borda: 0.3333333333333333\n",
            "Para os nós 19 e 6 o Coeficiente de agrupamento de borda: 0.3333333333333333\n",
            "Para os nós 19 e 7 o Coeficiente de agrupamento de borda: 0.3333333333333333\n",
            "Para os nós 19 e 8 o Coeficiente de agrupamento de borda: 0.3333333333333333\n",
            "Para os nós 19 e 9 o Coeficiente de agrupamento de borda: 0.5\n",
            "Para os nós 19 e 10 o Coeficiente de agrupamento de borda: 0.3333333333333333\n",
            "Para os nós 19 e 11 o Coeficiente de agrupamento de borda: 1.0\n",
            "Para os nós 19 e 12 o Coeficiente de agrupamento de borda: 0.5\n",
            "Para os nós 19 e 13 o Coeficiente de agrupamento de borda: 0.3333333333333333\n",
            "Para os nós 19 e 14 o Coeficiente de agrupamento de borda: 0.5\n",
            "Para os nós 19 e 15 o Coeficiente de agrupamento de borda: 0.5\n",
            "Para os nós 19 e 16 o Coeficiente de agrupamento de borda: 0.5\n",
            "Para os nós 19 e 17 o Coeficiente de agrupamento de borda: 0.5\n",
            "Para os nós 19 e 18 o Coeficiente de agrupamento de borda: 0.5\n",
            "Para os nós 19 e 19 o Coeficiente de agrupamento de borda: 0.3333333333333333\n",
            "Para os nós 19 e 20 o Coeficiente de agrupamento de borda: 0.5\n",
            "Para os nós 19 e 21 o Coeficiente de agrupamento de borda: 0.5\n",
            "Para os nós 19 e 22 o Coeficiente de agrupamento de borda: 0.5\n",
            "Para os nós 19 e 23 o Coeficiente de agrupamento de borda: 0.3333333333333333\n",
            "Para os nós 19 e 24 o Coeficiente de agrupamento de borda: 0.3333333333333333\n",
            "Para os nós 19 e 25 o Coeficiente de agrupamento de borda: 0.3333333333333333\n",
            "Para os nós 19 e 26 o Coeficiente de agrupamento de borda: 0.5\n",
            "Para os nós 19 e 27 o Coeficiente de agrupamento de borda: 0.3333333333333333\n",
            "Para os nós 19 e 28 o Coeficiente de agrupamento de borda: 0.3333333333333333\n",
            "Para os nós 19 e 29 o Coeficiente de agrupamento de borda: 0.3333333333333333\n",
            "Para os nós 19 e 30 o Coeficiente de agrupamento de borda: 0.3333333333333333\n",
            "Para os nós 19 e 31 o Coeficiente de agrupamento de borda: 0.3333333333333333\n",
            "Para os nós 19 e 32 o Coeficiente de agrupamento de borda: 0.3333333333333333\n",
            "Para os nós 19 e 33 o Coeficiente de agrupamento de borda: 1.6666666666666667\n",
            "Para os nós 20 e 0 o Coeficiente de agrupamento de borda: 0.5\n",
            "Para os nós 20 e 1 o Coeficiente de agrupamento de borda: 0.5\n",
            "Para os nós 20 e 2 o Coeficiente de agrupamento de borda: 0.5\n",
            "Para os nós 20 e 3 o Coeficiente de agrupamento de borda: 0.5\n",
            "Para os nós 20 e 4 o Coeficiente de agrupamento de borda: 0.5\n",
            "Para os nós 20 e 5 o Coeficiente de agrupamento de borda: 0.5\n",
            "Para os nós 20 e 6 o Coeficiente de agrupamento de borda: 0.5\n",
            "Para os nós 20 e 7 o Coeficiente de agrupamento de borda: 0.5\n",
            "Para os nós 20 e 8 o Coeficiente de agrupamento de borda: 0.5\n",
            "Para os nós 20 e 9 o Coeficiente de agrupamento de borda: 0.5\n",
            "Para os nós 20 e 10 o Coeficiente de agrupamento de borda: 0.5\n",
            "Para os nós 20 e 11 o Coeficiente de agrupamento de borda: 1.0\n",
            "Para os nós 20 e 12 o Coeficiente de agrupamento de borda: 0.5\n",
            "Para os nós 20 e 13 o Coeficiente de agrupamento de borda: 0.5\n",
            "Para os nós 20 e 14 o Coeficiente de agrupamento de borda: 0.5\n",
            "Para os nós 20 e 15 o Coeficiente de agrupamento de borda: 0.5\n",
            "Para os nós 20 e 16 o Coeficiente de agrupamento de borda: 0.5\n",
            "Para os nós 20 e 17 o Coeficiente de agrupamento de borda: 0.5\n",
            "Para os nós 20 e 18 o Coeficiente de agrupamento de borda: 0.5\n",
            "Para os nós 20 e 19 o Coeficiente de agrupamento de borda: 0.5\n",
            "Para os nós 20 e 20 o Coeficiente de agrupamento de borda: 0.5\n",
            "Para os nós 20 e 21 o Coeficiente de agrupamento de borda: 0.5\n",
            "Para os nós 20 e 22 o Coeficiente de agrupamento de borda: 0.5\n",
            "Para os nós 20 e 23 o Coeficiente de agrupamento de borda: 0.5\n",
            "Para os nós 20 e 24 o Coeficiente de agrupamento de borda: 0.5\n",
            "Para os nós 20 e 25 o Coeficiente de agrupamento de borda: 0.5\n",
            "Para os nós 20 e 26 o Coeficiente de agrupamento de borda: 0.5\n",
            "Para os nós 20 e 27 o Coeficiente de agrupamento de borda: 0.5\n",
            "Para os nós 20 e 28 o Coeficiente de agrupamento de borda: 0.5\n",
            "Para os nós 20 e 29 o Coeficiente de agrupamento de borda: 0.5\n",
            "Para os nós 20 e 30 o Coeficiente de agrupamento de borda: 0.5\n",
            "Para os nós 20 e 31 o Coeficiente de agrupamento de borda: 0.5\n",
            "Para os nós 20 e 32 o Coeficiente de agrupamento de borda: 2.5\n",
            "Para os nós 20 e 33 o Coeficiente de agrupamento de borda: 2.5\n",
            "Para os nós 21 e 0 o Coeficiente de agrupamento de borda: 2.5\n",
            "Para os nós 21 e 1 o Coeficiente de agrupamento de borda: 2.5\n",
            "Para os nós 21 e 2 o Coeficiente de agrupamento de borda: 0.5\n",
            "Para os nós 21 e 3 o Coeficiente de agrupamento de borda: 0.5\n",
            "Para os nós 21 e 4 o Coeficiente de agrupamento de borda: 0.5\n",
            "Para os nós 21 e 5 o Coeficiente de agrupamento de borda: 0.5\n",
            "Para os nós 21 e 6 o Coeficiente de agrupamento de borda: 0.5\n",
            "Para os nós 21 e 7 o Coeficiente de agrupamento de borda: 0.5\n",
            "Para os nós 21 e 8 o Coeficiente de agrupamento de borda: 0.5\n",
            "Para os nós 21 e 9 o Coeficiente de agrupamento de borda: 0.5\n",
            "Para os nós 21 e 10 o Coeficiente de agrupamento de borda: 0.5\n",
            "Para os nós 21 e 11 o Coeficiente de agrupamento de borda: 1.0\n",
            "Para os nós 21 e 12 o Coeficiente de agrupamento de borda: 0.5\n",
            "Para os nós 21 e 13 o Coeficiente de agrupamento de borda: 0.5\n",
            "Para os nós 21 e 14 o Coeficiente de agrupamento de borda: 0.5\n",
            "Para os nós 21 e 15 o Coeficiente de agrupamento de borda: 0.5\n",
            "Para os nós 21 e 16 o Coeficiente de agrupamento de borda: 0.5\n",
            "Para os nós 21 e 17 o Coeficiente de agrupamento de borda: 0.5\n",
            "Para os nós 21 e 18 o Coeficiente de agrupamento de borda: 0.5\n",
            "Para os nós 21 e 19 o Coeficiente de agrupamento de borda: 0.5\n",
            "Para os nós 21 e 20 o Coeficiente de agrupamento de borda: 0.5\n",
            "Para os nós 21 e 21 o Coeficiente de agrupamento de borda: 0.5\n",
            "Para os nós 21 e 22 o Coeficiente de agrupamento de borda: 0.5\n",
            "Para os nós 21 e 23 o Coeficiente de agrupamento de borda: 0.5\n",
            "Para os nós 21 e 24 o Coeficiente de agrupamento de borda: 0.5\n",
            "Para os nós 21 e 25 o Coeficiente de agrupamento de borda: 0.5\n",
            "Para os nós 21 e 26 o Coeficiente de agrupamento de borda: 0.5\n",
            "Para os nós 21 e 27 o Coeficiente de agrupamento de borda: 0.5\n",
            "Para os nós 21 e 28 o Coeficiente de agrupamento de borda: 0.5\n",
            "Para os nós 21 e 29 o Coeficiente de agrupamento de borda: 0.5\n",
            "Para os nós 21 e 30 o Coeficiente de agrupamento de borda: 0.5\n",
            "Para os nós 21 e 31 o Coeficiente de agrupamento de borda: 0.5\n",
            "Para os nós 21 e 32 o Coeficiente de agrupamento de borda: 0.5\n",
            "Para os nós 21 e 33 o Coeficiente de agrupamento de borda: 0.5\n",
            "Para os nós 22 e 0 o Coeficiente de agrupamento de borda: 0.5\n",
            "Para os nós 22 e 1 o Coeficiente de agrupamento de borda: 0.5\n",
            "Para os nós 22 e 2 o Coeficiente de agrupamento de borda: 0.5\n",
            "Para os nós 22 e 3 o Coeficiente de agrupamento de borda: 0.5\n",
            "Para os nós 22 e 4 o Coeficiente de agrupamento de borda: 0.5\n",
            "Para os nós 22 e 5 o Coeficiente de agrupamento de borda: 0.5\n",
            "Para os nós 22 e 6 o Coeficiente de agrupamento de borda: 0.5\n",
            "Para os nós 22 e 7 o Coeficiente de agrupamento de borda: 0.5\n",
            "Para os nós 22 e 8 o Coeficiente de agrupamento de borda: 0.5\n",
            "Para os nós 22 e 9 o Coeficiente de agrupamento de borda: 0.5\n",
            "Para os nós 22 e 10 o Coeficiente de agrupamento de borda: 0.5\n",
            "Para os nós 22 e 11 o Coeficiente de agrupamento de borda: 1.0\n",
            "Para os nós 22 e 12 o Coeficiente de agrupamento de borda: 0.5\n",
            "Para os nós 22 e 13 o Coeficiente de agrupamento de borda: 0.5\n",
            "Para os nós 22 e 14 o Coeficiente de agrupamento de borda: 0.5\n",
            "Para os nós 22 e 15 o Coeficiente de agrupamento de borda: 0.5\n",
            "Para os nós 22 e 16 o Coeficiente de agrupamento de borda: 0.5\n",
            "Para os nós 22 e 17 o Coeficiente de agrupamento de borda: 0.5\n",
            "Para os nós 22 e 18 o Coeficiente de agrupamento de borda: 0.5\n",
            "Para os nós 22 e 19 o Coeficiente de agrupamento de borda: 0.5\n",
            "Para os nós 22 e 20 o Coeficiente de agrupamento de borda: 0.5\n",
            "Para os nós 22 e 21 o Coeficiente de agrupamento de borda: 0.5\n",
            "Para os nós 22 e 22 o Coeficiente de agrupamento de borda: 0.5\n",
            "Para os nós 22 e 23 o Coeficiente de agrupamento de borda: 0.5\n",
            "Para os nós 22 e 24 o Coeficiente de agrupamento de borda: 0.5\n",
            "Para os nós 22 e 25 o Coeficiente de agrupamento de borda: 0.5\n",
            "Para os nós 22 e 26 o Coeficiente de agrupamento de borda: 0.5\n",
            "Para os nós 22 e 27 o Coeficiente de agrupamento de borda: 0.5\n",
            "Para os nós 22 e 28 o Coeficiente de agrupamento de borda: 0.5\n",
            "Para os nós 22 e 29 o Coeficiente de agrupamento de borda: 0.5\n",
            "Para os nós 22 e 30 o Coeficiente de agrupamento de borda: 0.5\n",
            "Para os nós 22 e 31 o Coeficiente de agrupamento de borda: 0.5\n",
            "Para os nós 22 e 32 o Coeficiente de agrupamento de borda: 2.5\n",
            "Para os nós 22 e 33 o Coeficiente de agrupamento de borda: 2.5\n",
            "Para os nós 23 e 0 o Coeficiente de agrupamento de borda: 0.2\n",
            "Para os nós 23 e 1 o Coeficiente de agrupamento de borda: 0.2\n",
            "Para os nós 23 e 2 o Coeficiente de agrupamento de borda: 0.2\n",
            "Para os nós 23 e 3 o Coeficiente de agrupamento de borda: 0.2\n",
            "Para os nós 23 e 4 o Coeficiente de agrupamento de borda: 0.3333333333333333\n",
            "Para os nós 23 e 5 o Coeficiente de agrupamento de borda: 0.25\n",
            "Para os nós 23 e 6 o Coeficiente de agrupamento de borda: 0.25\n",
            "Para os nós 23 e 7 o Coeficiente de agrupamento de borda: 0.25\n",
            "Para os nós 23 e 8 o Coeficiente de agrupamento de borda: 0.2\n",
            "Para os nós 23 e 9 o Coeficiente de agrupamento de borda: 0.5\n",
            "Para os nós 23 e 10 o Coeficiente de agrupamento de borda: 0.3333333333333333\n",
            "Para os nós 23 e 11 o Coeficiente de agrupamento de borda: 1.0\n",
            "Para os nós 23 e 12 o Coeficiente de agrupamento de borda: 0.5\n",
            "Para os nós 23 e 13 o Coeficiente de agrupamento de borda: 0.2\n",
            "Para os nós 23 e 14 o Coeficiente de agrupamento de borda: 0.5\n",
            "Para os nós 23 e 15 o Coeficiente de agrupamento de borda: 0.5\n",
            "Para os nós 23 e 16 o Coeficiente de agrupamento de borda: 0.5\n",
            "Para os nós 23 e 17 o Coeficiente de agrupamento de borda: 0.5\n",
            "Para os nós 23 e 18 o Coeficiente de agrupamento de borda: 0.5\n",
            "Para os nós 23 e 19 o Coeficiente de agrupamento de borda: 0.3333333333333333\n",
            "Para os nós 23 e 20 o Coeficiente de agrupamento de borda: 0.5\n",
            "Para os nós 23 e 21 o Coeficiente de agrupamento de borda: 0.5\n",
            "Para os nós 23 e 22 o Coeficiente de agrupamento de borda: 0.5\n",
            "Para os nós 23 e 23 o Coeficiente de agrupamento de borda: 0.2\n",
            "Para os nós 23 e 24 o Coeficiente de agrupamento de borda: 0.3333333333333333\n",
            "Para os nós 23 e 25 o Coeficiente de agrupamento de borda: 1.6666666666666667\n",
            "Para os nós 23 e 26 o Coeficiente de agrupamento de borda: 0.5\n",
            "Para os nós 23 e 27 o Coeficiente de agrupamento de borda: 1.25\n",
            "Para os nós 23 e 28 o Coeficiente de agrupamento de borda: 0.3333333333333333\n",
            "Para os nós 23 e 29 o Coeficiente de agrupamento de borda: 1.25\n",
            "Para os nós 23 e 30 o Coeficiente de agrupamento de borda: 0.25\n",
            "Para os nós 23 e 31 o Coeficiente de agrupamento de borda: 0.2\n",
            "Para os nós 23 e 32 o Coeficiente de agrupamento de borda: 1.0\n",
            "Para os nós 23 e 33 o Coeficiente de agrupamento de borda: 1.0\n",
            "Para os nós 24 e 0 o Coeficiente de agrupamento de borda: 0.3333333333333333\n",
            "Para os nós 24 e 1 o Coeficiente de agrupamento de borda: 0.3333333333333333\n",
            "Para os nós 24 e 2 o Coeficiente de agrupamento de borda: 0.3333333333333333\n",
            "Para os nós 24 e 3 o Coeficiente de agrupamento de borda: 0.3333333333333333\n",
            "Para os nós 24 e 4 o Coeficiente de agrupamento de borda: 0.3333333333333333\n",
            "Para os nós 24 e 5 o Coeficiente de agrupamento de borda: 0.3333333333333333\n",
            "Para os nós 24 e 6 o Coeficiente de agrupamento de borda: 0.3333333333333333\n",
            "Para os nós 24 e 7 o Coeficiente de agrupamento de borda: 0.3333333333333333\n",
            "Para os nós 24 e 8 o Coeficiente de agrupamento de borda: 0.3333333333333333\n",
            "Para os nós 24 e 9 o Coeficiente de agrupamento de borda: 0.5\n",
            "Para os nós 24 e 10 o Coeficiente de agrupamento de borda: 0.3333333333333333\n",
            "Para os nós 24 e 11 o Coeficiente de agrupamento de borda: 1.0\n",
            "Para os nós 24 e 12 o Coeficiente de agrupamento de borda: 0.5\n",
            "Para os nós 24 e 13 o Coeficiente de agrupamento de borda: 0.3333333333333333\n",
            "Para os nós 24 e 14 o Coeficiente de agrupamento de borda: 0.5\n",
            "Para os nós 24 e 15 o Coeficiente de agrupamento de borda: 0.5\n",
            "Para os nós 24 e 16 o Coeficiente de agrupamento de borda: 0.5\n",
            "Para os nós 24 e 17 o Coeficiente de agrupamento de borda: 0.5\n",
            "Para os nós 24 e 18 o Coeficiente de agrupamento de borda: 0.5\n",
            "Para os nós 24 e 19 o Coeficiente de agrupamento de borda: 0.3333333333333333\n",
            "Para os nós 24 e 20 o Coeficiente de agrupamento de borda: 0.5\n",
            "Para os nós 24 e 21 o Coeficiente de agrupamento de borda: 0.5\n",
            "Para os nós 24 e 22 o Coeficiente de agrupamento de borda: 0.5\n",
            "Para os nós 24 e 23 o Coeficiente de agrupamento de borda: 0.3333333333333333\n",
            "Para os nós 24 e 24 o Coeficiente de agrupamento de borda: 0.3333333333333333\n",
            "Para os nós 24 e 25 o Coeficiente de agrupamento de borda: 1.6666666666666667\n",
            "Para os nós 24 e 26 o Coeficiente de agrupamento de borda: 0.5\n",
            "Para os nós 24 e 27 o Coeficiente de agrupamento de borda: 1.6666666666666667\n",
            "Para os nós 24 e 28 o Coeficiente de agrupamento de borda: 0.3333333333333333\n",
            "Para os nós 24 e 29 o Coeficiente de agrupamento de borda: 0.3333333333333333\n",
            "Para os nós 24 e 30 o Coeficiente de agrupamento de borda: 0.3333333333333333\n",
            "Para os nós 24 e 31 o Coeficiente de agrupamento de borda: 1.6666666666666667\n",
            "Para os nós 24 e 32 o Coeficiente de agrupamento de borda: 0.3333333333333333\n",
            "Para os nós 24 e 33 o Coeficiente de agrupamento de borda: 0.3333333333333333\n",
            "Para os nós 25 e 0 o Coeficiente de agrupamento de borda: 0.3333333333333333\n",
            "Para os nós 25 e 1 o Coeficiente de agrupamento de borda: 0.3333333333333333\n",
            "Para os nós 25 e 2 o Coeficiente de agrupamento de borda: 0.3333333333333333\n",
            "Para os nós 25 e 3 o Coeficiente de agrupamento de borda: 0.3333333333333333\n",
            "Para os nós 25 e 4 o Coeficiente de agrupamento de borda: 0.3333333333333333\n",
            "Para os nós 25 e 5 o Coeficiente de agrupamento de borda: 0.3333333333333333\n",
            "Para os nós 25 e 6 o Coeficiente de agrupamento de borda: 0.3333333333333333\n",
            "Para os nós 25 e 7 o Coeficiente de agrupamento de borda: 0.3333333333333333\n",
            "Para os nós 25 e 8 o Coeficiente de agrupamento de borda: 0.3333333333333333\n",
            "Para os nós 25 e 9 o Coeficiente de agrupamento de borda: 0.5\n",
            "Para os nós 25 e 10 o Coeficiente de agrupamento de borda: 0.3333333333333333\n",
            "Para os nós 25 e 11 o Coeficiente de agrupamento de borda: 1.0\n",
            "Para os nós 25 e 12 o Coeficiente de agrupamento de borda: 0.5\n",
            "Para os nós 25 e 13 o Coeficiente de agrupamento de borda: 0.3333333333333333\n",
            "Para os nós 25 e 14 o Coeficiente de agrupamento de borda: 0.5\n",
            "Para os nós 25 e 15 o Coeficiente de agrupamento de borda: 0.5\n",
            "Para os nós 25 e 16 o Coeficiente de agrupamento de borda: 0.5\n",
            "Para os nós 25 e 17 o Coeficiente de agrupamento de borda: 0.5\n",
            "Para os nós 25 e 18 o Coeficiente de agrupamento de borda: 0.5\n",
            "Para os nós 25 e 19 o Coeficiente de agrupamento de borda: 0.3333333333333333\n",
            "Para os nós 25 e 20 o Coeficiente de agrupamento de borda: 0.5\n",
            "Para os nós 25 e 21 o Coeficiente de agrupamento de borda: 0.5\n",
            "Para os nós 25 e 22 o Coeficiente de agrupamento de borda: 0.5\n",
            "Para os nós 25 e 23 o Coeficiente de agrupamento de borda: 1.6666666666666667\n",
            "Para os nós 25 e 24 o Coeficiente de agrupamento de borda: 1.6666666666666667\n",
            "Para os nós 25 e 25 o Coeficiente de agrupamento de borda: 0.3333333333333333\n",
            "Para os nós 25 e 26 o Coeficiente de agrupamento de borda: 0.5\n",
            "Para os nós 25 e 27 o Coeficiente de agrupamento de borda: 0.3333333333333333\n",
            "Para os nós 25 e 28 o Coeficiente de agrupamento de borda: 0.3333333333333333\n",
            "Para os nós 25 e 29 o Coeficiente de agrupamento de borda: 0.3333333333333333\n",
            "Para os nós 25 e 30 o Coeficiente de agrupamento de borda: 0.3333333333333333\n",
            "Para os nós 25 e 31 o Coeficiente de agrupamento de borda: 1.6666666666666667\n",
            "Para os nós 25 e 32 o Coeficiente de agrupamento de borda: 0.3333333333333333\n",
            "Para os nós 25 e 33 o Coeficiente de agrupamento de borda: 0.3333333333333333\n",
            "Para os nós 26 e 0 o Coeficiente de agrupamento de borda: 0.5\n",
            "Para os nós 26 e 1 o Coeficiente de agrupamento de borda: 0.5\n",
            "Para os nós 26 e 2 o Coeficiente de agrupamento de borda: 0.5\n",
            "Para os nós 26 e 3 o Coeficiente de agrupamento de borda: 0.5\n",
            "Para os nós 26 e 4 o Coeficiente de agrupamento de borda: 0.5\n",
            "Para os nós 26 e 5 o Coeficiente de agrupamento de borda: 0.5\n",
            "Para os nós 26 e 6 o Coeficiente de agrupamento de borda: 0.5\n",
            "Para os nós 26 e 7 o Coeficiente de agrupamento de borda: 0.5\n",
            "Para os nós 26 e 8 o Coeficiente de agrupamento de borda: 0.5\n",
            "Para os nós 26 e 9 o Coeficiente de agrupamento de borda: 0.5\n",
            "Para os nós 26 e 10 o Coeficiente de agrupamento de borda: 0.5\n",
            "Para os nós 26 e 11 o Coeficiente de agrupamento de borda: 1.0\n",
            "Para os nós 26 e 12 o Coeficiente de agrupamento de borda: 0.5\n",
            "Para os nós 26 e 13 o Coeficiente de agrupamento de borda: 0.5\n",
            "Para os nós 26 e 14 o Coeficiente de agrupamento de borda: 0.5\n",
            "Para os nós 26 e 15 o Coeficiente de agrupamento de borda: 0.5\n",
            "Para os nós 26 e 16 o Coeficiente de agrupamento de borda: 0.5\n",
            "Para os nós 26 e 17 o Coeficiente de agrupamento de borda: 0.5\n",
            "Para os nós 26 e 18 o Coeficiente de agrupamento de borda: 0.5\n",
            "Para os nós 26 e 19 o Coeficiente de agrupamento de borda: 0.5\n",
            "Para os nós 26 e 20 o Coeficiente de agrupamento de borda: 0.5\n",
            "Para os nós 26 e 21 o Coeficiente de agrupamento de borda: 0.5\n",
            "Para os nós 26 e 22 o Coeficiente de agrupamento de borda: 0.5\n",
            "Para os nós 26 e 23 o Coeficiente de agrupamento de borda: 0.5\n",
            "Para os nós 26 e 24 o Coeficiente de agrupamento de borda: 0.5\n",
            "Para os nós 26 e 25 o Coeficiente de agrupamento de borda: 0.5\n",
            "Para os nós 26 e 26 o Coeficiente de agrupamento de borda: 0.5\n",
            "Para os nós 26 e 27 o Coeficiente de agrupamento de borda: 0.5\n",
            "Para os nós 26 e 28 o Coeficiente de agrupamento de borda: 0.5\n",
            "Para os nós 26 e 29 o Coeficiente de agrupamento de borda: 2.5\n",
            "Para os nós 26 e 30 o Coeficiente de agrupamento de borda: 0.5\n",
            "Para os nós 26 e 31 o Coeficiente de agrupamento de borda: 0.5\n",
            "Para os nós 26 e 32 o Coeficiente de agrupamento de borda: 0.5\n",
            "Para os nós 26 e 33 o Coeficiente de agrupamento de borda: 2.5\n",
            "Para os nós 27 e 0 o Coeficiente de agrupamento de borda: 0.25\n",
            "Para os nós 27 e 1 o Coeficiente de agrupamento de borda: 0.25\n",
            "Para os nós 27 e 2 o Coeficiente de agrupamento de borda: 1.25\n",
            "Para os nós 27 e 3 o Coeficiente de agrupamento de borda: 0.25\n",
            "Para os nós 27 e 4 o Coeficiente de agrupamento de borda: 0.3333333333333333\n",
            "Para os nós 27 e 5 o Coeficiente de agrupamento de borda: 0.25\n",
            "Para os nós 27 e 6 o Coeficiente de agrupamento de borda: 0.25\n",
            "Para os nós 27 e 7 o Coeficiente de agrupamento de borda: 0.25\n",
            "Para os nós 27 e 8 o Coeficiente de agrupamento de borda: 0.25\n",
            "Para os nós 27 e 9 o Coeficiente de agrupamento de borda: 0.5\n",
            "Para os nós 27 e 10 o Coeficiente de agrupamento de borda: 0.3333333333333333\n",
            "Para os nós 27 e 11 o Coeficiente de agrupamento de borda: 1.0\n",
            "Para os nós 27 e 12 o Coeficiente de agrupamento de borda: 0.5\n",
            "Para os nós 27 e 13 o Coeficiente de agrupamento de borda: 0.25\n",
            "Para os nós 27 e 14 o Coeficiente de agrupamento de borda: 0.5\n",
            "Para os nós 27 e 15 o Coeficiente de agrupamento de borda: 0.5\n",
            "Para os nós 27 e 16 o Coeficiente de agrupamento de borda: 0.5\n",
            "Para os nós 27 e 17 o Coeficiente de agrupamento de borda: 0.5\n",
            "Para os nós 27 e 18 o Coeficiente de agrupamento de borda: 0.5\n",
            "Para os nós 27 e 19 o Coeficiente de agrupamento de borda: 0.3333333333333333\n",
            "Para os nós 27 e 20 o Coeficiente de agrupamento de borda: 0.5\n",
            "Para os nós 27 e 21 o Coeficiente de agrupamento de borda: 0.5\n",
            "Para os nós 27 e 22 o Coeficiente de agrupamento de borda: 0.5\n",
            "Para os nós 27 e 23 o Coeficiente de agrupamento de borda: 1.25\n",
            "Para os nós 27 e 24 o Coeficiente de agrupamento de borda: 1.6666666666666667\n",
            "Para os nós 27 e 25 o Coeficiente de agrupamento de borda: 0.3333333333333333\n",
            "Para os nós 27 e 26 o Coeficiente de agrupamento de borda: 0.5\n",
            "Para os nós 27 e 27 o Coeficiente de agrupamento de borda: 0.25\n",
            "Para os nós 27 e 28 o Coeficiente de agrupamento de borda: 0.3333333333333333\n",
            "Para os nós 27 e 29 o Coeficiente de agrupamento de borda: 0.25\n",
            "Para os nós 27 e 30 o Coeficiente de agrupamento de borda: 0.25\n",
            "Para os nós 27 e 31 o Coeficiente de agrupamento de borda: 0.25\n",
            "Para os nós 27 e 32 o Coeficiente de agrupamento de borda: 0.25\n",
            "Para os nós 27 e 33 o Coeficiente de agrupamento de borda: 1.25\n",
            "Para os nós 28 e 0 o Coeficiente de agrupamento de borda: 0.3333333333333333\n",
            "Para os nós 28 e 1 o Coeficiente de agrupamento de borda: 0.3333333333333333\n",
            "Para os nós 28 e 2 o Coeficiente de agrupamento de borda: 1.6666666666666667\n",
            "Para os nós 28 e 3 o Coeficiente de agrupamento de borda: 0.3333333333333333\n",
            "Para os nós 28 e 4 o Coeficiente de agrupamento de borda: 0.3333333333333333\n",
            "Para os nós 28 e 5 o Coeficiente de agrupamento de borda: 0.3333333333333333\n",
            "Para os nós 28 e 6 o Coeficiente de agrupamento de borda: 0.3333333333333333\n",
            "Para os nós 28 e 7 o Coeficiente de agrupamento de borda: 0.3333333333333333\n",
            "Para os nós 28 e 8 o Coeficiente de agrupamento de borda: 0.3333333333333333\n",
            "Para os nós 28 e 9 o Coeficiente de agrupamento de borda: 0.5\n",
            "Para os nós 28 e 10 o Coeficiente de agrupamento de borda: 0.3333333333333333\n",
            "Para os nós 28 e 11 o Coeficiente de agrupamento de borda: 1.0\n",
            "Para os nós 28 e 12 o Coeficiente de agrupamento de borda: 0.5\n",
            "Para os nós 28 e 13 o Coeficiente de agrupamento de borda: 0.3333333333333333\n",
            "Para os nós 28 e 14 o Coeficiente de agrupamento de borda: 0.5\n",
            "Para os nós 28 e 15 o Coeficiente de agrupamento de borda: 0.5\n",
            "Para os nós 28 e 16 o Coeficiente de agrupamento de borda: 0.5\n",
            "Para os nós 28 e 17 o Coeficiente de agrupamento de borda: 0.5\n",
            "Para os nós 28 e 18 o Coeficiente de agrupamento de borda: 0.5\n",
            "Para os nós 28 e 19 o Coeficiente de agrupamento de borda: 0.3333333333333333\n",
            "Para os nós 28 e 20 o Coeficiente de agrupamento de borda: 0.5\n",
            "Para os nós 28 e 21 o Coeficiente de agrupamento de borda: 0.5\n",
            "Para os nós 28 e 22 o Coeficiente de agrupamento de borda: 0.5\n",
            "Para os nós 28 e 23 o Coeficiente de agrupamento de borda: 0.3333333333333333\n",
            "Para os nós 28 e 24 o Coeficiente de agrupamento de borda: 0.3333333333333333\n",
            "Para os nós 28 e 25 o Coeficiente de agrupamento de borda: 0.3333333333333333\n",
            "Para os nós 28 e 26 o Coeficiente de agrupamento de borda: 0.5\n",
            "Para os nós 28 e 27 o Coeficiente de agrupamento de borda: 0.3333333333333333\n",
            "Para os nós 28 e 28 o Coeficiente de agrupamento de borda: 0.3333333333333333\n",
            "Para os nós 28 e 29 o Coeficiente de agrupamento de borda: 0.3333333333333333\n",
            "Para os nós 28 e 30 o Coeficiente de agrupamento de borda: 0.3333333333333333\n",
            "Para os nós 28 e 31 o Coeficiente de agrupamento de borda: 1.6666666666666667\n",
            "Para os nós 28 e 32 o Coeficiente de agrupamento de borda: 0.3333333333333333\n",
            "Para os nós 28 e 33 o Coeficiente de agrupamento de borda: 1.6666666666666667\n",
            "Para os nós 29 e 0 o Coeficiente de agrupamento de borda: 0.25\n",
            "Para os nós 29 e 1 o Coeficiente de agrupamento de borda: 0.25\n",
            "Para os nós 29 e 2 o Coeficiente de agrupamento de borda: 0.25\n",
            "Para os nós 29 e 3 o Coeficiente de agrupamento de borda: 0.25\n",
            "Para os nós 29 e 4 o Coeficiente de agrupamento de borda: 0.3333333333333333\n",
            "Para os nós 29 e 5 o Coeficiente de agrupamento de borda: 0.25\n",
            "Para os nós 29 e 6 o Coeficiente de agrupamento de borda: 0.25\n",
            "Para os nós 29 e 7 o Coeficiente de agrupamento de borda: 0.25\n",
            "Para os nós 29 e 8 o Coeficiente de agrupamento de borda: 0.25\n",
            "Para os nós 29 e 9 o Coeficiente de agrupamento de borda: 0.5\n",
            "Para os nós 29 e 10 o Coeficiente de agrupamento de borda: 0.3333333333333333\n",
            "Para os nós 29 e 11 o Coeficiente de agrupamento de borda: 1.0\n",
            "Para os nós 29 e 12 o Coeficiente de agrupamento de borda: 0.5\n",
            "Para os nós 29 e 13 o Coeficiente de agrupamento de borda: 0.25\n",
            "Para os nós 29 e 14 o Coeficiente de agrupamento de borda: 0.5\n",
            "Para os nós 29 e 15 o Coeficiente de agrupamento de borda: 0.5\n",
            "Para os nós 29 e 16 o Coeficiente de agrupamento de borda: 0.5\n",
            "Para os nós 29 e 17 o Coeficiente de agrupamento de borda: 0.5\n",
            "Para os nós 29 e 18 o Coeficiente de agrupamento de borda: 0.5\n",
            "Para os nós 29 e 19 o Coeficiente de agrupamento de borda: 0.3333333333333333\n",
            "Para os nós 29 e 20 o Coeficiente de agrupamento de borda: 0.5\n",
            "Para os nós 29 e 21 o Coeficiente de agrupamento de borda: 0.5\n",
            "Para os nós 29 e 22 o Coeficiente de agrupamento de borda: 0.5\n",
            "Para os nós 29 e 23 o Coeficiente de agrupamento de borda: 1.25\n",
            "Para os nós 29 e 24 o Coeficiente de agrupamento de borda: 0.3333333333333333\n",
            "Para os nós 29 e 25 o Coeficiente de agrupamento de borda: 0.3333333333333333\n",
            "Para os nós 29 e 26 o Coeficiente de agrupamento de borda: 2.5\n",
            "Para os nós 29 e 27 o Coeficiente de agrupamento de borda: 0.25\n",
            "Para os nós 29 e 28 o Coeficiente de agrupamento de borda: 0.3333333333333333\n",
            "Para os nós 29 e 29 o Coeficiente de agrupamento de borda: 0.25\n",
            "Para os nós 29 e 30 o Coeficiente de agrupamento de borda: 0.25\n",
            "Para os nós 29 e 31 o Coeficiente de agrupamento de borda: 0.25\n",
            "Para os nós 29 e 32 o Coeficiente de agrupamento de borda: 1.25\n",
            "Para os nós 29 e 33 o Coeficiente de agrupamento de borda: 1.25\n",
            "Para os nós 30 e 0 o Coeficiente de agrupamento de borda: 0.25\n",
            "Para os nós 30 e 1 o Coeficiente de agrupamento de borda: 1.25\n",
            "Para os nós 30 e 2 o Coeficiente de agrupamento de borda: 0.25\n",
            "Para os nós 30 e 3 o Coeficiente de agrupamento de borda: 0.25\n",
            "Para os nós 30 e 4 o Coeficiente de agrupamento de borda: 0.3333333333333333\n",
            "Para os nós 30 e 5 o Coeficiente de agrupamento de borda: 0.25\n",
            "Para os nós 30 e 6 o Coeficiente de agrupamento de borda: 0.25\n",
            "Para os nós 30 e 7 o Coeficiente de agrupamento de borda: 0.25\n",
            "Para os nós 30 e 8 o Coeficiente de agrupamento de borda: 1.25\n",
            "Para os nós 30 e 9 o Coeficiente de agrupamento de borda: 0.5\n",
            "Para os nós 30 e 10 o Coeficiente de agrupamento de borda: 0.3333333333333333\n",
            "Para os nós 30 e 11 o Coeficiente de agrupamento de borda: 1.0\n",
            "Para os nós 30 e 12 o Coeficiente de agrupamento de borda: 0.5\n",
            "Para os nós 30 e 13 o Coeficiente de agrupamento de borda: 0.25\n",
            "Para os nós 30 e 14 o Coeficiente de agrupamento de borda: 0.5\n",
            "Para os nós 30 e 15 o Coeficiente de agrupamento de borda: 0.5\n",
            "Para os nós 30 e 16 o Coeficiente de agrupamento de borda: 0.5\n",
            "Para os nós 30 e 17 o Coeficiente de agrupamento de borda: 0.5\n",
            "Para os nós 30 e 18 o Coeficiente de agrupamento de borda: 0.5\n",
            "Para os nós 30 e 19 o Coeficiente de agrupamento de borda: 0.3333333333333333\n",
            "Para os nós 30 e 20 o Coeficiente de agrupamento de borda: 0.5\n",
            "Para os nós 30 e 21 o Coeficiente de agrupamento de borda: 0.5\n",
            "Para os nós 30 e 22 o Coeficiente de agrupamento de borda: 0.5\n",
            "Para os nós 30 e 23 o Coeficiente de agrupamento de borda: 0.25\n",
            "Para os nós 30 e 24 o Coeficiente de agrupamento de borda: 0.3333333333333333\n",
            "Para os nós 30 e 25 o Coeficiente de agrupamento de borda: 0.3333333333333333\n",
            "Para os nós 30 e 26 o Coeficiente de agrupamento de borda: 0.5\n",
            "Para os nós 30 e 27 o Coeficiente de agrupamento de borda: 0.25\n",
            "Para os nós 30 e 28 o Coeficiente de agrupamento de borda: 0.3333333333333333\n",
            "Para os nós 30 e 29 o Coeficiente de agrupamento de borda: 0.25\n",
            "Para os nós 30 e 30 o Coeficiente de agrupamento de borda: 0.25\n",
            "Para os nós 30 e 31 o Coeficiente de agrupamento de borda: 0.25\n",
            "Para os nós 30 e 32 o Coeficiente de agrupamento de borda: 1.25\n",
            "Para os nós 30 e 33 o Coeficiente de agrupamento de borda: 1.25\n",
            "Para os nós 31 e 0 o Coeficiente de agrupamento de borda: 0.8333333333333334\n",
            "Para os nós 31 e 1 o Coeficiente de agrupamento de borda: 0.16666666666666666\n",
            "Para os nós 31 e 2 o Coeficiente de agrupamento de borda: 0.16666666666666666\n",
            "Para os nós 31 e 3 o Coeficiente de agrupamento de borda: 0.16666666666666666\n",
            "Para os nós 31 e 4 o Coeficiente de agrupamento de borda: 0.3333333333333333\n",
            "Para os nós 31 e 5 o Coeficiente de agrupamento de borda: 0.25\n",
            "Para os nós 31 e 6 o Coeficiente de agrupamento de borda: 0.25\n",
            "Para os nós 31 e 7 o Coeficiente de agrupamento de borda: 0.25\n",
            "Para os nós 31 e 8 o Coeficiente de agrupamento de borda: 0.2\n",
            "Para os nós 31 e 9 o Coeficiente de agrupamento de borda: 0.5\n",
            "Para os nós 31 e 10 o Coeficiente de agrupamento de borda: 0.3333333333333333\n",
            "Para os nós 31 e 11 o Coeficiente de agrupamento de borda: 1.0\n",
            "Para os nós 31 e 12 o Coeficiente de agrupamento de borda: 0.5\n",
            "Para os nós 31 e 13 o Coeficiente de agrupamento de borda: 0.2\n",
            "Para os nós 31 e 14 o Coeficiente de agrupamento de borda: 0.5\n",
            "Para os nós 31 e 15 o Coeficiente de agrupamento de borda: 0.5\n",
            "Para os nós 31 e 16 o Coeficiente de agrupamento de borda: 0.5\n",
            "Para os nós 31 e 17 o Coeficiente de agrupamento de borda: 0.5\n",
            "Para os nós 31 e 18 o Coeficiente de agrupamento de borda: 0.5\n",
            "Para os nós 31 e 19 o Coeficiente de agrupamento de borda: 0.3333333333333333\n",
            "Para os nós 31 e 20 o Coeficiente de agrupamento de borda: 0.5\n",
            "Para os nós 31 e 21 o Coeficiente de agrupamento de borda: 0.5\n",
            "Para os nós 31 e 22 o Coeficiente de agrupamento de borda: 0.5\n",
            "Para os nós 31 e 23 o Coeficiente de agrupamento de borda: 0.2\n",
            "Para os nós 31 e 24 o Coeficiente de agrupamento de borda: 1.6666666666666667\n",
            "Para os nós 31 e 25 o Coeficiente de agrupamento de borda: 1.6666666666666667\n",
            "Para os nós 31 e 26 o Coeficiente de agrupamento de borda: 0.5\n",
            "Para os nós 31 e 27 o Coeficiente de agrupamento de borda: 0.25\n",
            "Para os nós 31 e 28 o Coeficiente de agrupamento de borda: 1.6666666666666667\n",
            "Para os nós 31 e 29 o Coeficiente de agrupamento de borda: 0.25\n",
            "Para os nós 31 e 30 o Coeficiente de agrupamento de borda: 0.25\n",
            "Para os nós 31 e 31 o Coeficiente de agrupamento de borda: 0.16666666666666666\n",
            "Para os nós 31 e 32 o Coeficiente de agrupamento de borda: 0.8333333333333334\n",
            "Para os nós 31 e 33 o Coeficiente de agrupamento de borda: 0.8333333333333334\n",
            "Para os nós 32 e 0 o Coeficiente de agrupamento de borda: 0.08333333333333333\n",
            "Para os nós 32 e 1 o Coeficiente de agrupamento de borda: 0.1111111111111111\n",
            "Para os nós 32 e 2 o Coeficiente de agrupamento de borda: 0.5\n",
            "Para os nós 32 e 3 o Coeficiente de agrupamento de borda: 0.16666666666666666\n",
            "Para os nós 32 e 4 o Coeficiente de agrupamento de borda: 0.3333333333333333\n",
            "Para os nós 32 e 5 o Coeficiente de agrupamento de borda: 0.25\n",
            "Para os nós 32 e 6 o Coeficiente de agrupamento de borda: 0.25\n",
            "Para os nós 32 e 7 o Coeficiente de agrupamento de borda: 0.25\n",
            "Para os nós 32 e 8 o Coeficiente de agrupamento de borda: 1.0\n",
            "Para os nós 32 e 9 o Coeficiente de agrupamento de borda: 0.5\n",
            "Para os nós 32 e 10 o Coeficiente de agrupamento de borda: 0.3333333333333333\n",
            "Para os nós 32 e 11 o Coeficiente de agrupamento de borda: 1.0\n",
            "Para os nós 32 e 12 o Coeficiente de agrupamento de borda: 0.5\n",
            "Para os nós 32 e 13 o Coeficiente de agrupamento de borda: 0.2\n",
            "Para os nós 32 e 14 o Coeficiente de agrupamento de borda: 2.5\n",
            "Para os nós 32 e 15 o Coeficiente de agrupamento de borda: 2.5\n",
            "Para os nós 32 e 16 o Coeficiente de agrupamento de borda: 0.5\n",
            "Para os nós 32 e 17 o Coeficiente de agrupamento de borda: 0.5\n",
            "Para os nós 32 e 18 o Coeficiente de agrupamento de borda: 2.5\n",
            "Para os nós 32 e 19 o Coeficiente de agrupamento de borda: 0.3333333333333333\n",
            "Para os nós 32 e 20 o Coeficiente de agrupamento de borda: 2.5\n",
            "Para os nós 32 e 21 o Coeficiente de agrupamento de borda: 0.5\n",
            "Para os nós 32 e 22 o Coeficiente de agrupamento de borda: 2.5\n",
            "Para os nós 32 e 23 o Coeficiente de agrupamento de borda: 1.0\n",
            "Para os nós 32 e 24 o Coeficiente de agrupamento de borda: 0.3333333333333333\n",
            "Para os nós 32 e 25 o Coeficiente de agrupamento de borda: 0.3333333333333333\n",
            "Para os nós 32 e 26 o Coeficiente de agrupamento de borda: 0.5\n",
            "Para os nós 32 e 27 o Coeficiente de agrupamento de borda: 0.25\n",
            "Para os nós 32 e 28 o Coeficiente de agrupamento de borda: 0.3333333333333333\n",
            "Para os nós 32 e 29 o Coeficiente de agrupamento de borda: 1.25\n",
            "Para os nós 32 e 30 o Coeficiente de agrupamento de borda: 1.25\n",
            "Para os nós 32 e 31 o Coeficiente de agrupamento de borda: 0.8333333333333334\n",
            "Para os nós 32 e 32 o Coeficiente de agrupamento de borda: 0.08333333333333333\n",
            "Para os nós 32 e 33 o Coeficiente de agrupamento de borda: 0.4166666666666667\n",
            "Para os nós 33 e 0 o Coeficiente de agrupamento de borda: 0.0625\n",
            "Para os nós 33 e 1 o Coeficiente de agrupamento de borda: 0.1111111111111111\n",
            "Para os nós 33 e 2 o Coeficiente de agrupamento de borda: 0.1\n",
            "Para os nós 33 e 3 o Coeficiente de agrupamento de borda: 0.16666666666666666\n",
            "Para os nós 33 e 4 o Coeficiente de agrupamento de borda: 0.3333333333333333\n",
            "Para os nós 33 e 5 o Coeficiente de agrupamento de borda: 0.25\n",
            "Para os nós 33 e 6 o Coeficiente de agrupamento de borda: 0.25\n",
            "Para os nós 33 e 7 o Coeficiente de agrupamento de borda: 0.25\n",
            "Para os nós 33 e 8 o Coeficiente de agrupamento de borda: 1.0\n",
            "Para os nós 33 e 9 o Coeficiente de agrupamento de borda: 2.5\n",
            "Para os nós 33 e 10 o Coeficiente de agrupamento de borda: 0.3333333333333333\n",
            "Para os nós 33 e 11 o Coeficiente de agrupamento de borda: 1.0\n",
            "Para os nós 33 e 12 o Coeficiente de agrupamento de borda: 0.5\n",
            "Para os nós 33 e 13 o Coeficiente de agrupamento de borda: 1.0\n",
            "Para os nós 33 e 14 o Coeficiente de agrupamento de borda: 2.5\n",
            "Para os nós 33 e 15 o Coeficiente de agrupamento de borda: 2.5\n",
            "Para os nós 33 e 16 o Coeficiente de agrupamento de borda: 0.5\n",
            "Para os nós 33 e 17 o Coeficiente de agrupamento de borda: 0.5\n",
            "Para os nós 33 e 18 o Coeficiente de agrupamento de borda: 2.5\n",
            "Para os nós 33 e 19 o Coeficiente de agrupamento de borda: 1.6666666666666667\n",
            "Para os nós 33 e 20 o Coeficiente de agrupamento de borda: 2.5\n",
            "Para os nós 33 e 21 o Coeficiente de agrupamento de borda: 0.5\n",
            "Para os nós 33 e 22 o Coeficiente de agrupamento de borda: 2.5\n",
            "Para os nós 33 e 23 o Coeficiente de agrupamento de borda: 1.0\n",
            "Para os nós 33 e 24 o Coeficiente de agrupamento de borda: 0.3333333333333333\n",
            "Para os nós 33 e 25 o Coeficiente de agrupamento de borda: 0.3333333333333333\n",
            "Para os nós 33 e 26 o Coeficiente de agrupamento de borda: 2.5\n",
            "Para os nós 33 e 27 o Coeficiente de agrupamento de borda: 1.25\n",
            "Para os nós 33 e 28 o Coeficiente de agrupamento de borda: 1.6666666666666667\n",
            "Para os nós 33 e 29 o Coeficiente de agrupamento de borda: 1.25\n",
            "Para os nós 33 e 30 o Coeficiente de agrupamento de borda: 1.25\n",
            "Para os nós 33 e 31 o Coeficiente de agrupamento de borda: 0.8333333333333334\n",
            "Para os nós 33 e 32 o Coeficiente de agrupamento de borda: 0.4166666666666667\n",
            "Para os nós 33 e 33 o Coeficiente de agrupamento de borda: 0.058823529411764705\n"
          ]
        }
      ]
    },
    {
      "cell_type": "markdown",
      "source": [
        "## Maximização da modularidade\n",
        "\n",
        "Newman propos um metodo base em juntar as comunidades de tal forma que  modularidade chegasse no máximo.\n",
        "\n",
        "\n",
        "$\\Delta Q_{ij} = 2 (e_{ij}-\\frac{\\sum_{j}e_{ij}\\sum_{i}e_{ij}}{2M})$\n",
        "\n"
      ],
      "metadata": {
        "id": "yB-FpEyet5sY"
      }
    },
    {
      "cell_type": "code",
      "source": [
        "\n",
        "G = nx.karate_club_graph()\n",
        "c = nx.community.greedy_modularity_communities(G)\n",
        "for i in sorted(c):\n",
        "  print(i)\n",
        "G = nx.Graph()"
      ],
      "metadata": {
        "colab": {
          "base_uri": "https://localhost:8080/"
        },
        "id": "sAYYMXogt_Sl",
        "outputId": "c28b0042-db28-484e-d9d5-726e0dffd441"
      },
      "execution_count": null,
      "outputs": [
        {
          "output_type": "stream",
          "name": "stdout",
          "text": [
            "frozenset({8, 14, 15, 18, 20, 22, 23, 24, 25, 26, 27, 28, 29, 30, 31, 32, 33})\n",
            "frozenset({1, 2, 3, 7, 9, 12, 13, 17, 21})\n",
            "frozenset({0, 16, 19, 4, 5, 6, 10, 11})\n"
          ]
        }
      ]
    },
    {
      "cell_type": "markdown",
      "source": [
        "## Metodo de seleção\n",
        " \n",
        "Apesar dos muitos métodos alternativos interessantes, incluindo aqueles brevemente revisados acima, deve-se notar que o problema de encontrar comunidades continua sendo um desafio porque nenhum método único é rápido e sensível o suficiente para garantir resultados ideais para grandes redes gerais, um problema que é agravado pela falta de uma definição clara de comunidades. Se as comunidades devem ser identificadas com alta precisão, o método espectral proposto por Newman é uma boa escolha. No entanto, se a prioridade for atribuída à velocidade, métodos como os que usam algoritmos gulosos devem ser considerados. Em resumo, a escolha do melhor método a ser utilizado depende da configuração do problema e do tipo de resultado desejado. Um fato que deve ter ficado claro em nossa breve revisão das abordagens de localização de comunidades é a importância essencial da escolha das medidas adotadas para expressar a separação das comunidades. Na verdade, tais medições representam, em última análise, uma definição objetiva de comunidades. Portanto, uma perspectiva interessante para novas pesquisas seria considerar a possível adaptação e combinação de algumas das medições relatadas neste levantamento com o objetivo específico de caracterização da comunidade."
      ],
      "metadata": {
        "id": "7MoGG6N8InKY"
      }
    },
    {
      "cell_type": "markdown",
      "source": [
        "## Subgrafos e motivos em redes ponderadas\n",
        "\n",
        "Em redes ponderadas, um subgrafo pode estar presente com valores diferentes para os pesos das arestas. Sugeriram uma definição para a intensidade de um subgrafo baseada na média geométrica de seus pesos na rede."
      ],
      "metadata": {
        "id": "ZluFAGWlLj7T"
      }
    },
    {
      "cell_type": "code",
      "source": [
        "def I_g(G):\n",
        "  w=nx.to_numpy_array(G)\n",
        "  I=1\n",
        "  for i in range(len(w[0])):\n",
        "    for j in range(len(w)):\n",
        "      if w[i][j]>0.0:\n",
        "        I*=w[i][j]\n",
        "  return I**(1/G.number_of_edges())"
      ],
      "metadata": {
        "id": "q02Oh3XUiTpC"
      },
      "execution_count": null,
      "outputs": []
    },
    {
      "cell_type": "code",
      "source": [
        "def psi(G,I):\n",
        "  a=nx.to_numpy_array(G)\n",
        "  return  I*Aux.number_of_edges()/np.sum(a)"
      ],
      "metadata": {
        "id": "9YMPPimbi-Jg"
      },
      "execution_count": null,
      "outputs": []
    },
    {
      "cell_type": "code",
      "source": [
        "G = nx.karate_club_graph()\n",
        "\n",
        "Aux=G.subgraph([8, 14, 15, 18, 20, 22, 23, 24, 25, 26, 27, 28, 29, 30, 31, 32, 33])\n",
        "\n",
        "I=I_g(Aux)\n",
        "\n",
        "ps=psi(Aux,I)\n",
        "\n",
        "print('Intensidade',I)\n",
        "\n",
        "print('Coerencia',ps)\n",
        "\n",
        "\n",
        "\n",
        "Aux=G.subgraph([0, 1, 3, 4, 5, 6, 7, 10, 11, 12, 13, 16, 17, 19, 21])\n",
        "\n",
        "I=I_g(Aux)\n",
        "\n",
        "ps=psi(Aux,I)\n",
        "\n",
        "print('Intensidade',I)\n",
        "\n",
        "print('Coerencia',ps)\n",
        "\n",
        "canvas = jupyter_canvas()\n",
        "\n",
        "canvas.nodes(Aux.nodes).add(color=\"orange\")\n",
        "canvas.edges(Aux.edges).add()\n",
        "\n",
        "canvas"
      ],
      "metadata": {
        "colab": {
          "base_uri": "https://localhost:8080/",
          "height": 341,
          "referenced_widgets": [
            "8a19e038b3ba42bca227f408b9039fbb",
            "1de83bd64e68438394bd157654aa431e"
          ]
        },
        "id": "kl1fitARLjWE",
        "outputId": "9cdb9ec7-bcdf-4a39-ad45-83b3ec2c2227"
      },
      "execution_count": null,
      "outputs": [
        {
          "output_type": "stream",
          "name": "stdout",
          "text": [
            "Intensidade 8.547228658954273\n",
            "Coerencia 1.3453971037242838\n",
            "Intensidade 6.83911368628558\n",
            "Coerencia 1.2275332257435656\n"
          ]
        },
        {
          "output_type": "display_data",
          "data": {
            "text/plain": [
              "JupyterWidget(events=['{\"attrs\": {\"nodes\": {\"0\": {\"color\": \"orange\"}, \"1\": {\"color\": \"orange\"}, \"3\": {\"color\":…"
            ],
            "application/vnd.jupyter.widget-view+json": {
              "version_major": 2,
              "version_minor": 0,
              "model_id": "8a19e038b3ba42bca227f408b9039fbb"
            }
          },
          "metadata": {
            "application/vnd.jupyter.widget-view+json": {
              "colab": {
                "custom_widget_manager": {
                  "url": "https://ssl.gstatic.com/colaboratory-static/widgets/colab-cdn-widget-manager/b3e629b1971e1542/manager.min.js"
                }
              }
            }
          }
        }
      ]
    },
    {
      "cell_type": "markdown",
      "source": [
        "## Coeficiente médio de agrupamento e coeficiente médio de agrupamento hierárquico de segundo nível.\n",
        "\n",
        "O coeficiente de agrupamento hierárquico de segundo nível mede a probabilidade de que os vizinhos dos vizinhos de um vértice em um grafo estejam conectados entre si. \n",
        "\n",
        "\n",
        " O coeficiente de agrupamento hierárquico de segundo nível é a média dessas médias para todos os vértices do grafo. Esse coeficiente é uma medida de como as conexões entre os vizinhos de um vértice se propagam para além do primeiro nível de vizinhos."
      ],
      "metadata": {
        "id": "HMI6s_JoPGZL"
      }
    },
    {
      "cell_type": "code",
      "source": [
        "def clustering_coefficient_2d(G):\n",
        "\n",
        "    G1 = nx.Graph()\n",
        "    for i in G.nodes():\n",
        "        for j in G.neighbors(i):\n",
        "            for k in G.neighbors(i):\n",
        "                if j != k and j < k and k in G.neighbors(j):\n",
        "                    G1.add_edge(j, k)\n",
        "    N = len(G1.nodes())\n",
        "    num = 0\n",
        "    den = 0\n",
        "    for i in G1.nodes():\n",
        "        for j in G1.neighbors(i):\n",
        "            for k in G1.neighbors(i):\n",
        "                if j != k and j < k:\n",
        "                    if G.has_edge(i, j) and G.has_edge(i, k) and G.has_edge(j, k):\n",
        "                        num += 1\n",
        "                    if G.has_edge(i, j) and G.has_edge(i, k):\n",
        "                        den += 1\n",
        "                        \n",
        "    if den == 0:\n",
        "        return 0\n",
        "    else:\n",
        "        return (1/N) * (num / den)\n"
      ],
      "metadata": {
        "id": "257UD0WU2Ngb"
      },
      "execution_count": null,
      "outputs": []
    },
    {
      "cell_type": "code",
      "source": [
        "avg_clu=[]\n",
        "clu_2d=[]\n",
        "for i in range(500):\n",
        "  G = nx.watts_strogatz_graph(50,5,0.1)\n",
        "  \n",
        "  clustering_coefficients = nx.clustering(G)\n",
        "  avg_clustering_coefficient = sum(clustering_coefficients.values()) / len(clustering_coefficients)\n",
        "\n",
        "  avg_clu.append(avg_clustering_coefficient)\n",
        "  clu_2d.append(clustering_coefficient_2d(G))\n",
        "\n",
        "plt.scatter(avg_clu,clu_2d)\n",
        "plt.show()"
      ],
      "metadata": {
        "colab": {
          "base_uri": "https://localhost:8080/",
          "height": 430
        },
        "id": "mWzr26PcFqnj",
        "outputId": "69b1e525-66a1-493b-9a5e-4e55c1d51c99"
      },
      "execution_count": null,
      "outputs": [
        {
          "output_type": "display_data",
          "data": {
            "text/plain": [
              "<Figure size 640x480 with 1 Axes>"
            ],
            "image/png": "[encoded data removed]"
          },
          "metadata": {}
        }
      ]
    },
    {
      "cell_type": "markdown",
      "source": [
        "CVA ou CCA\n",
        "\n",
        "É uma técnica de análise de regressão que envolve a criação de novas variáveis, conhecidas como variáveis canônicas, que são combinações lineares das variáveis originais. A ideia é criar novas variáveis que capturem a maior quantidade possível de variação nas variáveis originais e que estejam altamente correlacionadas entre si."
      ],
      "metadata": {
        "id": "lNI576lafzg_"
      }
    },
    {
      "cell_type": "code",
      "source": [
        "import numpy as np\n",
        "import matplotlib.pyplot as plt\n",
        "from matplotlib import style\n",
        "n=100\n",
        "\n",
        "x1=[]\n",
        "y1=[]\n",
        "x2=[]\n",
        "y2=[]\n",
        "x3=[]\n",
        "y3=[]\n",
        "classes=[]\n",
        "\n",
        "for i in range(n):\n",
        "  # grafos \n",
        "  Sw=nx.watts_strogatz_graph(100,5,0.3)\n",
        "  Er=nx.erdos_renyi_graph(100,0.3)\n",
        "  Ba=nx.barabasi_albert_graph(100,5)\n",
        "  # grafos Watts Strogatz\n",
        "  clustering_coefficients = nx.clustering(Sw)\n",
        "  avg_clustering_coefficient = sum(clustering_coefficients.values()) / len(clustering_coefficients)\n",
        "  x1.append(avg_clustering_coefficient)\n",
        "  y1.append(clustering_coefficient_2d(Sw))\n",
        "  classes.append(0)\n",
        "  # grafos Er\n",
        "  clustering_coefficients = nx.clustering(Er)\n",
        "  avg_clustering_coefficient = sum(clustering_coefficients.values()) / len(clustering_coefficients)\n",
        "  x2.append(avg_clustering_coefficient)\n",
        "  y2.append(clustering_coefficient_2d(Er))\n",
        "  classes.append(1)\n",
        "  # grafos Ba\n",
        "  clustering_coefficients = nx.clustering(Ba)\n",
        "  avg_clustering_coefficient = sum(clustering_coefficients.values()) / len(clustering_coefficients)\n",
        "  x3.append(avg_clustering_coefficient)\n",
        "  y3.append(clustering_coefficient_2d(Ba))\n",
        "  classes.append(2)\n",
        "\n",
        "fig = plt.figure(figsize=(10,10))\n",
        "ax0 = fig.add_subplot(111)\n",
        "\n",
        "ax0.scatter(x1,y1,label='Watts Strogatz',c='grey',edgecolor='black')\n",
        "ax0.scatter(x2,y2,label='Erdos Renyi',c='yellow',edgecolor='black')\n",
        "ax0.scatter(x3,y3,label='Barabasi Albert',c='blue',edgecolor='black')\n",
        "ax0.legend()\n",
        "plt.show()\n",
        "\n",
        "# Calculate the mean vectors per class\n",
        "z1=[x1,y1]\n",
        "z2=[x2,y2]\n",
        "z3=[x3,y3]\n",
        "\n",
        "d=2\n",
        "mena=np.array([x1+x2+x3,y1+y2+y3])\n",
        "mean_overall = np.mean(mena, axis=1)\n",
        "S_B = np.zeros((d, d))\n",
        "\n",
        "mean_rectangles = np.mean(z1,axis=1).reshape(2,1) # Creates a 2x1 vector consisting of the means of the dimensions \n",
        "mean_triangles = np.mean(z2,axis=1).reshape(2,1)\n",
        "mean_circles = np.mean(z3,axis=1).reshape(2,1)\n",
        "\n",
        "mean_vec=[mean_rectangles,mean_triangles,mean_circles ]\n",
        "\n",
        "for i, mean_vec in enumerate(mean_vec):\n",
        "    mean_vec = mean_vec.reshape(d, 1)\n",
        "    mean_overall = mean_overall.reshape(d, 1)\n",
        "    S_B += n * (mean_vec - mean_overall).dot((mean_vec - mean_overall).T)\n",
        "#print('Between-class scatter matrix: %sx%s' % (S_B.shape[0], S_B.shape[1]))\n",
        "\n",
        "\n",
        "mean_rectangles = np.mean(z1,axis=1).reshape(2,1) # Creates a 2x1 vector consisting of the means of the dimensions \n",
        "mean_triangles = np.mean(z2,axis=1).reshape(2,1)\n",
        "mean_circles = np.mean(z3,axis=1).reshape(2,1)\n",
        "\n",
        "# Calculate the scatter matrices for the SW (Scatter within) and sum the elements up\n",
        "\n",
        "scatter_rectangles = np.dot((z1-mean_rectangles),(z1-mean_rectangles).T)\n",
        "scatter_triangles = np.dot((z2-mean_triangles),(z2-mean_triangles).T)\n",
        "scatter_circles = np.dot((z3-mean_circles),(z3-mean_circles).T)\n",
        "\n",
        "# Calculate the SW by adding the scatters within classes \n",
        "SW = scatter_triangles+scatter_circles+scatter_rectangles\n",
        "\n",
        "eigen_vals, eigen_vecs = np.linalg.eigh(np.linalg.inv(SW).dot(S_B))\n",
        "\n",
        "z1_trans = np.dot(eigen_vecs,np.array(z1))\n",
        "z2_trans = np.dot(eigen_vecs,np.array(z2))\n",
        "z3_trans = np.dot(eigen_vecs,np.array(z3))\n",
        "\n",
        "\n",
        "fig = plt.figure(figsize=(10,10))\n",
        "ax0 = fig.add_subplot(111)\n",
        "ax0.scatter(z1_trans[0],z1_trans[1],marker='s',label='Watts Strogatz',c='grey',edgecolor='black')\n",
        "ax0.scatter(z2_trans[0],z2_trans[1],marker='^',label='Erdos Renyi',c='yellow',edgecolor='black')\n",
        "ax0.scatter(z3_trans[0],z3_trans[1],marker='o',label='Barabasi Albert',c='blue',edgecolor='black')\n",
        "ax0.legend()\n",
        "plt.show()\n",
        "\n",
        "\n"
      ],
      "metadata": {
        "id": "05_aXe7PvL6H",
        "colab": {
          "base_uri": "https://localhost:8080/",
          "height": 1000
        },
        "outputId": "5ff13d28-e352-47c5-a6a8-e613460ac61c"
      },
      "execution_count": null,
      "outputs": [
        {
          "output_type": "display_data",
          "data": {
            "text/plain": [
              "<Figure size 1000x1000 with 1 Axes>"
            ],
            "image/png": "[encoded data removed]"
          },
          "metadata": {}
        },
        {
          "output_type": "display_data",
          "data": {
            "text/plain": [
              "<Figure size 1000x1000 with 1 Axes>"
            ],
            "image/png": "[encoded data removed]"
          },
          "metadata": {}
        }
      ]
    },
    {
      "cell_type": "markdown",
      "source": [
        "# Grau hierárquico médio de segundo nível\n",
        "\n",
        "Também conhecido como HD2, é uma medida de centralidade em redes que tenta capturar a importância dos nós em diferentes níveis hierárquicos na rede"
      ],
      "metadata": {
        "id": "_l9XW63BCWv4"
      }
    },
    {
      "cell_type": "code",
      "source": [
        "def HDR2(G):\n",
        "  hd2 = {}\n",
        "  for node in G.nodes():\n",
        "      hd2[node] = sum([G.degree(neighbor) for neighbor in G.neighbors(node)]) - 2 * G.degree(node)\n",
        "  mean=0\n",
        "  for node, value in hd2.items():\n",
        "      mean+=value\n",
        "  return mean/len(hd2.items())"
      ],
      "metadata": {
        "id": "InOzd9cvzwO5"
      },
      "execution_count": null,
      "outputs": []
    },
    {
      "cell_type": "markdown",
      "source": [
        "# razão de divergência hierárquica média do terceiro nível\n",
        "\n",
        "Medida de centralidade em grafos que considera a diversidade dos caminhos mais curtos que passam por um nó.\n",
        "\n",
        "\n",
        "\n"
      ],
      "metadata": {
        "id": "cjE1_lqqcdg2"
      }
    },
    {
      "cell_type": "code",
      "source": [
        "def HDR3(G): \n",
        "  root = max(dict(G.degree()).items(), key=lambda x: x[1])[0]\n",
        "  shortest_paths = nx.single_source_shortest_path(G, root)\n",
        "  predecessors = {}\n",
        "  for node in G.nodes():\n",
        "      pred = []\n",
        "      for path in shortest_paths.values():\n",
        "          if node in path and path.index(node) > 0:\n",
        "              pred.append(path[path.index(node)-1])\n",
        "      predecessors[node] = pred\n",
        "  hdr3 = {}\n",
        "  for node in G.nodes():\n",
        "      hdr = 1\n",
        "      for pred in predecessors[node]:\n",
        "          hdr *= nx.degree(G, pred)\n",
        "      hdr3[node] = hdr\n",
        "  #print(\"HDR3:\")\n",
        "  mean = 0\n",
        "  for node, hdr in hdr3.items():\n",
        "      mean+=hdr\n",
        "      #print(f\"{node}: {hdr}\")\n",
        "  return mean/len(hdr3.items())"
      ],
      "metadata": {
        "id": "M3uxb3PLzhPm"
      },
      "execution_count": null,
      "outputs": []
    },
    {
      "cell_type": "markdown",
      "source": [
        "## Métodos estatísticos multivariados para redução de dimensionalidade e seleção de medição\n",
        "\n",
        "PCA\n",
        " \n",
        "O objetivo é encontrar um conjunto menor de variáveis, chamados componentes principais, que resumem as informações contidas no conjunto original de variáveis."
      ],
      "metadata": {
        "id": "xhFEfX9YtDyy"
      }
    },
    {
      "cell_type": "code",
      "source": [
        "HD2=[]\n",
        "HD3=[]\n",
        "classes=[]\n",
        "for i in range(500):\n",
        "  G = nx.watts_strogatz_graph(20,5,0.5)\n",
        "  Er=nx.erdos_renyi_graph(20,0.1)\n",
        "  Ba=nx.barabasi_albert_graph(20,3)\n",
        "  classes.append(0)\n",
        "  HD3.append(HDR3(G))\n",
        "  HD2.append(HDR2(G))\n",
        "  classes.append(1)\n",
        "  HD3.append(HDR3(Er))\n",
        "  HD2.append(HDR2(Er))\n",
        "  classes.append(2)\n",
        "  HD3.append(HDR3(Ba))\n",
        "  HD2.append(HDR2(Ba))\n",
        "\n",
        "\n",
        "plt.scatter(HD3,HD2,c=classes)\n",
        "plt.xscale('log')\n",
        "plt.show()\n",
        "\n",
        "# Cria um grafo aleatório\n",
        "G = nx.erdos_renyi_graph(50, 0.1)\n",
        "data=list(zip(HD3,HD2))\n",
        "pca = PCA(n_components=2)\n",
        "components = pca.fit_transform(data)\n",
        "# Plota os componentes principais\n",
        "import matplotlib.pyplot as plt\n",
        "plt.scatter(components[:,0], components[:,1],c=classes)\n",
        "plt.xscale('log')\n",
        "plt.show()\n",
        "\n",
        "\n",
        "canvas = jupyter_canvas()\n",
        "\n",
        "canvas.nodes(G.nodes).add(color=\"orange\")\n",
        "canvas.edges(G.edges).add()\n",
        "\n",
        "canvas  \n"
      ],
      "metadata": {
        "colab": {
          "base_uri": "https://localhost:8080/",
          "height": 1000,
          "referenced_widgets": [
            "653acb4bf1bb4e198f527c0cdacc3af2",
            "9d83650120e54548b4298360b9e6c084"
          ]
        },
        "id": "CnqvJbCgOl5d",
        "outputId": "d65ec672-8979-4ff9-9166-8a0f61ae2d7b"
      },
      "execution_count": null,
      "outputs": [
        {
          "output_type": "display_data",
          "data": {
            "text/plain": [
              "<Figure size 640x480 with 1 Axes>"
            ],
            "image/png": "[encoded data removed]"
          },
          "metadata": {}
        },
        {
          "output_type": "display_data",
          "data": {
            "text/plain": [
              "<Figure size 640x480 with 1 Axes>"
            ],
            "image/png": "[encoded data removed]"
          },
          "metadata": {}
        },
        {
          "output_type": "display_data",
          "data": {
            "text/plain": [
              "JupyterWidget(events=['{\"attrs\": {\"nodes\": {\"0\": {\"color\": \"orange\"}, \"1\": {\"color\": \"orange\"}, \"2\": {\"color\":…"
            ],
            "application/vnd.jupyter.widget-view+json": {
              "version_major": 2,
              "version_minor": 0,
              "model_id": "653acb4bf1bb4e198f527c0cdacc3af2"
            }
          },
          "metadata": {
            "application/vnd.jupyter.widget-view+json": {
              "colab": {
                "custom_widget_manager": {
                  "url": "https://ssl.gstatic.com/colaboratory-static/widgets/colab-cdn-widget-manager/b3e629b1971e1542/manager.min.js"
                }
              }
            }
          }
        }
      ]
    },
    {
      "cell_type": "markdown",
      "source": [
        "Reciprocidade de borda\n",
        "\n",
        "Essas informações ajudam a obter uma melhor caracterização da rede, podem ser usadas para testar modelos de rede em relação a redes reais e dão indicação de quanta informação é perdida quando a direção das arestas é descartada (por exemplo, para o cálculo de algumas medições que só se aplicam para redes não direcionadas)."
      ],
      "metadata": {
        "id": "uKc_r6Ob85AP"
      }
    },
    {
      "cell_type": "code",
      "source": [
        "def edges_rec(G):\n",
        "  num_reciprocal_edges = 0\n",
        "  num_edges = G.number_of_edges()\n",
        "  for u, v in G.edges():\n",
        "      if G.has_edge(v, u):\n",
        "          num_reciprocal_edges += 1\n",
        "\n",
        "  return num_reciprocal_edges / num_edges"
      ],
      "metadata": {
        "id": "PkzcCit-6LqA"
      },
      "execution_count": null,
      "outputs": []
    },
    {
      "cell_type": "code",
      "source": [
        "\n",
        "G = nx.DiGraph()\n",
        "G.add_edges_from([(1,2), (2,3), (3,1), (1,4), (4,1)])\n",
        "\n",
        "print(\"Grafo aleatório Reciprocidade de borda: {:.2f}\".format(edges_rec(G)))\n",
        "\n",
        "G = nx.watts_strogatz_graph(20,4,0.1)\n",
        "\n",
        "print(\"Watts Strogatz Reciprocidade de borda: {:.2f}\".format(edges_rec(G)))"
      ],
      "metadata": {
        "id": "0PoXp61j84GQ",
        "colab": {
          "base_uri": "https://localhost:8080/"
        },
        "outputId": "a5e2981e-20de-4180-b17f-1f81c9440389"
      },
      "execution_count": null,
      "outputs": [
        {
          "output_type": "stream",
          "name": "stdout",
          "text": [
            "Grafo aleatório Reciprocidade de borda: 0.40\n",
            "Watts Strogatz Reciprocidade de borda: 1.00\n"
          ]
        }
      ]
    },
    {
      "cell_type": "markdown",
      "source": [
        "# A análise de correlação\n",
        "\n",
        "Embora um número virtualmente infinito de medições possa ser obtido para quantificar a conectividade de redes complexas, um grau variável de redundância será observado entre suas combinações de pares. Por exemplo, o grau do nó e o coeficiente de agrupamento não são correlacionados para a maioria das redes. Além disso, a intensidade de tais correlações pode depender do tipo específico de rede complexa. No presente trabalho quantificamos o grau de correlação entre duas medidas x e y em um conjunto de n redes, entendidas como duas variáveis aleatórias, em termos do coeficiente de correlação de Pearson."
      ],
      "metadata": {
        "id": "OcylWD0a-TWt"
      }
    },
    {
      "cell_type": "code",
      "source": [
        "G = nx.karate_club_graph()\n",
        "\n",
        "deg_centrality = nx.degree_centrality(G)\n",
        "btw_centrality = nx.betweenness_centrality(G)\n",
        "\n",
        "deg_centrality_vec = np.array(list(deg_centrality.values()))\n",
        "btw_centrality_vec = np.array(list(btw_centrality.values()))\n",
        "\n",
        "corr_coef = np.corrcoef(deg_centrality_vec, btw_centrality_vec)[0,1]\n",
        "print(\"Coeficiente de correlação: {:.2f}\".format(corr_coef))\n"
      ],
      "metadata": {
        "id": "JNqrl48l-PHs",
        "colab": {
          "base_uri": "https://localhost:8080/"
        },
        "outputId": "bbbc2b42-bce6-4f50-c958-1bcac1d888c8"
      },
      "execution_count": null,
      "outputs": [
        {
          "output_type": "stream",
          "name": "stdout",
          "text": [
            "Coeficiente de correlação: 0.91\n"
          ]
        }
      ]
    },
    {
      "cell_type": "markdown",
      "source": [
        "# Bayesiano\n",
        "\n",
        " A metodologia elegante e sólida conhecida como teoria da decisão bayesiana fornece um meio intuitivo e eficaz para classificar objetos em um determinado conjunto de categorias. Em princípio, assume-se que as probabilidades de massa $P_i$, bem como as condicionais densidades de probabilidade, $p(\\vec{x}_{ϵ}|C_{i})$ ou podem ser estimados adequadamente. A probabilidade em massa $P_i$ corresponde à probabilidade de um objeto, independentemente de suas propriedades, pertencer à classe $C_i$ e, portanto, pode ser estimado a partir da respectiva frequência relativa. A probabilidades condicionais $p(\\vec{x}_{ϵ}|C_{i})$ fornecem um modelo estatístico de como as medidas nos vetores de características são distribuídas dentro de cada categoria.\n",
        "\n",
        "Caso as funções de probabilidade não estejam disponíveis, ainda é possível usar métodos de classificação aproximados como k-vizinhos mais próximos, que consiste em identificar o conjunto dos k indivíduos que estão mais próximos à amostra a ser classificada, e toma como categoria resultante aquela que corresponde à classe mais frequente entre os vizinhos mais próximos."
      ],
      "metadata": {
        "id": "9wnPny_nI6bQ"
      }
    },
    {
      "cell_type": "code",
      "source": [
        "Sw=nx.watts_strogatz_graph(100,5,0.3)\n",
        "Er=nx.erdos_renyi_graph(100,0.3)\n",
        "Ba=nx.barabasi_albert_graph(100,5)"
      ],
      "metadata": {
        "id": "mXmybsctI56S"
      },
      "execution_count": null,
      "outputs": []
    },
    {
      "cell_type": "code",
      "source": [
        "from sklearn.neighbors import KNeighborsClassifier\n",
        "#criando a lista\n",
        "x=[]\n",
        "y=[]\n",
        "classes=[]\n",
        "for i in range(500):\n",
        "  Sw=nx.watts_strogatz_graph(100,5,0.3)\n",
        "  Er=nx.erdos_renyi_graph(100,0.3)\n",
        "  Ba=nx.barabasi_albert_graph(100,5)\n",
        "  # grafos Sw\n",
        "  x.append(nx.average_shortest_path_length(Sw))\n",
        "  y.append(nx.degree_pearson_correlation_coefficient(Sw))\n",
        "  classes.append(0)\n",
        "  # grafos Er\n",
        "  x.append(nx.average_shortest_path_length(Er))\n",
        "  y.append(nx.degree_pearson_correlation_coefficient(Er))\n",
        "  classes.append(1)\n",
        "  # grafos Ba\n",
        "  x.append(nx.average_shortest_path_length(Ba))\n",
        "  y.append(nx.degree_pearson_correlation_coefficient(Ba))\n",
        "  classes.append(2)\n",
        "\n",
        "knn = KNeighborsClassifier(n_neighbors=10)\n",
        "data = list(zip(x,y))\n",
        "knn.fit(data,classes)\n",
        "\n",
        "plt.scatter(x,y,c=classes)\n",
        "plt.show()"
      ],
      "metadata": {
        "id": "gug1OfLiJa2m",
        "colab": {
          "base_uri": "https://localhost:8080/",
          "height": 434
        },
        "outputId": "a79eb15b-b4d6-43af-a7c9-f3ddaec8e02a"
      },
      "execution_count": null,
      "outputs": [
        {
          "output_type": "display_data",
          "data": {
            "text/plain": [
              "<Figure size 640x480 with 1 Axes>"
            ],
            "image/png": "[encoded data removed]"
          },
          "metadata": {}
        }
      ]
    },
    {
      "cell_type": "code",
      "source": [
        "import numpy as np\n",
        "import matplotlib.pyplot as plt\n",
        "import seaborn as sns\n",
        "from matplotlib.colors import ListedColormap\n",
        "from sklearn import neighbors, datasets\n",
        "\n",
        "plt.rcParams[\"figure.figsize\"] = [7.00, 7.0]\n",
        "plt.rcParams[\"figure.autolayout\"] = True\n",
        "\n",
        "n_neighbors = 15\n",
        "iris = datasets.load_iris()\n",
        "ya = classes\n",
        "h = .02\n",
        "\n",
        "cmap_light = ListedColormap(['orange', 'cyan', 'cornflowerblue'])\n",
        "cmap_bold = ['darkorange', 'c', 'darkblue']\n",
        "\n",
        "clf = neighbors.KNeighborsClassifier(n_neighbors, weights='uniform')\n",
        "data = list(zip(x,y))\n",
        "#print(data)\n",
        "clf.fit(data, ya)\n",
        "x_min, x_max = min(x) - 1, max(x) + 1\n",
        "y_min, y_max = min(y) - 1, max(y) + 1\n",
        "xx, yy = np.meshgrid(np.arange(x_min, x_max, h),\n",
        "np.arange(y_min, y_max, h))\n",
        "Z = clf.predict(np.c_[xx.ravel(), yy.ravel()])\n",
        "Z = Z.reshape(xx.shape)\n",
        "\n",
        "plt.figure()\n",
        "\n",
        "plt.contourf(xx, yy, Z, cmap=cmap_light)\n",
        "#print(x,'\\n')\n",
        "#print(y,'\\n')\n",
        "plt.scatter(x,y,c=classes)\n",
        "\n",
        "plt.xlim(xx.min(), xx.max())\n",
        "plt.ylim(yy.min(), yy.max())\n",
        "\n",
        "plt.title(\"3 classes de classificação (k = %i)\"\n",
        "% (n_neighbors))\n",
        "\n",
        "plt.show()"
      ],
      "metadata": {
        "id": "gCOtAItsPav8",
        "colab": {
          "base_uri": "https://localhost:8080/",
          "height": 707
        },
        "outputId": "0e3a2521-5e05-4ad2-9a01-01d6c9db28e9"
      },
      "execution_count": null,
      "outputs": [
        {
          "output_type": "display_data",
          "data": {
            "text/plain": [
              "<Figure size 700x700 with 1 Axes>"
            ],
            "image/png": "[encoded data removed]"
          },
          "metadata": {}
        }
      ]
    },
    {
      "cell_type": "markdown",
      "source": [
        "Final da apresentação\n"
      ],
      "metadata": {
        "id": "C_h24wUzZ4xi"
      }
    }
  ],
  "metadata": {
    "colab": {
      "provenance": [],
      "include_colab_link": true
    },
    "kernelspec": {
      "display_name": "Python 3 (ipykernel)",
      "language": "python",
      "name": "python3"
    },
    "language_info": {
      "codemirror_mode": {
        "name": "ipython",
        "version": 3
      },
      "file_extension": ".py",
      "mimetype": "text/x-python",
      "name": "python",
      "nbconvert_exporter": "python",
      "pygments_lexer": "ipython3",
      "version": "3.9.12"
    },
    "widgets": {
      "application/vnd.jupyter.widget-state+json": {
        "83cdeb120e51448da9057463821248be": {
          "model_module": "algorithmx-jupyter",
          "model_name": "AlgorithmXModel",
          "model_module_version": "^3.0.0",
          "state": {
            "_dom_classes": [],
            "_model_module": "algorithmx-jupyter",
            "_model_module_version": "^3.0.0",
            "_model_name": "AlgorithmXModel",
            "_view_count": null,
            "_view_module": "algorithmx-jupyter",
            "_view_module_version": "^3.0.0",
            "_view_name": "AlgorithmXView",
            "events": [
              "{\"attrs\": {\"nodes\": {\"0\": {\"color\": \"orange\"}, \"1\": {\"color\": \"orange\"}, \"2\": {\"color\": \"orange\"}, \"3\": {\"color\": \"orange\"}, \"4\": {\"color\": \"orange\"}, \"5\": {\"color\": \"orange\"}, \"6\": {\"color\": \"orange\"}, \"7\": {\"color\": \"orange\"}, \"8\": {\"color\": \"orange\"}, \"9\": {\"color\": \"orange\"}, \"10\": {\"color\": \"orange\"}, \"11\": {\"color\": \"orange\"}, \"12\": {\"color\": \"orange\"}, \"13\": {\"color\": \"orange\"}, \"14\": {\"color\": \"orange\"}, \"15\": {\"color\": \"orange\"}, \"16\": {\"color\": \"orange\"}, \"17\": {\"color\": \"orange\"}, \"18\": {\"color\": \"orange\"}, \"19\": {\"color\": \"orange\"}, \"20\": {\"color\": \"orange\"}, \"21\": {\"color\": \"orange\"}, \"22\": {\"color\": \"orange\"}, \"23\": {\"color\": \"orange\"}, \"24\": {\"color\": \"orange\"}, \"25\": {\"color\": \"orange\"}, \"26\": {\"color\": \"orange\"}, \"27\": {\"color\": \"orange\"}, \"28\": {\"color\": \"orange\"}, \"29\": {\"color\": \"orange\"}, \"30\": {\"color\": \"orange\"}, \"31\": {\"color\": \"orange\"}, \"32\": {\"color\": \"orange\"}, \"33\": {\"color\": \"orange\"}, \"34\": {\"color\": \"orange\"}, \"35\": {\"color\": \"orange\"}, \"36\": {\"color\": \"orange\"}, \"37\": {\"color\": \"orange\"}, \"38\": {\"color\": \"orange\"}, \"39\": {\"color\": \"orange\"}, \"40\": {\"color\": \"orange\"}, \"41\": {\"color\": \"orange\"}, \"42\": {\"color\": \"orange\"}, \"43\": {\"color\": \"orange\"}, \"44\": {\"color\": \"orange\"}, \"45\": {\"color\": \"orange\"}, \"46\": {\"color\": \"orange\"}, \"47\": {\"color\": \"orange\"}, \"48\": {\"color\": \"orange\"}, \"49\": {\"color\": \"orange\"}}}}",
              "{\"attrs\": {\"edges\": {\"0-1\": {\"source\": \"0\", \"target\": \"1\"}, \"0-49\": {\"source\": \"0\", \"target\": \"49\"}, \"0-2\": {\"source\": \"0\", \"target\": \"2\"}, \"0-48\": {\"source\": \"0\", \"target\": \"48\"}, \"1-2\": {\"source\": \"1\", \"target\": \"2\"}, \"1-3\": {\"source\": \"1\", \"target\": \"3\"}, \"1-49\": {\"source\": \"1\", \"target\": \"49\"}, \"2-3\": {\"source\": \"2\", \"target\": \"3\"}, \"2-4\": {\"source\": \"2\", \"target\": \"4\"}, \"3-4\": {\"source\": \"3\", \"target\": \"4\"}, \"3-5\": {\"source\": \"3\", \"target\": \"5\"}, \"4-5\": {\"source\": \"4\", \"target\": \"5\"}, \"4-6\": {\"source\": \"4\", \"target\": \"6\"}, \"5-6\": {\"source\": \"5\", \"target\": \"6\"}, \"5-7\": {\"source\": \"5\", \"target\": \"7\"}, \"6-7\": {\"source\": \"6\", \"target\": \"7\"}, \"6-8\": {\"source\": \"6\", \"target\": \"8\"}, \"7-8\": {\"source\": \"7\", \"target\": \"8\"}, \"7-9\": {\"source\": \"7\", \"target\": \"9\"}, \"8-9\": {\"source\": \"8\", \"target\": \"9\"}, \"8-10\": {\"source\": \"8\", \"target\": \"10\"}, \"9-10\": {\"source\": \"9\", \"target\": \"10\"}, \"9-11\": {\"source\": \"9\", \"target\": \"11\"}, \"10-11\": {\"source\": \"10\", \"target\": \"11\"}, \"10-12\": {\"source\": \"10\", \"target\": \"12\"}, \"11-12\": {\"source\": \"11\", \"target\": \"12\"}, \"11-13\": {\"source\": \"11\", \"target\": \"13\"}, \"12-13\": {\"source\": \"12\", \"target\": \"13\"}, \"12-14\": {\"source\": \"12\", \"target\": \"14\"}, \"13-14\": {\"source\": \"13\", \"target\": \"14\"}, \"13-15\": {\"source\": \"13\", \"target\": \"15\"}, \"14-15\": {\"source\": \"14\", \"target\": \"15\"}, \"14-16\": {\"source\": \"14\", \"target\": \"16\"}, \"15-16\": {\"source\": \"15\", \"target\": \"16\"}, \"15-17\": {\"source\": \"15\", \"target\": \"17\"}, \"16-17\": {\"source\": \"16\", \"target\": \"17\"}, \"16-18\": {\"source\": \"16\", \"target\": \"18\"}, \"17-18\": {\"source\": \"17\", \"target\": \"18\"}, \"17-19\": {\"source\": \"17\", \"target\": \"19\"}, \"18-19\": {\"source\": \"18\", \"target\": \"19\"}, \"18-20\": {\"source\": \"18\", \"target\": \"20\"}, \"19-20\": {\"source\": \"19\", \"target\": \"20\"}, \"19-21\": {\"source\": \"19\", \"target\": \"21\"}, \"20-21\": {\"source\": \"20\", \"target\": \"21\"}, \"20-22\": {\"source\": \"20\", \"target\": \"22\"}, \"21-22\": {\"source\": \"21\", \"target\": \"22\"}, \"21-23\": {\"source\": \"21\", \"target\": \"23\"}, \"22-23\": {\"source\": \"22\", \"target\": \"23\"}, \"22-24\": {\"source\": \"22\", \"target\": \"24\"}, \"23-24\": {\"source\": \"23\", \"target\": \"24\"}, \"23-25\": {\"source\": \"23\", \"target\": \"25\"}, \"24-25\": {\"source\": \"24\", \"target\": \"25\"}, \"24-26\": {\"source\": \"24\", \"target\": \"26\"}, \"25-26\": {\"source\": \"25\", \"target\": \"26\"}, \"25-27\": {\"source\": \"25\", \"target\": \"27\"}, \"26-27\": {\"source\": \"26\", \"target\": \"27\"}, \"26-28\": {\"source\": \"26\", \"target\": \"28\"}, \"27-28\": {\"source\": \"27\", \"target\": \"28\"}, \"27-29\": {\"source\": \"27\", \"target\": \"29\"}, \"28-29\": {\"source\": \"28\", \"target\": \"29\"}, \"28-30\": {\"source\": \"28\", \"target\": \"30\"}, \"29-30\": {\"source\": \"29\", \"target\": \"30\"}, \"29-31\": {\"source\": \"29\", \"target\": \"31\"}, \"30-31\": {\"source\": \"30\", \"target\": \"31\"}, \"30-32\": {\"source\": \"30\", \"target\": \"32\"}, \"31-32\": {\"source\": \"31\", \"target\": \"32\"}, \"31-33\": {\"source\": \"31\", \"target\": \"33\"}, \"32-33\": {\"source\": \"32\", \"target\": \"33\"}, \"32-34\": {\"source\": \"32\", \"target\": \"34\"}, \"33-34\": {\"source\": \"33\", \"target\": \"34\"}, \"33-35\": {\"source\": \"33\", \"target\": \"35\"}, \"34-35\": {\"source\": \"34\", \"target\": \"35\"}, \"34-36\": {\"source\": \"34\", \"target\": \"36\"}, \"35-36\": {\"source\": \"35\", \"target\": \"36\"}, \"35-37\": {\"source\": \"35\", \"target\": \"37\"}, \"36-37\": {\"source\": \"36\", \"target\": \"37\"}, \"36-38\": {\"source\": \"36\", \"target\": \"38\"}, \"37-38\": {\"source\": \"37\", \"target\": \"38\"}, \"37-39\": {\"source\": \"37\", \"target\": \"39\"}, \"38-39\": {\"source\": \"38\", \"target\": \"39\"}, \"38-40\": {\"source\": \"38\", \"target\": \"40\"}, \"39-40\": {\"source\": \"39\", \"target\": \"40\"}, \"39-41\": {\"source\": \"39\", \"target\": \"41\"}, \"40-41\": {\"source\": \"40\", \"target\": \"41\"}, \"40-42\": {\"source\": \"40\", \"target\": \"42\"}, \"41-42\": {\"source\": \"41\", \"target\": \"42\"}, \"41-43\": {\"source\": \"41\", \"target\": \"43\"}, \"42-43\": {\"source\": \"42\", \"target\": \"43\"}, \"42-44\": {\"source\": \"42\", \"target\": \"44\"}, \"43-44\": {\"source\": \"43\", \"target\": \"44\"}, \"43-45\": {\"source\": \"43\", \"target\": \"45\"}, \"44-45\": {\"source\": \"44\", \"target\": \"45\"}, \"44-46\": {\"source\": \"44\", \"target\": \"46\"}, \"45-46\": {\"source\": \"45\", \"target\": \"46\"}, \"45-47\": {\"source\": \"45\", \"target\": \"47\"}, \"46-47\": {\"source\": \"46\", \"target\": \"47\"}, \"46-48\": {\"source\": \"46\", \"target\": \"48\"}, \"47-48\": {\"source\": \"47\", \"target\": \"48\"}, \"47-49\": {\"source\": \"47\", \"target\": \"49\"}, \"48-49\": {\"source\": \"48\", \"target\": \"49\"}}}}"
            ],
            "layout": "IPY_MODEL_85c1620301ab4444be570817cfd42d9f",
            "show_buttons": false
          }
        },
        "85c1620301ab4444be570817cfd42d9f": {
          "model_module": "@jupyter-widgets/base",
          "model_name": "LayoutModel",
          "model_module_version": "1.2.0",
          "state": {
            "_model_module": "@jupyter-widgets/base",
            "_model_module_version": "1.2.0",
            "_model_name": "LayoutModel",
            "_view_count": null,
            "_view_module": "@jupyter-widgets/base",
            "_view_module_version": "1.2.0",
            "_view_name": "LayoutView",
            "align_content": null,
            "align_items": null,
            "align_self": null,
            "border": null,
            "bottom": null,
            "display": null,
            "flex": null,
            "flex_flow": null,
            "grid_area": null,
            "grid_auto_columns": null,
            "grid_auto_flow": null,
            "grid_auto_rows": null,
            "grid_column": null,
            "grid_gap": null,
            "grid_row": null,
            "grid_template_areas": null,
            "grid_template_columns": null,
            "grid_template_rows": null,
            "height": null,
            "justify_content": null,
            "justify_items": null,
            "left": null,
            "margin": null,
            "max_height": null,
            "max_width": null,
            "min_height": null,
            "min_width": null,
            "object_fit": null,
            "object_position": null,
            "order": null,
            "overflow": null,
            "overflow_x": null,
            "overflow_y": null,
            "padding": null,
            "right": null,
            "top": null,
            "visibility": null,
            "width": null
          }
        },
        "2085a09f4f534ddeb3432910c997ba24": {
          "model_module": "algorithmx-jupyter",
          "model_name": "AlgorithmXModel",
          "model_module_version": "^3.0.0",
          "state": {
            "_dom_classes": [],
            "_model_module": "algorithmx-jupyter",
            "_model_module_version": "^3.0.0",
            "_model_name": "AlgorithmXModel",
            "_view_count": null,
            "_view_module": "algorithmx-jupyter",
            "_view_module_version": "^3.0.0",
            "_view_name": "AlgorithmXView",
            "events": [
              "{\"attrs\": {\"nodes\": {\"0\": {\"color\": \"red\"}, \"1\": {\"color\": \"red\"}, \"2\": {\"color\": \"red\"}, \"3\": {\"color\": \"red\"}, \"4\": {\"color\": \"red\"}, \"5\": {\"color\": \"red\"}, \"6\": {\"color\": \"red\"}, \"7\": {\"color\": \"red\"}, \"8\": {\"color\": \"red\"}, \"9\": {\"color\": \"red\"}, \"10\": {\"color\": \"red\"}, \"11\": {\"color\": \"red\"}, \"12\": {\"color\": \"red\"}, \"13\": {\"color\": \"red\"}, \"14\": {\"color\": \"red\"}, \"15\": {\"color\": \"red\"}, \"16\": {\"color\": \"red\"}, \"17\": {\"color\": \"red\"}, \"18\": {\"color\": \"red\"}, \"19\": {\"color\": \"red\"}, \"20\": {\"color\": \"red\"}, \"21\": {\"color\": \"red\"}, \"22\": {\"color\": \"red\"}, \"23\": {\"color\": \"red\"}, \"24\": {\"color\": \"red\"}, \"25\": {\"color\": \"red\"}, \"26\": {\"color\": \"red\"}, \"27\": {\"color\": \"red\"}, \"28\": {\"color\": \"red\"}, \"29\": {\"color\": \"red\"}, \"30\": {\"color\": \"red\"}, \"31\": {\"color\": \"red\"}, \"32\": {\"color\": \"red\"}, \"33\": {\"color\": \"red\"}, \"34\": {\"color\": \"red\"}, \"35\": {\"color\": \"red\"}, \"36\": {\"color\": \"red\"}, \"37\": {\"color\": \"red\"}, \"38\": {\"color\": \"red\"}, \"39\": {\"color\": \"red\"}, \"40\": {\"color\": \"red\"}, \"41\": {\"color\": \"red\"}, \"42\": {\"color\": \"red\"}, \"43\": {\"color\": \"red\"}, \"44\": {\"color\": \"red\"}, \"45\": {\"color\": \"red\"}, \"46\": {\"color\": \"red\"}, \"47\": {\"color\": \"red\"}, \"48\": {\"color\": \"red\"}, \"49\": {\"color\": \"red\"}}}}",
              "{\"attrs\": {\"edges\": {\"0-13\": {\"source\": \"0\", \"target\": \"13\"}, \"0-18\": {\"source\": \"0\", \"target\": \"18\"}, \"0-28\": {\"source\": \"0\", \"target\": \"28\"}, \"0-35\": {\"source\": \"0\", \"target\": \"35\"}, \"0-43\": {\"source\": \"0\", \"target\": \"43\"}, \"1-7\": {\"source\": \"1\", \"target\": \"7\"}, \"1-17\": {\"source\": \"1\", \"target\": \"17\"}, \"1-42\": {\"source\": \"1\", \"target\": \"42\"}, \"2-6\": {\"source\": \"2\", \"target\": \"6\"}, \"2-11\": {\"source\": \"2\", \"target\": \"11\"}, \"2-21\": {\"source\": \"2\", \"target\": \"21\"}, \"2-22\": {\"source\": \"2\", \"target\": \"22\"}, \"2-49\": {\"source\": \"2\", \"target\": \"49\"}, \"3-9\": {\"source\": \"3\", \"target\": \"9\"}, \"3-33\": {\"source\": \"3\", \"target\": \"33\"}, \"3-45\": {\"source\": \"3\", \"target\": \"45\"}, \"3-46\": {\"source\": \"3\", \"target\": \"46\"}, \"4-11\": {\"source\": \"4\", \"target\": \"11\"}, \"4-20\": {\"source\": \"4\", \"target\": \"20\"}, \"4-31\": {\"source\": \"4\", \"target\": \"31\"}, \"4-37\": {\"source\": \"4\", \"target\": \"37\"}, \"4-41\": {\"source\": \"4\", \"target\": \"41\"}, \"4-44\": {\"source\": \"4\", \"target\": \"44\"}, \"5-9\": {\"source\": \"5\", \"target\": \"9\"}, \"5-26\": {\"source\": \"5\", \"target\": \"26\"}, \"5-35\": {\"source\": \"5\", \"target\": \"35\"}, \"5-40\": {\"source\": \"5\", \"target\": \"40\"}, \"6-8\": {\"source\": \"6\", \"target\": \"8\"}, \"6-41\": {\"source\": \"6\", \"target\": \"41\"}, \"6-45\": {\"source\": \"6\", \"target\": \"45\"}, \"7-9\": {\"source\": \"7\", \"target\": \"9\"}, \"7-10\": {\"source\": \"7\", \"target\": \"10\"}, \"7-18\": {\"source\": \"7\", \"target\": \"18\"}, \"7-34\": {\"source\": \"7\", \"target\": \"34\"}, \"8-15\": {\"source\": \"8\", \"target\": \"15\"}, \"8-17\": {\"source\": \"8\", \"target\": \"17\"}, \"8-45\": {\"source\": \"8\", \"target\": \"45\"}, \"9-14\": {\"source\": \"9\", \"target\": \"14\"}, \"9-29\": {\"source\": \"9\", \"target\": \"29\"}, \"9-40\": {\"source\": \"9\", \"target\": \"40\"}, \"9-49\": {\"source\": \"9\", \"target\": \"49\"}, \"10-11\": {\"source\": \"10\", \"target\": \"11\"}, \"10-18\": {\"source\": \"10\", \"target\": \"18\"}, \"10-21\": {\"source\": \"10\", \"target\": \"21\"}, \"10-24\": {\"source\": \"10\", \"target\": \"24\"}, \"10-32\": {\"source\": \"10\", \"target\": \"32\"}, \"10-34\": {\"source\": \"10\", \"target\": \"34\"}, \"10-41\": {\"source\": \"10\", \"target\": \"41\"}, \"10-44\": {\"source\": \"10\", \"target\": \"44\"}, \"11-39\": {\"source\": \"11\", \"target\": \"39\"}, \"11-41\": {\"source\": \"11\", \"target\": \"41\"}, \"12-14\": {\"source\": \"12\", \"target\": \"14\"}, \"12-18\": {\"source\": \"12\", \"target\": \"18\"}, \"13-27\": {\"source\": \"13\", \"target\": \"27\"}, \"13-28\": {\"source\": \"13\", \"target\": \"28\"}, \"13-36\": {\"source\": \"13\", \"target\": \"36\"}, \"14-19\": {\"source\": \"14\", \"target\": \"19\"}, \"14-35\": {\"source\": \"14\", \"target\": \"35\"}, \"15-25\": {\"source\": \"15\", \"target\": \"25\"}, \"15-34\": {\"source\": \"15\", \"target\": \"34\"}, \"16-38\": {\"source\": \"16\", \"target\": \"38\"}, \"17-18\": {\"source\": \"17\", \"target\": \"18\"}, \"17-21\": {\"source\": \"17\", \"target\": \"21\"}, \"17-22\": {\"source\": \"17\", \"target\": \"22\"}, \"17-42\": {\"source\": \"17\", \"target\": \"42\"}, \"17-48\": {\"source\": \"17\", \"target\": \"48\"}, \"18-25\": {\"source\": \"18\", \"target\": \"25\"}, \"18-29\": {\"source\": \"18\", \"target\": \"29\"}, \"18-30\": {\"source\": \"18\", \"target\": \"30\"}, \"18-31\": {\"source\": \"18\", \"target\": \"31\"}, \"18-39\": {\"source\": \"18\", \"target\": \"39\"}, \"18-41\": {\"source\": \"18\", \"target\": \"41\"}, \"18-44\": {\"source\": \"18\", \"target\": \"44\"}, \"19-28\": {\"source\": \"19\", \"target\": \"28\"}, \"19-29\": {\"source\": \"19\", \"target\": \"29\"}, \"19-30\": {\"source\": \"19\", \"target\": \"30\"}, \"20-22\": {\"source\": \"20\", \"target\": \"22\"}, \"20-36\": {\"source\": \"20\", \"target\": \"36\"}, \"20-41\": {\"source\": \"20\", \"target\": \"41\"}, \"21-23\": {\"source\": \"21\", \"target\": \"23\"}, \"21-33\": {\"source\": \"21\", \"target\": \"33\"}, \"22-40\": {\"source\": \"22\", \"target\": \"40\"}, \"22-42\": {\"source\": \"22\", \"target\": \"42\"}, \"22-44\": {\"source\": \"22\", \"target\": \"44\"}, \"23-28\": {\"source\": \"23\", \"target\": \"28\"}, \"24-36\": {\"source\": \"24\", \"target\": \"36\"}, \"24-41\": {\"source\": \"24\", \"target\": \"41\"}, \"24-45\": {\"source\": \"24\", \"target\": \"45\"}, \"25-42\": {\"source\": \"25\", \"target\": \"42\"}, \"26-28\": {\"source\": \"26\", \"target\": \"28\"}, \"26-33\": {\"source\": \"26\", \"target\": \"33\"}, \"26-38\": {\"source\": \"26\", \"target\": \"38\"}, \"26-43\": {\"source\": \"26\", \"target\": \"43\"}, \"26-44\": {\"source\": \"26\", \"target\": \"44\"}, \"27-31\": {\"source\": \"27\", \"target\": \"31\"}, \"27-32\": {\"source\": \"27\", \"target\": \"32\"}, \"27-33\": {\"source\": \"27\", \"target\": \"33\"}, \"27-34\": {\"source\": \"27\", \"target\": \"34\"}, \"27-42\": {\"source\": \"27\", \"target\": \"42\"}, \"28-30\": {\"source\": \"28\", \"target\": \"30\"}, \"28-43\": {\"source\": \"28\", \"target\": \"43\"}, \"30-33\": {\"source\": \"30\", \"target\": \"33\"}, \"31-38\": {\"source\": \"31\", \"target\": \"38\"}, \"31-49\": {\"source\": \"31\", \"target\": \"49\"}, \"32-43\": {\"source\": \"32\", \"target\": \"43\"}, \"32-49\": {\"source\": \"32\", \"target\": \"49\"}, \"33-34\": {\"source\": \"33\", \"target\": \"34\"}, \"33-35\": {\"source\": \"33\", \"target\": \"35\"}, \"34-36\": {\"source\": \"34\", \"target\": \"36\"}, \"34-44\": {\"source\": \"34\", \"target\": \"44\"}, \"35-43\": {\"source\": \"35\", \"target\": \"43\"}, \"35-45\": {\"source\": \"35\", \"target\": \"45\"}, \"36-37\": {\"source\": \"36\", \"target\": \"37\"}, \"36-39\": {\"source\": \"36\", \"target\": \"39\"}, \"36-43\": {\"source\": \"36\", \"target\": \"43\"}, \"38-42\": {\"source\": \"38\", \"target\": \"42\"}, \"40-49\": {\"source\": \"40\", \"target\": \"49\"}, \"42-49\": {\"source\": \"42\", \"target\": \"49\"}, \"43-47\": {\"source\": \"43\", \"target\": \"47\"}, \"44-46\": {\"source\": \"44\", \"target\": \"46\"}, \"46-48\": {\"source\": \"46\", \"target\": \"48\"}}}}"
            ],
            "layout": "IPY_MODEL_d4b2e26940284ea09d3b3f17a9d504ef",
            "show_buttons": false
          }
        },
        "d4b2e26940284ea09d3b3f17a9d504ef": {
          "model_module": "@jupyter-widgets/base",
          "model_name": "LayoutModel",
          "model_module_version": "1.2.0",
          "state": {
            "_model_module": "@jupyter-widgets/base",
            "_model_module_version": "1.2.0",
            "_model_name": "LayoutModel",
            "_view_count": null,
            "_view_module": "@jupyter-widgets/base",
            "_view_module_version": "1.2.0",
            "_view_name": "LayoutView",
            "align_content": null,
            "align_items": null,
            "align_self": null,
            "border": null,
            "bottom": null,
            "display": null,
            "flex": null,
            "flex_flow": null,
            "grid_area": null,
            "grid_auto_columns": null,
            "grid_auto_flow": null,
            "grid_auto_rows": null,
            "grid_column": null,
            "grid_gap": null,
            "grid_row": null,
            "grid_template_areas": null,
            "grid_template_columns": null,
            "grid_template_rows": null,
            "height": null,
            "justify_content": null,
            "justify_items": null,
            "left": null,
            "margin": null,
            "max_height": null,
            "max_width": null,
            "min_height": null,
            "min_width": null,
            "object_fit": null,
            "object_position": null,
            "order": null,
            "overflow": null,
            "overflow_x": null,
            "overflow_y": null,
            "padding": null,
            "right": null,
            "top": null,
            "visibility": null,
            "width": null
          }
        },
        "8eee74f46c604c37ad6378151cde3ac9": {
          "model_module": "algorithmx-jupyter",
          "model_name": "AlgorithmXModel",
          "model_module_version": "^3.0.0",
          "state": {
            "_dom_classes": [],
            "_model_module": "algorithmx-jupyter",
            "_model_module_version": "^3.0.0",
            "_model_name": "AlgorithmXModel",
            "_view_count": null,
            "_view_module": "algorithmx-jupyter",
            "_view_module_version": "^3.0.0",
            "_view_name": "AlgorithmXView",
            "events": [
              "{\"attrs\": {\"nodes\": {\"0\": {\"color\": \"blue\"}, \"1\": {\"color\": \"blue\"}, \"2\": {\"color\": \"blue\"}, \"3\": {\"color\": \"blue\"}, \"4\": {\"color\": \"blue\"}, \"5\": {\"color\": \"blue\"}, \"6\": {\"color\": \"blue\"}, \"7\": {\"color\": \"blue\"}, \"8\": {\"color\": \"blue\"}, \"9\": {\"color\": \"blue\"}, \"10\": {\"color\": \"blue\"}, \"11\": {\"color\": \"blue\"}, \"12\": {\"color\": \"blue\"}, \"13\": {\"color\": \"blue\"}, \"14\": {\"color\": \"blue\"}, \"15\": {\"color\": \"blue\"}, \"16\": {\"color\": \"blue\"}, \"17\": {\"color\": \"blue\"}, \"18\": {\"color\": \"blue\"}, \"19\": {\"color\": \"blue\"}, \"20\": {\"color\": \"blue\"}, \"21\": {\"color\": \"blue\"}, \"22\": {\"color\": \"blue\"}, \"23\": {\"color\": \"blue\"}, \"24\": {\"color\": \"blue\"}, \"25\": {\"color\": \"blue\"}, \"26\": {\"color\": \"blue\"}, \"27\": {\"color\": \"blue\"}, \"28\": {\"color\": \"blue\"}, \"29\": {\"color\": \"blue\"}, \"30\": {\"color\": \"blue\"}, \"31\": {\"color\": \"blue\"}, \"32\": {\"color\": \"blue\"}, \"33\": {\"color\": \"blue\"}, \"34\": {\"color\": \"blue\"}, \"35\": {\"color\": \"blue\"}, \"36\": {\"color\": \"blue\"}, \"37\": {\"color\": \"blue\"}, \"38\": {\"color\": \"blue\"}, \"39\": {\"color\": \"blue\"}, \"40\": {\"color\": \"blue\"}, \"41\": {\"color\": \"blue\"}, \"42\": {\"color\": \"blue\"}, \"43\": {\"color\": \"blue\"}, \"44\": {\"color\": \"blue\"}, \"45\": {\"color\": \"blue\"}, \"46\": {\"color\": \"blue\"}, \"47\": {\"color\": \"blue\"}, \"48\": {\"color\": \"blue\"}, \"49\": {\"color\": \"blue\"}}}}",
              "{\"attrs\": {\"edges\": {\"0-1\": {\"source\": \"0\", \"target\": \"1\"}, \"0-2\": {\"source\": \"0\", \"target\": \"2\"}, \"0-3\": {\"source\": \"0\", \"target\": \"3\"}, \"0-4\": {\"source\": \"0\", \"target\": \"4\"}, \"0-5\": {\"source\": \"0\", \"target\": \"5\"}, \"0-6\": {\"source\": \"0\", \"target\": \"6\"}, \"0-8\": {\"source\": \"0\", \"target\": \"8\"}, \"0-9\": {\"source\": \"0\", \"target\": \"9\"}, \"0-10\": {\"source\": \"0\", \"target\": \"10\"}, \"0-11\": {\"source\": \"0\", \"target\": \"11\"}, \"0-15\": {\"source\": \"0\", \"target\": \"15\"}, \"0-17\": {\"source\": \"0\", \"target\": \"17\"}, \"0-22\": {\"source\": \"0\", \"target\": \"22\"}, \"0-26\": {\"source\": \"0\", \"target\": \"26\"}, \"0-27\": {\"source\": \"0\", \"target\": \"27\"}, \"0-29\": {\"source\": \"0\", \"target\": \"29\"}, \"0-34\": {\"source\": \"0\", \"target\": \"34\"}, \"1-5\": {\"source\": \"1\", \"target\": \"5\"}, \"1-38\": {\"source\": \"1\", \"target\": \"38\"}, \"1-47\": {\"source\": \"1\", \"target\": \"47\"}, \"2-4\": {\"source\": \"2\", \"target\": \"4\"}, \"2-5\": {\"source\": \"2\", \"target\": \"5\"}, \"2-7\": {\"source\": \"2\", \"target\": \"7\"}, \"2-8\": {\"source\": \"2\", \"target\": \"8\"}, \"2-9\": {\"source\": \"2\", \"target\": \"9\"}, \"2-10\": {\"source\": \"2\", \"target\": \"10\"}, \"2-14\": {\"source\": \"2\", \"target\": \"14\"}, \"2-32\": {\"source\": \"2\", \"target\": \"32\"}, \"2-35\": {\"source\": \"2\", \"target\": \"35\"}, \"2-36\": {\"source\": \"2\", \"target\": \"36\"}, \"2-48\": {\"source\": \"2\", \"target\": \"48\"}, \"3-4\": {\"source\": \"3\", \"target\": \"4\"}, \"3-13\": {\"source\": \"3\", \"target\": \"13\"}, \"3-16\": {\"source\": \"3\", \"target\": \"16\"}, \"3-17\": {\"source\": \"3\", \"target\": \"17\"}, \"3-21\": {\"source\": \"3\", \"target\": \"21\"}, \"3-23\": {\"source\": \"3\", \"target\": \"23\"}, \"3-25\": {\"source\": \"3\", \"target\": \"25\"}, \"3-26\": {\"source\": \"3\", \"target\": \"26\"}, \"3-31\": {\"source\": \"3\", \"target\": \"31\"}, \"3-41\": {\"source\": \"3\", \"target\": \"41\"}, \"3-49\": {\"source\": \"3\", \"target\": \"49\"}, \"4-6\": {\"source\": \"4\", \"target\": \"6\"}, \"4-8\": {\"source\": \"4\", \"target\": \"8\"}, \"4-12\": {\"source\": \"4\", \"target\": \"12\"}, \"4-31\": {\"source\": \"4\", \"target\": \"31\"}, \"4-37\": {\"source\": \"4\", \"target\": \"37\"}, \"5-6\": {\"source\": \"5\", \"target\": \"6\"}, \"5-7\": {\"source\": \"5\", \"target\": \"7\"}, \"5-11\": {\"source\": \"5\", \"target\": \"11\"}, \"5-13\": {\"source\": \"5\", \"target\": \"13\"}, \"5-15\": {\"source\": \"5\", \"target\": \"15\"}, \"5-19\": {\"source\": \"5\", \"target\": \"19\"}, \"5-20\": {\"source\": \"5\", \"target\": \"20\"}, \"5-24\": {\"source\": \"5\", \"target\": \"24\"}, \"5-32\": {\"source\": \"5\", \"target\": \"32\"}, \"5-41\": {\"source\": \"5\", \"target\": \"41\"}, \"5-42\": {\"source\": \"5\", \"target\": \"42\"}, \"5-44\": {\"source\": \"5\", \"target\": \"44\"}, \"5-45\": {\"source\": \"5\", \"target\": \"45\"}, \"5-46\": {\"source\": \"5\", \"target\": \"46\"}, \"5-47\": {\"source\": \"5\", \"target\": \"47\"}, \"6-7\": {\"source\": \"6\", \"target\": \"7\"}, \"6-9\": {\"source\": \"6\", \"target\": \"9\"}, \"6-10\": {\"source\": \"6\", \"target\": \"10\"}, \"6-13\": {\"source\": \"6\", \"target\": \"13\"}, \"6-14\": {\"source\": \"6\", \"target\": \"14\"}, \"6-18\": {\"source\": \"6\", \"target\": \"18\"}, \"6-19\": {\"source\": \"6\", \"target\": \"19\"}, \"6-20\": {\"source\": \"6\", \"target\": \"20\"}, \"6-21\": {\"source\": \"6\", \"target\": \"21\"}, \"6-24\": {\"source\": \"6\", \"target\": \"24\"}, \"6-27\": {\"source\": \"6\", \"target\": \"27\"}, \"6-28\": {\"source\": \"6\", \"target\": \"28\"}, \"6-29\": {\"source\": \"6\", \"target\": \"29\"}, \"6-30\": {\"source\": \"6\", \"target\": \"30\"}, \"6-36\": {\"source\": \"6\", \"target\": \"36\"}, \"6-38\": {\"source\": \"6\", \"target\": \"38\"}, \"6-41\": {\"source\": \"6\", \"target\": \"41\"}, \"7-12\": {\"source\": \"7\", \"target\": \"12\"}, \"7-17\": {\"source\": \"7\", \"target\": \"17\"}, \"7-23\": {\"source\": \"7\", \"target\": \"23\"}, \"7-29\": {\"source\": \"7\", \"target\": \"29\"}, \"7-43\": {\"source\": \"7\", \"target\": \"43\"}, \"8-15\": {\"source\": \"8\", \"target\": \"15\"}, \"8-19\": {\"source\": \"8\", \"target\": \"19\"}, \"9-12\": {\"source\": \"9\", \"target\": \"12\"}, \"9-18\": {\"source\": \"9\", \"target\": \"18\"}, \"9-20\": {\"source\": \"9\", \"target\": \"20\"}, \"9-30\": {\"source\": \"9\", \"target\": \"30\"}, \"9-33\": {\"source\": \"9\", \"target\": \"33\"}, \"10-11\": {\"source\": \"10\", \"target\": \"11\"}, \"10-14\": {\"source\": \"10\", \"target\": \"14\"}, \"10-16\": {\"source\": \"10\", \"target\": \"16\"}, \"10-22\": {\"source\": \"10\", \"target\": \"22\"}, \"10-35\": {\"source\": \"10\", \"target\": \"35\"}, \"11-16\": {\"source\": \"11\", \"target\": \"16\"}, \"11-33\": {\"source\": \"11\", \"target\": \"33\"}, \"12-42\": {\"source\": \"12\", \"target\": \"42\"}, \"12-48\": {\"source\": \"12\", \"target\": \"48\"}, \"13-42\": {\"source\": \"13\", \"target\": \"42\"}, \"14-23\": {\"source\": \"14\", \"target\": \"23\"}, \"14-33\": {\"source\": \"14\", \"target\": \"33\"}, \"14-34\": {\"source\": \"14\", \"target\": \"34\"}, \"14-37\": {\"source\": \"14\", \"target\": \"37\"}, \"14-49\": {\"source\": \"14\", \"target\": \"49\"}, \"15-18\": {\"source\": \"15\", \"target\": \"18\"}, \"15-27\": {\"source\": \"15\", \"target\": \"27\"}, \"15-28\": {\"source\": \"15\", \"target\": \"28\"}, \"15-37\": {\"source\": \"15\", \"target\": \"37\"}, \"16-22\": {\"source\": \"16\", \"target\": \"22\"}, \"17-32\": {\"source\": \"17\", \"target\": \"32\"}, \"17-46\": {\"source\": \"17\", \"target\": \"46\"}, \"18-24\": {\"source\": \"18\", \"target\": \"24\"}, \"18-25\": {\"source\": \"18\", \"target\": \"25\"}, \"18-40\": {\"source\": \"18\", \"target\": \"40\"}, \"19-25\": {\"source\": \"19\", \"target\": \"25\"}, \"19-31\": {\"source\": \"19\", \"target\": \"31\"}, \"19-39\": {\"source\": \"19\", \"target\": \"39\"}, \"19-44\": {\"source\": \"19\", \"target\": \"44\"}, \"20-21\": {\"source\": \"20\", \"target\": \"21\"}, \"20-45\": {\"source\": \"20\", \"target\": \"45\"}, \"21-28\": {\"source\": \"21\", \"target\": \"28\"}, \"21-30\": {\"source\": \"21\", \"target\": \"30\"}, \"22-35\": {\"source\": \"22\", \"target\": \"35\"}, \"22-40\": {\"source\": \"22\", \"target\": \"40\"}, \"24-43\": {\"source\": \"24\", \"target\": \"43\"}, \"25-26\": {\"source\": \"25\", \"target\": \"26\"}, \"25-38\": {\"source\": \"25\", \"target\": \"38\"}, \"25-39\": {\"source\": \"25\", \"target\": \"39\"}, \"26-36\": {\"source\": \"26\", \"target\": \"36\"}, \"27-34\": {\"source\": \"27\", \"target\": \"34\"}, \"27-40\": {\"source\": \"27\", \"target\": \"40\"}, \"30-45\": {\"source\": \"30\", \"target\": \"45\"}, \"36-49\": {\"source\": \"36\", \"target\": \"49\"}, \"37-48\": {\"source\": \"37\", \"target\": \"48\"}, \"38-39\": {\"source\": \"38\", \"target\": \"39\"}, \"39-43\": {\"source\": \"39\", \"target\": \"43\"}, \"39-44\": {\"source\": \"39\", \"target\": \"44\"}, \"40-47\": {\"source\": \"40\", \"target\": \"47\"}, \"42-46\": {\"source\": \"42\", \"target\": \"46\"}}}}"
            ],
            "layout": "IPY_MODEL_2e4b071862354eb09b93d9cc819b1459",
            "show_buttons": false
          }
        },
        "2e4b071862354eb09b93d9cc819b1459": {
          "model_module": "@jupyter-widgets/base",
          "model_name": "LayoutModel",
          "model_module_version": "1.2.0",
          "state": {
            "_model_module": "@jupyter-widgets/base",
            "_model_module_version": "1.2.0",
            "_model_name": "LayoutModel",
            "_view_count": null,
            "_view_module": "@jupyter-widgets/base",
            "_view_module_version": "1.2.0",
            "_view_name": "LayoutView",
            "align_content": null,
            "align_items": null,
            "align_self": null,
            "border": null,
            "bottom": null,
            "display": null,
            "flex": null,
            "flex_flow": null,
            "grid_area": null,
            "grid_auto_columns": null,
            "grid_auto_flow": null,
            "grid_auto_rows": null,
            "grid_column": null,
            "grid_gap": null,
            "grid_row": null,
            "grid_template_areas": null,
            "grid_template_columns": null,
            "grid_template_rows": null,
            "height": null,
            "justify_content": null,
            "justify_items": null,
            "left": null,
            "margin": null,
            "max_height": null,
            "max_width": null,
            "min_height": null,
            "min_width": null,
            "object_fit": null,
            "object_position": null,
            "order": null,
            "overflow": null,
            "overflow_x": null,
            "overflow_y": null,
            "padding": null,
            "right": null,
            "top": null,
            "visibility": null,
            "width": null
          }
        },
        "0fd05b931bf7429db6e184ab4afbdcd9": {
          "model_module": "algorithmx-jupyter",
          "model_name": "AlgorithmXModel",
          "model_module_version": "^3.0.0",
          "state": {
            "_dom_classes": [],
            "_model_module": "algorithmx-jupyter",
            "_model_module_version": "^3.0.0",
            "_model_name": "AlgorithmXModel",
            "_view_count": null,
            "_view_module": "algorithmx-jupyter",
            "_view_module_version": "^3.0.0",
            "_view_name": "AlgorithmXView",
            "events": [
              "{\"attrs\": {\"nodes\": {\"0\": {\"color\": \"black\"}, \"1\": {\"color\": \"black\"}, \"2\": {\"color\": \"black\"}, \"3\": {\"color\": \"black\"}, \"4\": {\"color\": \"black\"}, \"5\": {\"color\": \"black\"}, \"6\": {\"color\": \"black\"}, \"7\": {\"color\": \"black\"}, \"8\": {\"color\": \"black\"}, \"9\": {\"color\": \"black\"}, \"10\": {\"color\": \"black\"}, \"11\": {\"color\": \"black\"}, \"12\": {\"color\": \"black\"}, \"13\": {\"color\": \"black\"}, \"14\": {\"color\": \"black\"}, \"15\": {\"color\": \"black\"}, \"16\": {\"color\": \"black\"}, \"17\": {\"color\": \"black\"}, \"18\": {\"color\": \"black\"}, \"19\": {\"color\": \"black\"}, \"20\": {\"color\": \"black\"}, \"21\": {\"color\": \"black\"}, \"22\": {\"color\": \"black\"}, \"23\": {\"color\": \"black\"}, \"24\": {\"color\": \"black\"}, \"25\": {\"color\": \"black\"}, \"26\": {\"color\": \"black\"}, \"27\": {\"color\": \"black\"}, \"28\": {\"color\": \"black\"}, \"29\": {\"color\": \"black\"}, \"30\": {\"color\": \"black\"}, \"31\": {\"color\": \"black\"}, \"32\": {\"color\": \"black\"}, \"33\": {\"color\": \"black\"}}}}",
              "{\"attrs\": {\"edges\": {\"0-1\": {\"source\": \"0\", \"target\": \"1\"}, \"0-2\": {\"source\": \"0\", \"target\": \"2\"}, \"0-3\": {\"source\": \"0\", \"target\": \"3\"}, \"0-4\": {\"source\": \"0\", \"target\": \"4\"}, \"0-5\": {\"source\": \"0\", \"target\": \"5\"}, \"0-6\": {\"source\": \"0\", \"target\": \"6\"}, \"0-7\": {\"source\": \"0\", \"target\": \"7\"}, \"0-8\": {\"source\": \"0\", \"target\": \"8\"}, \"0-10\": {\"source\": \"0\", \"target\": \"10\"}, \"0-11\": {\"source\": \"0\", \"target\": \"11\"}, \"0-12\": {\"source\": \"0\", \"target\": \"12\"}, \"0-13\": {\"source\": \"0\", \"target\": \"13\"}, \"0-17\": {\"source\": \"0\", \"target\": \"17\"}, \"0-19\": {\"source\": \"0\", \"target\": \"19\"}, \"0-21\": {\"source\": \"0\", \"target\": \"21\"}, \"0-31\": {\"source\": \"0\", \"target\": \"31\"}, \"1-2\": {\"source\": \"1\", \"target\": \"2\"}, \"1-3\": {\"source\": \"1\", \"target\": \"3\"}, \"1-7\": {\"source\": \"1\", \"target\": \"7\"}, \"1-13\": {\"source\": \"1\", \"target\": \"13\"}, \"1-17\": {\"source\": \"1\", \"target\": \"17\"}, \"1-19\": {\"source\": \"1\", \"target\": \"19\"}, \"1-21\": {\"source\": \"1\", \"target\": \"21\"}, \"1-30\": {\"source\": \"1\", \"target\": \"30\"}, \"2-3\": {\"source\": \"2\", \"target\": \"3\"}, \"2-7\": {\"source\": \"2\", \"target\": \"7\"}, \"2-8\": {\"source\": \"2\", \"target\": \"8\"}, \"2-9\": {\"source\": \"2\", \"target\": \"9\"}, \"2-13\": {\"source\": \"2\", \"target\": \"13\"}, \"2-27\": {\"source\": \"2\", \"target\": \"27\"}, \"2-28\": {\"source\": \"2\", \"target\": \"28\"}, \"2-32\": {\"source\": \"2\", \"target\": \"32\"}, \"3-7\": {\"source\": \"3\", \"target\": \"7\"}, \"3-12\": {\"source\": \"3\", \"target\": \"12\"}, \"3-13\": {\"source\": \"3\", \"target\": \"13\"}, \"4-6\": {\"source\": \"4\", \"target\": \"6\"}, \"4-10\": {\"source\": \"4\", \"target\": \"10\"}, \"5-6\": {\"source\": \"5\", \"target\": \"6\"}, \"5-10\": {\"source\": \"5\", \"target\": \"10\"}, \"5-16\": {\"source\": \"5\", \"target\": \"16\"}, \"6-16\": {\"source\": \"6\", \"target\": \"16\"}, \"8-30\": {\"source\": \"8\", \"target\": \"30\"}, \"8-32\": {\"source\": \"8\", \"target\": \"32\"}, \"8-33\": {\"source\": \"8\", \"target\": \"33\"}, \"9-33\": {\"source\": \"9\", \"target\": \"33\"}, \"13-33\": {\"source\": \"13\", \"target\": \"33\"}, \"14-32\": {\"source\": \"14\", \"target\": \"32\"}, \"14-33\": {\"source\": \"14\", \"target\": \"33\"}, \"15-32\": {\"source\": \"15\", \"target\": \"32\"}, \"15-33\": {\"source\": \"15\", \"target\": \"33\"}, \"18-32\": {\"source\": \"18\", \"target\": \"32\"}, \"18-33\": {\"source\": \"18\", \"target\": \"33\"}, \"19-33\": {\"source\": \"19\", \"target\": \"33\"}, \"20-32\": {\"source\": \"20\", \"target\": \"32\"}, \"20-33\": {\"source\": \"20\", \"target\": \"33\"}, \"22-32\": {\"source\": \"22\", \"target\": \"32\"}, \"22-33\": {\"source\": \"22\", \"target\": \"33\"}, \"23-25\": {\"source\": \"23\", \"target\": \"25\"}, \"23-27\": {\"source\": \"23\", \"target\": \"27\"}, \"23-29\": {\"source\": \"23\", \"target\": \"29\"}, \"23-32\": {\"source\": \"23\", \"target\": \"32\"}, \"23-33\": {\"source\": \"23\", \"target\": \"33\"}, \"24-25\": {\"source\": \"24\", \"target\": \"25\"}, \"24-27\": {\"source\": \"24\", \"target\": \"27\"}, \"24-31\": {\"source\": \"24\", \"target\": \"31\"}, \"25-31\": {\"source\": \"25\", \"target\": \"31\"}, \"26-29\": {\"source\": \"26\", \"target\": \"29\"}, \"26-33\": {\"source\": \"26\", \"target\": \"33\"}, \"27-33\": {\"source\": \"27\", \"target\": \"33\"}, \"28-31\": {\"source\": \"28\", \"target\": \"31\"}, \"28-33\": {\"source\": \"28\", \"target\": \"33\"}, \"29-32\": {\"source\": \"29\", \"target\": \"32\"}, \"29-33\": {\"source\": \"29\", \"target\": \"33\"}, \"30-32\": {\"source\": \"30\", \"target\": \"32\"}, \"30-33\": {\"source\": \"30\", \"target\": \"33\"}, \"31-32\": {\"source\": \"31\", \"target\": \"32\"}, \"31-33\": {\"source\": \"31\", \"target\": \"33\"}, \"32-33\": {\"source\": \"32\", \"target\": \"33\"}}}}"
            ],
            "layout": "IPY_MODEL_129b330f38b04f66b99887b00d6247ca",
            "show_buttons": false
          }
        },
        "129b330f38b04f66b99887b00d6247ca": {
          "model_module": "@jupyter-widgets/base",
          "model_name": "LayoutModel",
          "model_module_version": "1.2.0",
          "state": {
            "_model_module": "@jupyter-widgets/base",
            "_model_module_version": "1.2.0",
            "_model_name": "LayoutModel",
            "_view_count": null,
            "_view_module": "@jupyter-widgets/base",
            "_view_module_version": "1.2.0",
            "_view_name": "LayoutView",
            "align_content": null,
            "align_items": null,
            "align_self": null,
            "border": null,
            "bottom": null,
            "display": null,
            "flex": null,
            "flex_flow": null,
            "grid_area": null,
            "grid_auto_columns": null,
            "grid_auto_flow": null,
            "grid_auto_rows": null,
            "grid_column": null,
            "grid_gap": null,
            "grid_row": null,
            "grid_template_areas": null,
            "grid_template_columns": null,
            "grid_template_rows": null,
            "height": null,
            "justify_content": null,
            "justify_items": null,
            "left": null,
            "margin": null,
            "max_height": null,
            "max_width": null,
            "min_height": null,
            "min_width": null,
            "object_fit": null,
            "object_position": null,
            "order": null,
            "overflow": null,
            "overflow_x": null,
            "overflow_y": null,
            "padding": null,
            "right": null,
            "top": null,
            "visibility": null,
            "width": null
          }
        },
        "2aa812874ab845ae83e41c45a30c1ee6": {
          "model_module": "algorithmx-jupyter",
          "model_name": "AlgorithmXModel",
          "model_module_version": "^3.0.0",
          "state": {
            "_dom_classes": [],
            "_model_module": "algorithmx-jupyter",
            "_model_module_version": "^3.0.0",
            "_model_name": "AlgorithmXModel",
            "_view_count": null,
            "_view_module": "algorithmx-jupyter",
            "_view_module_version": "^3.0.0",
            "_view_name": "AlgorithmXView",
            "events": [
              "{\"attrs\": {\"nodes\": {\"0\": {\"color\": \"orange\"}, \"1\": {\"color\": \"orange\"}, \"2\": {\"color\": \"orange\"}, \"3\": {\"color\": \"orange\"}, \"4\": {\"color\": \"orange\"}, \"5\": {\"color\": \"orange\"}, \"6\": {\"color\": \"orange\"}, \"7\": {\"color\": \"orange\"}, \"8\": {\"color\": \"orange\"}, \"9\": {\"color\": \"orange\"}, \"10\": {\"color\": \"orange\"}, \"11\": {\"color\": \"orange\"}, \"12\": {\"color\": \"orange\"}, \"13\": {\"color\": \"orange\"}, \"14\": {\"color\": \"orange\"}, \"15\": {\"color\": \"orange\"}, \"16\": {\"color\": \"orange\"}, \"17\": {\"color\": \"orange\"}, \"18\": {\"color\": \"orange\"}, \"19\": {\"color\": \"orange\"}, \"20\": {\"color\": \"orange\"}, \"21\": {\"color\": \"orange\"}, \"22\": {\"color\": \"orange\"}, \"23\": {\"color\": \"orange\"}, \"24\": {\"color\": \"orange\"}, \"25\": {\"color\": \"orange\"}, \"26\": {\"color\": \"orange\"}, \"27\": {\"color\": \"orange\"}, \"28\": {\"color\": \"orange\"}, \"29\": {\"color\": \"orange\"}, \"30\": {\"color\": \"orange\"}, \"31\": {\"color\": \"orange\"}, \"32\": {\"color\": \"orange\"}, \"33\": {\"color\": \"orange\"}}}}",
              "{\"attrs\": {\"edges\": {\"0-1\": {\"source\": \"0\", \"target\": \"1\"}, \"0-2\": {\"source\": \"0\", \"target\": \"2\"}, \"0-3\": {\"source\": \"0\", \"target\": \"3\"}, \"0-4\": {\"source\": \"0\", \"target\": \"4\"}, \"0-5\": {\"source\": \"0\", \"target\": \"5\"}, \"0-6\": {\"source\": \"0\", \"target\": \"6\"}, \"0-7\": {\"source\": \"0\", \"target\": \"7\"}, \"0-8\": {\"source\": \"0\", \"target\": \"8\"}, \"0-10\": {\"source\": \"0\", \"target\": \"10\"}, \"0-11\": {\"source\": \"0\", \"target\": \"11\"}, \"0-12\": {\"source\": \"0\", \"target\": \"12\"}, \"0-13\": {\"source\": \"0\", \"target\": \"13\"}, \"0-17\": {\"source\": \"0\", \"target\": \"17\"}, \"0-19\": {\"source\": \"0\", \"target\": \"19\"}, \"0-21\": {\"source\": \"0\", \"target\": \"21\"}, \"0-31\": {\"source\": \"0\", \"target\": \"31\"}, \"1-2\": {\"source\": \"1\", \"target\": \"2\"}, \"1-3\": {\"source\": \"1\", \"target\": \"3\"}, \"1-7\": {\"source\": \"1\", \"target\": \"7\"}, \"1-13\": {\"source\": \"1\", \"target\": \"13\"}, \"1-17\": {\"source\": \"1\", \"target\": \"17\"}, \"1-19\": {\"source\": \"1\", \"target\": \"19\"}, \"1-21\": {\"source\": \"1\", \"target\": \"21\"}, \"1-30\": {\"source\": \"1\", \"target\": \"30\"}, \"2-3\": {\"source\": \"2\", \"target\": \"3\"}, \"2-7\": {\"source\": \"2\", \"target\": \"7\"}, \"2-8\": {\"source\": \"2\", \"target\": \"8\"}, \"2-9\": {\"source\": \"2\", \"target\": \"9\"}, \"2-13\": {\"source\": \"2\", \"target\": \"13\"}, \"2-27\": {\"source\": \"2\", \"target\": \"27\"}, \"2-28\": {\"source\": \"2\", \"target\": \"28\"}, \"2-32\": {\"source\": \"2\", \"target\": \"32\"}, \"3-7\": {\"source\": \"3\", \"target\": \"7\"}, \"3-12\": {\"source\": \"3\", \"target\": \"12\"}, \"3-13\": {\"source\": \"3\", \"target\": \"13\"}, \"4-6\": {\"source\": \"4\", \"target\": \"6\"}, \"4-10\": {\"source\": \"4\", \"target\": \"10\"}, \"5-6\": {\"source\": \"5\", \"target\": \"6\"}, \"5-10\": {\"source\": \"5\", \"target\": \"10\"}, \"5-16\": {\"source\": \"5\", \"target\": \"16\"}, \"6-16\": {\"source\": \"6\", \"target\": \"16\"}, \"8-30\": {\"source\": \"8\", \"target\": \"30\"}, \"8-32\": {\"source\": \"8\", \"target\": \"32\"}, \"8-33\": {\"source\": \"8\", \"target\": \"33\"}, \"9-33\": {\"source\": \"9\", \"target\": \"33\"}, \"13-33\": {\"source\": \"13\", \"target\": \"33\"}, \"14-32\": {\"source\": \"14\", \"target\": \"32\"}, \"14-33\": {\"source\": \"14\", \"target\": \"33\"}, \"15-32\": {\"source\": \"15\", \"target\": \"32\"}, \"15-33\": {\"source\": \"15\", \"target\": \"33\"}, \"18-32\": {\"source\": \"18\", \"target\": \"32\"}, \"18-33\": {\"source\": \"18\", \"target\": \"33\"}, \"19-33\": {\"source\": \"19\", \"target\": \"33\"}, \"20-32\": {\"source\": \"20\", \"target\": \"32\"}, \"20-33\": {\"source\": \"20\", \"target\": \"33\"}, \"22-32\": {\"source\": \"22\", \"target\": \"32\"}, \"22-33\": {\"source\": \"22\", \"target\": \"33\"}, \"23-25\": {\"source\": \"23\", \"target\": \"25\"}, \"23-27\": {\"source\": \"23\", \"target\": \"27\"}, \"23-29\": {\"source\": \"23\", \"target\": \"29\"}, \"23-32\": {\"source\": \"23\", \"target\": \"32\"}, \"23-33\": {\"source\": \"23\", \"target\": \"33\"}, \"24-25\": {\"source\": \"24\", \"target\": \"25\"}, \"24-27\": {\"source\": \"24\", \"target\": \"27\"}, \"24-31\": {\"source\": \"24\", \"target\": \"31\"}, \"25-31\": {\"source\": \"25\", \"target\": \"31\"}, \"26-29\": {\"source\": \"26\", \"target\": \"29\"}, \"26-33\": {\"source\": \"26\", \"target\": \"33\"}, \"27-33\": {\"source\": \"27\", \"target\": \"33\"}, \"28-31\": {\"source\": \"28\", \"target\": \"31\"}, \"28-33\": {\"source\": \"28\", \"target\": \"33\"}, \"29-32\": {\"source\": \"29\", \"target\": \"32\"}, \"29-33\": {\"source\": \"29\", \"target\": \"33\"}, \"30-32\": {\"source\": \"30\", \"target\": \"32\"}, \"30-33\": {\"source\": \"30\", \"target\": \"33\"}, \"31-32\": {\"source\": \"31\", \"target\": \"32\"}, \"31-33\": {\"source\": \"31\", \"target\": \"33\"}, \"32-33\": {\"source\": \"32\", \"target\": \"33\"}}}}"
            ],
            "layout": "IPY_MODEL_29d716aa951e4a9aaa86b359581c4429",
            "show_buttons": false
          }
        },
        "29d716aa951e4a9aaa86b359581c4429": {
          "model_module": "@jupyter-widgets/base",
          "model_name": "LayoutModel",
          "model_module_version": "1.2.0",
          "state": {
            "_model_module": "@jupyter-widgets/base",
            "_model_module_version": "1.2.0",
            "_model_name": "LayoutModel",
            "_view_count": null,
            "_view_module": "@jupyter-widgets/base",
            "_view_module_version": "1.2.0",
            "_view_name": "LayoutView",
            "align_content": null,
            "align_items": null,
            "align_self": null,
            "border": null,
            "bottom": null,
            "display": null,
            "flex": null,
            "flex_flow": null,
            "grid_area": null,
            "grid_auto_columns": null,
            "grid_auto_flow": null,
            "grid_auto_rows": null,
            "grid_column": null,
            "grid_gap": null,
            "grid_row": null,
            "grid_template_areas": null,
            "grid_template_columns": null,
            "grid_template_rows": null,
            "height": null,
            "justify_content": null,
            "justify_items": null,
            "left": null,
            "margin": null,
            "max_height": null,
            "max_width": null,
            "min_height": null,
            "min_width": null,
            "object_fit": null,
            "object_position": null,
            "order": null,
            "overflow": null,
            "overflow_x": null,
            "overflow_y": null,
            "padding": null,
            "right": null,
            "top": null,
            "visibility": null,
            "width": null
          }
        },
        "53e34bbdde874cbf8af3bbb50102785d": {
          "model_module": "algorithmx-jupyter",
          "model_name": "AlgorithmXModel",
          "model_module_version": "^3.0.0",
          "state": {
            "_dom_classes": [],
            "_model_module": "algorithmx-jupyter",
            "_model_module_version": "^3.0.0",
            "_model_name": "AlgorithmXModel",
            "_view_count": null,
            "_view_module": "algorithmx-jupyter",
            "_view_module_version": "^3.0.0",
            "_view_name": "AlgorithmXView",
            "events": [
              "{\"attrs\": {\"nodes\": {\"A\": {\"color\": \"orange\"}, \"B\": {\"color\": \"orange\"}, \"C\": {\"color\": \"orange\"}, \"D\": {\"color\": \"orange\"}, \"E\": {\"color\": \"orange\"}, \"1\": {\"color\": \"orange\"}, \"2\": {\"color\": \"orange\"}, \"3\": {\"color\": \"orange\"}, \"4\": {\"color\": \"orange\"}}}}",
              "{\"attrs\": {\"edges\": {\"A-1\": {\"source\": \"A\", \"target\": \"1\"}, \"A-2\": {\"source\": \"A\", \"target\": \"2\"}, \"B-2\": {\"source\": \"B\", \"target\": \"2\"}, \"C-2\": {\"source\": \"C\", \"target\": \"2\"}, \"C-3\": {\"source\": \"C\", \"target\": \"3\"}, \"D-3\": {\"source\": \"D\", \"target\": \"3\"}, \"D-4\": {\"source\": \"D\", \"target\": \"4\"}, \"E-4\": {\"source\": \"E\", \"target\": \"4\"}}}}"
            ],
            "layout": "IPY_MODEL_3f395c0f5ff74abd834b0e801af9c88e",
            "show_buttons": false
          }
        },
        "3f395c0f5ff74abd834b0e801af9c88e": {
          "model_module": "@jupyter-widgets/base",
          "model_name": "LayoutModel",
          "model_module_version": "1.2.0",
          "state": {
            "_model_module": "@jupyter-widgets/base",
            "_model_module_version": "1.2.0",
            "_model_name": "LayoutModel",
            "_view_count": null,
            "_view_module": "@jupyter-widgets/base",
            "_view_module_version": "1.2.0",
            "_view_name": "LayoutView",
            "align_content": null,
            "align_items": null,
            "align_self": null,
            "border": null,
            "bottom": null,
            "display": null,
            "flex": null,
            "flex_flow": null,
            "grid_area": null,
            "grid_auto_columns": null,
            "grid_auto_flow": null,
            "grid_auto_rows": null,
            "grid_column": null,
            "grid_gap": null,
            "grid_row": null,
            "grid_template_areas": null,
            "grid_template_columns": null,
            "grid_template_rows": null,
            "height": null,
            "justify_content": null,
            "justify_items": null,
            "left": null,
            "margin": null,
            "max_height": null,
            "max_width": null,
            "min_height": null,
            "min_width": null,
            "object_fit": null,
            "object_position": null,
            "order": null,
            "overflow": null,
            "overflow_x": null,
            "overflow_y": null,
            "padding": null,
            "right": null,
            "top": null,
            "visibility": null,
            "width": null
          }
        },
        "8a19e038b3ba42bca227f408b9039fbb": {
          "model_module": "algorithmx-jupyter",
          "model_name": "AlgorithmXModel",
          "model_module_version": "^3.0.0",
          "state": {
            "_dom_classes": [],
            "_model_module": "algorithmx-jupyter",
            "_model_module_version": "^3.0.0",
            "_model_name": "AlgorithmXModel",
            "_view_count": null,
            "_view_module": "algorithmx-jupyter",
            "_view_module_version": "^3.0.0",
            "_view_name": "AlgorithmXView",
            "events": [
              "{\"attrs\": {\"nodes\": {\"0\": {\"color\": \"orange\"}, \"1\": {\"color\": \"orange\"}, \"3\": {\"color\": \"orange\"}, \"4\": {\"color\": \"orange\"}, \"5\": {\"color\": \"orange\"}, \"6\": {\"color\": \"orange\"}, \"7\": {\"color\": \"orange\"}, \"10\": {\"color\": \"orange\"}, \"11\": {\"color\": \"orange\"}, \"12\": {\"color\": \"orange\"}, \"13\": {\"color\": \"orange\"}, \"16\": {\"color\": \"orange\"}, \"17\": {\"color\": \"orange\"}, \"19\": {\"color\": \"orange\"}, \"21\": {\"color\": \"orange\"}}}}",
              "{\"attrs\": {\"edges\": {\"0-1\": {\"source\": \"0\", \"target\": \"1\"}, \"0-3\": {\"source\": \"0\", \"target\": \"3\"}, \"0-4\": {\"source\": \"0\", \"target\": \"4\"}, \"0-5\": {\"source\": \"0\", \"target\": \"5\"}, \"0-6\": {\"source\": \"0\", \"target\": \"6\"}, \"0-7\": {\"source\": \"0\", \"target\": \"7\"}, \"0-10\": {\"source\": \"0\", \"target\": \"10\"}, \"0-11\": {\"source\": \"0\", \"target\": \"11\"}, \"0-12\": {\"source\": \"0\", \"target\": \"12\"}, \"0-13\": {\"source\": \"0\", \"target\": \"13\"}, \"0-17\": {\"source\": \"0\", \"target\": \"17\"}, \"0-19\": {\"source\": \"0\", \"target\": \"19\"}, \"0-21\": {\"source\": \"0\", \"target\": \"21\"}, \"1-3\": {\"source\": \"1\", \"target\": \"3\"}, \"1-7\": {\"source\": \"1\", \"target\": \"7\"}, \"1-13\": {\"source\": \"1\", \"target\": \"13\"}, \"1-17\": {\"source\": \"1\", \"target\": \"17\"}, \"1-19\": {\"source\": \"1\", \"target\": \"19\"}, \"1-21\": {\"source\": \"1\", \"target\": \"21\"}, \"3-7\": {\"source\": \"3\", \"target\": \"7\"}, \"3-12\": {\"source\": \"3\", \"target\": \"12\"}, \"3-13\": {\"source\": \"3\", \"target\": \"13\"}, \"4-6\": {\"source\": \"4\", \"target\": \"6\"}, \"4-10\": {\"source\": \"4\", \"target\": \"10\"}, \"5-6\": {\"source\": \"5\", \"target\": \"6\"}, \"5-10\": {\"source\": \"5\", \"target\": \"10\"}, \"5-16\": {\"source\": \"5\", \"target\": \"16\"}, \"6-16\": {\"source\": \"6\", \"target\": \"16\"}}}}"
            ],
            "layout": "IPY_MODEL_1de83bd64e68438394bd157654aa431e",
            "show_buttons": false
          }
        },
        "1de83bd64e68438394bd157654aa431e": {
          "model_module": "@jupyter-widgets/base",
          "model_name": "LayoutModel",
          "model_module_version": "1.2.0",
          "state": {
            "_model_module": "@jupyter-widgets/base",
            "_model_module_version": "1.2.0",
            "_model_name": "LayoutModel",
            "_view_count": null,
            "_view_module": "@jupyter-widgets/base",
            "_view_module_version": "1.2.0",
            "_view_name": "LayoutView",
            "align_content": null,
            "align_items": null,
            "align_self": null,
            "border": null,
            "bottom": null,
            "display": null,
            "flex": null,
            "flex_flow": null,
            "grid_area": null,
            "grid_auto_columns": null,
            "grid_auto_flow": null,
            "grid_auto_rows": null,
            "grid_column": null,
            "grid_gap": null,
            "grid_row": null,
            "grid_template_areas": null,
            "grid_template_columns": null,
            "grid_template_rows": null,
            "height": null,
            "justify_content": null,
            "justify_items": null,
            "left": null,
            "margin": null,
            "max_height": null,
            "max_width": null,
            "min_height": null,
            "min_width": null,
            "object_fit": null,
            "object_position": null,
            "order": null,
            "overflow": null,
            "overflow_x": null,
            "overflow_y": null,
            "padding": null,
            "right": null,
            "top": null,
            "visibility": null,
            "width": null
          }
        },
        "653acb4bf1bb4e198f527c0cdacc3af2": {
          "model_module": "algorithmx-jupyter",
          "model_name": "AlgorithmXModel",
          "model_module_version": "^3.0.0",
          "state": {
            "_dom_classes": [],
            "_model_module": "algorithmx-jupyter",
            "_model_module_version": "^3.0.0",
            "_model_name": "AlgorithmXModel",
            "_view_count": null,
            "_view_module": "algorithmx-jupyter",
            "_view_module_version": "^3.0.0",
            "_view_name": "AlgorithmXView",
            "events": [
              "{\"attrs\": {\"nodes\": {\"0\": {\"color\": \"orange\"}, \"1\": {\"color\": \"orange\"}, \"2\": {\"color\": \"orange\"}, \"3\": {\"color\": \"orange\"}, \"4\": {\"color\": \"orange\"}, \"5\": {\"color\": \"orange\"}, \"6\": {\"color\": \"orange\"}, \"7\": {\"color\": \"orange\"}, \"8\": {\"color\": \"orange\"}, \"9\": {\"color\": \"orange\"}, \"10\": {\"color\": \"orange\"}, \"11\": {\"color\": \"orange\"}, \"12\": {\"color\": \"orange\"}, \"13\": {\"color\": \"orange\"}, \"14\": {\"color\": \"orange\"}, \"15\": {\"color\": \"orange\"}, \"16\": {\"color\": \"orange\"}, \"17\": {\"color\": \"orange\"}, \"18\": {\"color\": \"orange\"}, \"19\": {\"color\": \"orange\"}, \"20\": {\"color\": \"orange\"}, \"21\": {\"color\": \"orange\"}, \"22\": {\"color\": \"orange\"}, \"23\": {\"color\": \"orange\"}, \"24\": {\"color\": \"orange\"}, \"25\": {\"color\": \"orange\"}, \"26\": {\"color\": \"orange\"}, \"27\": {\"color\": \"orange\"}, \"28\": {\"color\": \"orange\"}, \"29\": {\"color\": \"orange\"}, \"30\": {\"color\": \"orange\"}, \"31\": {\"color\": \"orange\"}, \"32\": {\"color\": \"orange\"}, \"33\": {\"color\": \"orange\"}, \"34\": {\"color\": \"orange\"}, \"35\": {\"color\": \"orange\"}, \"36\": {\"color\": \"orange\"}, \"37\": {\"color\": \"orange\"}, \"38\": {\"color\": \"orange\"}, \"39\": {\"color\": \"orange\"}, \"40\": {\"color\": \"orange\"}, \"41\": {\"color\": \"orange\"}, \"42\": {\"color\": \"orange\"}, \"43\": {\"color\": \"orange\"}, \"44\": {\"color\": \"orange\"}, \"45\": {\"color\": \"orange\"}, \"46\": {\"color\": \"orange\"}, \"47\": {\"color\": \"orange\"}, \"48\": {\"color\": \"orange\"}, \"49\": {\"color\": \"orange\"}}}}",
              "{\"attrs\": {\"edges\": {\"0-5\": {\"source\": \"0\", \"target\": \"5\"}, \"0-7\": {\"source\": \"0\", \"target\": \"7\"}, \"0-8\": {\"source\": \"0\", \"target\": \"8\"}, \"0-17\": {\"source\": \"0\", \"target\": \"17\"}, \"0-21\": {\"source\": \"0\", \"target\": \"21\"}, \"0-24\": {\"source\": \"0\", \"target\": \"24\"}, \"0-34\": {\"source\": \"0\", \"target\": \"34\"}, \"0-35\": {\"source\": \"0\", \"target\": \"35\"}, \"0-41\": {\"source\": \"0\", \"target\": \"41\"}, \"1-2\": {\"source\": \"1\", \"target\": \"2\"}, \"1-8\": {\"source\": \"1\", \"target\": \"8\"}, \"1-12\": {\"source\": \"1\", \"target\": \"12\"}, \"1-13\": {\"source\": \"1\", \"target\": \"13\"}, \"1-32\": {\"source\": \"1\", \"target\": \"32\"}, \"1-36\": {\"source\": \"1\", \"target\": \"36\"}, \"1-40\": {\"source\": \"1\", \"target\": \"40\"}, \"1-46\": {\"source\": \"1\", \"target\": \"46\"}, \"2-3\": {\"source\": \"2\", \"target\": \"3\"}, \"2-6\": {\"source\": \"2\", \"target\": \"6\"}, \"2-16\": {\"source\": \"2\", \"target\": \"16\"}, \"2-22\": {\"source\": \"2\", \"target\": \"22\"}, \"2-24\": {\"source\": \"2\", \"target\": \"24\"}, \"2-27\": {\"source\": \"2\", \"target\": \"27\"}, \"2-32\": {\"source\": \"2\", \"target\": \"32\"}, \"2-34\": {\"source\": \"2\", \"target\": \"34\"}, \"2-45\": {\"source\": \"2\", \"target\": \"45\"}, \"3-9\": {\"source\": \"3\", \"target\": \"9\"}, \"3-19\": {\"source\": \"3\", \"target\": \"19\"}, \"4-16\": {\"source\": \"4\", \"target\": \"16\"}, \"4-19\": {\"source\": \"4\", \"target\": \"19\"}, \"4-20\": {\"source\": \"4\", \"target\": \"20\"}, \"4-43\": {\"source\": \"4\", \"target\": \"43\"}, \"4-48\": {\"source\": \"4\", \"target\": \"48\"}, \"5-12\": {\"source\": \"5\", \"target\": \"12\"}, \"5-13\": {\"source\": \"5\", \"target\": \"13\"}, \"5-25\": {\"source\": \"5\", \"target\": \"25\"}, \"5-26\": {\"source\": \"5\", \"target\": \"26\"}, \"5-32\": {\"source\": \"5\", \"target\": \"32\"}, \"5-35\": {\"source\": \"5\", \"target\": \"35\"}, \"5-41\": {\"source\": \"5\", \"target\": \"41\"}, \"6-10\": {\"source\": \"6\", \"target\": \"10\"}, \"6-19\": {\"source\": \"6\", \"target\": \"19\"}, \"6-20\": {\"source\": \"6\", \"target\": \"20\"}, \"6-44\": {\"source\": \"6\", \"target\": \"44\"}, \"6-48\": {\"source\": \"6\", \"target\": \"48\"}, \"7-21\": {\"source\": \"7\", \"target\": \"21\"}, \"7-39\": {\"source\": \"7\", \"target\": \"39\"}, \"8-18\": {\"source\": \"8\", \"target\": \"18\"}, \"8-35\": {\"source\": \"8\", \"target\": \"35\"}, \"8-36\": {\"source\": \"8\", \"target\": \"36\"}, \"8-46\": {\"source\": \"8\", \"target\": \"46\"}, \"9-33\": {\"source\": \"9\", \"target\": \"33\"}, \"9-39\": {\"source\": \"9\", \"target\": \"39\"}, \"9-49\": {\"source\": \"9\", \"target\": \"49\"}, \"10-14\": {\"source\": \"10\", \"target\": \"14\"}, \"10-23\": {\"source\": \"10\", \"target\": \"23\"}, \"10-35\": {\"source\": \"10\", \"target\": \"35\"}, \"10-39\": {\"source\": \"10\", \"target\": \"39\"}, \"10-41\": {\"source\": \"10\", \"target\": \"41\"}, \"10-42\": {\"source\": \"10\", \"target\": \"42\"}, \"10-47\": {\"source\": \"10\", \"target\": \"47\"}, \"11-14\": {\"source\": \"11\", \"target\": \"14\"}, \"11-26\": {\"source\": \"11\", \"target\": \"26\"}, \"11-30\": {\"source\": \"11\", \"target\": \"30\"}, \"11-43\": {\"source\": \"11\", \"target\": \"43\"}, \"12-22\": {\"source\": \"12\", \"target\": \"22\"}, \"12-34\": {\"source\": \"12\", \"target\": \"34\"}, \"13-19\": {\"source\": \"13\", \"target\": \"19\"}, \"13-22\": {\"source\": \"13\", \"target\": \"22\"}, \"13-39\": {\"source\": \"13\", \"target\": \"39\"}, \"13-42\": {\"source\": \"13\", \"target\": \"42\"}, \"13-44\": {\"source\": \"13\", \"target\": \"44\"}, \"14-31\": {\"source\": \"14\", \"target\": \"31\"}, \"14-34\": {\"source\": \"14\", \"target\": \"34\"}, \"14-39\": {\"source\": \"14\", \"target\": \"39\"}, \"14-45\": {\"source\": \"14\", \"target\": \"45\"}, \"14-48\": {\"source\": \"14\", \"target\": \"48\"}, \"14-49\": {\"source\": \"14\", \"target\": \"49\"}, \"15-18\": {\"source\": \"15\", \"target\": \"18\"}, \"15-20\": {\"source\": \"15\", \"target\": \"20\"}, \"15-24\": {\"source\": \"15\", \"target\": \"24\"}, \"15-34\": {\"source\": \"15\", \"target\": \"34\"}, \"15-35\": {\"source\": \"15\", \"target\": \"35\"}, \"15-36\": {\"source\": \"15\", \"target\": \"36\"}, \"15-49\": {\"source\": \"15\", \"target\": \"49\"}, \"16-30\": {\"source\": \"16\", \"target\": \"30\"}, \"16-33\": {\"source\": \"16\", \"target\": \"33\"}, \"16-36\": {\"source\": \"16\", \"target\": \"36\"}, \"16-37\": {\"source\": \"16\", \"target\": \"37\"}, \"17-27\": {\"source\": \"17\", \"target\": \"27\"}, \"17-40\": {\"source\": \"17\", \"target\": \"40\"}, \"17-41\": {\"source\": \"17\", \"target\": \"41\"}, \"17-42\": {\"source\": \"17\", \"target\": \"42\"}, \"17-44\": {\"source\": \"17\", \"target\": \"44\"}, \"18-28\": {\"source\": \"18\", \"target\": \"28\"}, \"18-36\": {\"source\": \"18\", \"target\": \"36\"}, \"19-22\": {\"source\": \"19\", \"target\": \"22\"}, \"19-39\": {\"source\": \"19\", \"target\": \"39\"}, \"20-30\": {\"source\": \"20\", \"target\": \"30\"}, \"21-26\": {\"source\": \"21\", \"target\": \"26\"}, \"21-41\": {\"source\": \"21\", \"target\": \"41\"}, \"21-47\": {\"source\": \"21\", \"target\": \"47\"}, \"22-27\": {\"source\": \"22\", \"target\": \"27\"}, \"22-29\": {\"source\": \"22\", \"target\": \"29\"}, \"22-35\": {\"source\": \"22\", \"target\": \"35\"}, \"23-30\": {\"source\": \"23\", \"target\": \"30\"}, \"23-44\": {\"source\": \"23\", \"target\": \"44\"}, \"23-48\": {\"source\": \"23\", \"target\": \"48\"}, \"24-25\": {\"source\": \"24\", \"target\": \"25\"}, \"24-41\": {\"source\": \"24\", \"target\": \"41\"}, \"24-43\": {\"source\": \"24\", \"target\": \"43\"}, \"24-44\": {\"source\": \"24\", \"target\": \"44\"}, \"25-31\": {\"source\": \"25\", \"target\": \"31\"}, \"25-34\": {\"source\": \"25\", \"target\": \"34\"}, \"25-38\": {\"source\": \"25\", \"target\": \"38\"}, \"25-41\": {\"source\": \"25\", \"target\": \"41\"}, \"27-35\": {\"source\": \"27\", \"target\": \"35\"}, \"27-49\": {\"source\": \"27\", \"target\": \"49\"}, \"28-45\": {\"source\": \"28\", \"target\": \"45\"}, \"29-31\": {\"source\": \"29\", \"target\": \"31\"}, \"29-34\": {\"source\": \"29\", \"target\": \"34\"}, \"29-43\": {\"source\": \"29\", \"target\": \"43\"}, \"29-44\": {\"source\": \"29\", \"target\": \"44\"}, \"31-32\": {\"source\": \"31\", \"target\": \"32\"}, \"31-40\": {\"source\": \"31\", \"target\": \"40\"}, \"31-47\": {\"source\": \"31\", \"target\": \"47\"}, \"32-45\": {\"source\": \"32\", \"target\": \"45\"}, \"33-37\": {\"source\": \"33\", \"target\": \"37\"}, \"33-45\": {\"source\": \"33\", \"target\": \"45\"}, \"34-37\": {\"source\": \"34\", \"target\": \"37\"}, \"34-46\": {\"source\": \"34\", \"target\": \"46\"}, \"35-39\": {\"source\": \"35\", \"target\": \"39\"}, \"35-41\": {\"source\": \"35\", \"target\": \"41\"}, \"35-44\": {\"source\": \"35\", \"target\": \"44\"}, \"36-44\": {\"source\": \"36\", \"target\": \"44\"}, \"37-46\": {\"source\": \"37\", \"target\": \"46\"}, \"39-45\": {\"source\": \"39\", \"target\": \"45\"}, \"40-43\": {\"source\": \"40\", \"target\": \"43\"}, \"40-45\": {\"source\": \"40\", \"target\": \"45\"}, \"42-43\": {\"source\": \"42\", \"target\": \"43\"}, \"42-49\": {\"source\": \"42\", \"target\": \"49\"}, \"43-48\": {\"source\": \"43\", \"target\": \"48\"}, \"43-49\": {\"source\": \"43\", \"target\": \"49\"}, \"44-47\": {\"source\": \"44\", \"target\": \"47\"}, \"45-46\": {\"source\": \"45\", \"target\": \"46\"}, \"45-48\": {\"source\": \"45\", \"target\": \"48\"}}}}"
            ],
            "layout": "IPY_MODEL_9d83650120e54548b4298360b9e6c084",
            "show_buttons": false
          }
        },
        "9d83650120e54548b4298360b9e6c084": {
          "model_module": "@jupyter-widgets/base",
          "model_name": "LayoutModel",
          "model_module_version": "1.2.0",
          "state": {
            "_model_module": "@jupyter-widgets/base",
            "_model_module_version": "1.2.0",
            "_model_name": "LayoutModel",
            "_view_count": null,
            "_view_module": "@jupyter-widgets/base",
            "_view_module_version": "1.2.0",
            "_view_name": "LayoutView",
            "align_content": null,
            "align_items": null,
            "align_self": null,
            "border": null,
            "bottom": null,
            "display": null,
            "flex": null,
            "flex_flow": null,
            "grid_area": null,
            "grid_auto_columns": null,
            "grid_auto_flow": null,
            "grid_auto_rows": null,
            "grid_column": null,
            "grid_gap": null,
            "grid_row": null,
            "grid_template_areas": null,
            "grid_template_columns": null,
            "grid_template_rows": null,
            "height": null,
            "justify_content": null,
            "justify_items": null,
            "left": null,
            "margin": null,
            "max_height": null,
            "max_width": null,
            "min_height": null,
            "min_width": null,
            "object_fit": null,
            "object_position": null,
            "order": null,
            "overflow": null,
            "overflow_x": null,
            "overflow_y": null,
            "padding": null,
            "right": null,
            "top": null,
            "visibility": null,
            "width": null
          }
        }
      }
    }
  },
  "nbformat": 4,
  "nbformat_minor": 0
}